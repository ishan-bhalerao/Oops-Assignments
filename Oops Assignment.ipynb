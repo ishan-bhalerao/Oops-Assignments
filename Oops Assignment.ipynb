{
 "cells": [
  {
   "cell_type": "markdown",
   "id": "c16ced44-dcf8-4088-bd64-15f05b93f98f",
   "metadata": {},
   "source": [
    "Constructor"
   ]
  },
  {
   "cell_type": "code",
   "execution_count": 1,
   "id": "b697aee8-eaad-435a-baf3-f257b71a3fa9",
   "metadata": {},
   "outputs": [
    {
     "data": {
      "text/plain": [
       "'In Python. Constructors are generally used for instantiating an object. \\nThe task of constructors is to initialize(assign values) to the data members of the class when an object of class is created.\\nIn Python the __init__() method is called the constructor and is always called when an object is created.'"
      ]
     },
     "execution_count": 1,
     "metadata": {},
     "output_type": "execute_result"
    }
   ],
   "source": [
    "#1. What is a constructor in Python? Explain its purpose and usage.\n",
    "\n",
    "'''In Python. Constructors are generally used for instantiating an object. \n",
    "The task of constructors is to initialize(assign values) to the data members of the class when an object of class is created.\n",
    "In Python the __init__() method is called the constructor and is always called when an object is created.'''"
   ]
  },
  {
   "cell_type": "code",
   "execution_count": 2,
   "id": "9c990227-fbf8-4062-8b25-013761bf296e",
   "metadata": {},
   "outputs": [
    {
     "data": {
      "text/plain": [
       "'Parameterized Constructor: A parameterized constructor is a constructor that takes one or more arguments. It is used to create an object with custom values for its attributes. Non-Parameterized Constructor: A non-parameterized constructor is a constructor that does not take any arguments.'"
      ]
     },
     "execution_count": 2,
     "metadata": {},
     "output_type": "execute_result"
    }
   ],
   "source": [
    "#2.Differentiate between a parameterless constructor and a parameterized constructor in Python.\n",
    "'''Parameterized Constructor: A parameterized constructor is a constructor that takes one or more arguments. It is used to create an object with custom values for its attributes. Non-Parameterized Constructor: A non-parameterized constructor is a constructor that does not take any arguments.'''"
   ]
  },
  {
   "cell_type": "code",
   "execution_count": 3,
   "id": "7228c7c6-9e58-4979-8c1d-804b18f332b7",
   "metadata": {},
   "outputs": [
    {
     "name": "stdout",
     "output_type": "stream",
     "text": [
      "This is constructor\n"
     ]
    }
   ],
   "source": [
    "#3. How do you define a constructor in a Python class? Provide an example.\n",
    "class test:\n",
    "    \n",
    "    def __init__(self):\n",
    "        print(\"This is constructor\")\n",
    "        \n",
    "t1=test()\n"
   ]
  },
  {
   "cell_type": "code",
   "execution_count": 4,
   "id": "005ed940-cf5c-410d-ae05-a81bde6ac18e",
   "metadata": {},
   "outputs": [
    {
     "data": {
      "text/plain": [
       "\"The python __init__ method is declared within a class and is used to initialize the attributes of an object as soon as the object is formed. While giving the definition for an __init__(self) method, a default parameter, named 'self' is always passed in its argument. This self represents the object of the class itself.\""
      ]
     },
     "execution_count": 4,
     "metadata": {},
     "output_type": "execute_result"
    }
   ],
   "source": [
    "#4. Explain the `__init__` method in Python and its role in constructors.\n",
    "\n",
    "'''The python __init__ method is declared within a class and is used to initialize the attributes of an object as soon as the object is formed. While giving the definition for an __init__(self) method, a default parameter, named 'self' is always passed in its argument. This self represents the object of the class itself.'''"
   ]
  },
  {
   "cell_type": "code",
   "execution_count": 10,
   "id": "bba7662a-54b6-4698-aea3-daa9fdb13226",
   "metadata": {},
   "outputs": [
    {
     "name": "stdout",
     "output_type": "stream",
     "text": [
      "Name is:Ishan Age is:30\n"
     ]
    }
   ],
   "source": [
    "#5. In a class named `Person`, create a constructor that initializes the `name` and `age` attributes. Provide an\n",
    "#example of creating an object of this class.\n",
    "\n",
    "class person:\n",
    "    \n",
    "    def __init__(self,name,age):\n",
    "        self.name=name\n",
    "        self.age=age\n",
    "        \n",
    "    def details(self):\n",
    "        print(\"Name is:\"  + self.name + \" \" + \"Age is:\"  + self.age)\n",
    "        \n",
    "ishan=person(\"Ishan\",\"30\")\n",
    "ishan.details()"
   ]
  },
  {
   "cell_type": "code",
   "execution_count": 1,
   "id": "1d77433e-14ca-4eda-8054-55b798c2bdba",
   "metadata": {},
   "outputs": [
    {
     "name": "stdout",
     "output_type": "stream",
     "text": [
      "Name is:Ishan Age is:30\n"
     ]
    }
   ],
   "source": [
    "#6. How can you call a constructor explicitly in Python? Give an example.\n",
    "class person:\n",
    "    \n",
    "    def __init__(self,name,age):\n",
    "        self.name=name\n",
    "        self.age=age\n",
    "        \n",
    "    def details(self):\n",
    "        print(\"Name is:\"  + self.name + \" \" + \"Age is:\"  + self.age)\n",
    "        \n",
    "ishan=person(\"Ishan\",\"30\")\n",
    "ishan.details()\n"
   ]
  },
  {
   "cell_type": "code",
   "execution_count": 2,
   "id": "690095d7-3de5-43e4-bd4c-27221c34ee44",
   "metadata": {},
   "outputs": [
    {
     "data": {
      "text/plain": [
       "\"The self is used to represent the instance of the class.\\nWith this keyword, you can access the attributes and methods of the class in python. It binds the attributes with the given arguments. The reason why we use self is that Python does not use the '@' syntax to refer to instance attributes\""
      ]
     },
     "execution_count": 2,
     "metadata": {},
     "output_type": "execute_result"
    }
   ],
   "source": [
    "#7. What is the significance of the `self` parameter in Python constructors? Explain with an example.\n",
    "'''The self is used to represent the instance of the class.\n",
    "With this keyword, you can access the attributes and methods of the class in python. It binds the attributes with the given arguments. The reason why we use self is that Python does not use the '@' syntax to refer to instance attributes'''"
   ]
  },
  {
   "cell_type": "code",
   "execution_count": 3,
   "id": "24897b75-931d-49ee-8eab-f848c1c99b46",
   "metadata": {},
   "outputs": [
    {
     "data": {
      "text/plain": [
       "'Default Constructor: A default constructor is a constructor that takes no arguments. It is used to create an object with default values for its attributes. Parameterized Constructor: A parameterized constructor is a constructor that takes one or more arguments'"
      ]
     },
     "execution_count": 3,
     "metadata": {},
     "output_type": "execute_result"
    }
   ],
   "source": [
    "#8. Discuss the concept of default constructors in Python. When are they used?\n",
    "\n",
    "'''Default Constructor: A default constructor is a constructor that takes no arguments. It is used to create an object with default values for its attributes. Parameterized Constructor: A parameterized constructor is a constructor that takes one or more arguments'''"
   ]
  },
  {
   "cell_type": "code",
   "execution_count": 5,
   "id": "86e84ce9-d859-45ae-becc-7e960ae69a61",
   "metadata": {},
   "outputs": [
    {
     "data": {
      "text/plain": [
       "180"
      ]
     },
     "execution_count": 5,
     "metadata": {},
     "output_type": "execute_result"
    }
   ],
   "source": [
    "#9. Create a Python class called `Rectangle` with a constructor that initializes the `width` and `height`\n",
    "#attributes. Provide a method to calculate the area of the rectangle.\n",
    "\n",
    "class Rectangle:\n",
    "    \n",
    "    def __init__(self,width,height):\n",
    "        self.width=width\n",
    "        self.height=height\n",
    "        \n",
    "    def calculate_area(self):\n",
    "        return self.width *  self.height\n",
    "    \n",
    "r1=Rectangle(12,15)\n",
    "r1.calculate_area()"
   ]
  },
  {
   "cell_type": "code",
   "execution_count": 2,
   "id": "f367ca75-fa9e-490f-8940-49625c51cdc0",
   "metadata": {},
   "outputs": [],
   "source": [
    "#10. How can you have multiple constructors in a Python class? Explain with an example.\n",
    "\n",
    "class test:\n",
    "    \n",
    "    def __init__(self,*args):\n",
    "        \n",
    "        if len(args)==1:\n",
    "            self.name=args[0]\n",
    "            \n",
    "        elif len(args)==2:\n",
    "            self.name=args[0]\n",
    "            self.branch=args[1]\n",
    "            \n",
    "        elif len(args)==3:\n",
    "            self.name=args[0]\n",
    "            self.branch=args[1]\n",
    "            self.age=args[2]\n",
    "            \n",
    "    def show_details(self):\n",
    "        print(self.name, \" \",self.age, \" \",self.branch)\n",
    "            \n",
    "        \n",
    "    "
   ]
  },
  {
   "cell_type": "code",
   "execution_count": 3,
   "id": "3ab1be4d-057e-456b-af04-d66449fbef7b",
   "metadata": {},
   "outputs": [],
   "source": [
    "t1=test(\"Abhay\",\"FYBVOC\",19)"
   ]
  },
  {
   "cell_type": "code",
   "execution_count": 4,
   "id": "f9c1daa1-77dc-4451-a44a-f8a2e4429261",
   "metadata": {},
   "outputs": [
    {
     "name": "stdout",
     "output_type": "stream",
     "text": [
      "Abhay   19   FYBVOC\n"
     ]
    }
   ],
   "source": [
    "t1.show_details()"
   ]
  },
  {
   "cell_type": "code",
   "execution_count": 5,
   "id": "524dbe6b-47ad-437e-9ced-6de6dd267865",
   "metadata": {},
   "outputs": [
    {
     "data": {
      "text/plain": [
       "906"
      ]
     },
     "execution_count": 5,
     "metadata": {},
     "output_type": "execute_result"
    }
   ],
   "source": [
    "#11. What is method overloading, and how is it related to constructors in Python?\n",
    "\n",
    "class test:\n",
    "    def add(self,*args):\n",
    "        return sum(args)\n",
    "              \n",
    "t1=test()\n",
    "t2=test()\n",
    "t1.add(12,6)\n",
    "t2.add(102,16,23,54,677,34)"
   ]
  },
  {
   "cell_type": "code",
   "execution_count": 15,
   "id": "82bf60d0-afb4-4ad1-b4df-79851f8e797b",
   "metadata": {},
   "outputs": [
    {
     "name": "stdout",
     "output_type": "stream",
     "text": [
      "Ishan\n",
      "Ishan ishan.bhalerao18@gmail.com\n"
     ]
    }
   ],
   "source": [
    "#12. Explain the use of the `super()` function in Python constructors. Provide an example.\n",
    "\n",
    "class test:\n",
    "    def __init__(self,name):\n",
    "        self.name=name\n",
    "    \n",
    "    def show(self):\n",
    "        print(self.name)\n",
    "    \n",
    "class test1(test):\n",
    "    def __init__(self,name,mailid):\n",
    "        super().__init__(name)\n",
    "        self.mailid=mailid\n",
    "        \n",
    "    def show_details(self):\n",
    "        super().show()\n",
    "        print(self.name,self.mailid)\n",
    "        \n",
    "t1=test(\"Ishan\")\n",
    "t2=test1(\"Ishan\",\"ishan.bhalerao18@gmail.com\")\n",
    "t2.show_details()\n"
   ]
  },
  {
   "cell_type": "code",
   "execution_count": 16,
   "id": "a4722f19-f444-4868-8282-9afcd704ac6a",
   "metadata": {},
   "outputs": [
    {
     "name": "stdout",
     "output_type": "stream",
     "text": [
      "Data Science   K.L Paul   2024\n"
     ]
    }
   ],
   "source": [
    "#13. Create a class called `Book` with a constructor that initializes the `title`, `author`, and `published_year`\n",
    "#attributes. Provide a method to display book details.\n",
    "\n",
    "class book:\n",
    "    def __init__(self,title,author,published_year):\n",
    "        self.title=title\n",
    "        self.author=author\n",
    "        self.published_year=published_year\n",
    "        \n",
    "    def show_book_details(self):\n",
    "        print(self.title,\" \", self.author,\" \",self.published_year)\n",
    "        \n",
    "b=book(\"Data Science\",\"K.L Paul\",2024)\n",
    "b.show_book_details()"
   ]
  },
  {
   "cell_type": "code",
   "execution_count": 18,
   "id": "f4f94396-d356-4f53-8bdc-5533e2dff830",
   "metadata": {},
   "outputs": [
    {
     "data": {
      "text/plain": [
       "'class MyClass:\\n    def __init__(self, parameter1, parameter2):\\n        self.attribute1 = parameter1\\n        self.attribute2 = parameter2\\n\\nobj = MyClass(value1, value2)  # Constructor is called automatically\\n\\nclass MyClass:\\n    def __init__(self, parameter1, parameter2):\\n        self.attribute1 = parameter1\\n        self.attribute2 = parameter2\\n\\n    def display_info(self):\\n        print(self.attribute1, self.attribute2)\\n\\nobj = MyClass(value1, value2)\\nobj.display_info()  # Calling another method explicitly'"
      ]
     },
     "execution_count": 18,
     "metadata": {},
     "output_type": "execute_result"
    }
   ],
   "source": [
    "#14. Discuss the differences between constructors and regular methods in Python classes.\n",
    "\n",
    "# constructor \n",
    "'''class MyClass:\n",
    "    def __init__(self, parameter1, parameter2):\n",
    "        self.attribute1 = parameter1\n",
    "        self.attribute2 = parameter2\n",
    "\n",
    "obj = MyClass(value1, value2)  # Constructor is called automatically\n",
    "\n",
    "class MyClass:\n",
    "    def __init__(self, parameter1, parameter2):\n",
    "        self.attribute1 = parameter1\n",
    "        self.attribute2 = parameter2\n",
    "\n",
    "    def display_info(self):\n",
    "        print(self.attribute1, self.attribute2)\n",
    "\n",
    "obj = MyClass(value1, value2)\n",
    "obj.display_info()  # Calling another method explicitly'''\n"
   ]
  },
  {
   "cell_type": "code",
   "execution_count": 19,
   "id": "a53dce1d-1f00-422e-93a0-fce1a6107c23",
   "metadata": {},
   "outputs": [
    {
     "data": {
      "text/plain": [
       "'When working with classes in Python, the term “self” refers to the instance of the class that is currently being used. \\nIt is customary to use “self” as the first parameter in instance methods of a class. \\nWhenever you call a method of an object created from a class, the object is automatically passed as the first argument using the “self” parameter. \\nThis enables you to modify the object’s properties and execute tasks unique to that particular instance.\\n\\nclass mynumber:\\n\\tdef __init__(self, value):\\n\\t\\tself.value = value\\n\\t\\n\\tdef print_value(self):\\n\\t\\tprint(self.value)\\n\\nobj1 = mynumber(17)\\nobj1.print_value()\\n'"
      ]
     },
     "execution_count": 19,
     "metadata": {},
     "output_type": "execute_result"
    }
   ],
   "source": [
    "#15. Explain the role of the `self` parameter in instance variable initialization within a constructor.\n",
    "'''When working with classes in Python, the term “self” refers to the instance of the class that is currently being used. \n",
    "It is customary to use “self” as the first parameter in instance methods of a class. \n",
    "Whenever you call a method of an object created from a class, the object is automatically passed as the first argument using the “self” parameter. \n",
    "This enables you to modify the object’s properties and execute tasks unique to that particular instance.\n",
    "\n",
    "class mynumber:\n",
    "\tdef __init__(self, value):\n",
    "\t\tself.value = value\n",
    "\t\n",
    "\tdef print_value(self):\n",
    "\t\tprint(self.value)\n",
    "\n",
    "obj1 = mynumber(17)\n",
    "obj1.print_value()\n",
    "'''"
   ]
  },
  {
   "cell_type": "code",
   "execution_count": 20,
   "id": "39f1c3d2-023f-432c-acf5-fff787820b64",
   "metadata": {},
   "outputs": [
    {
     "name": "stdout",
     "output_type": "stream",
     "text": [
      "Three\n"
     ]
    }
   ],
   "source": [
    "#16. How do you prevent a class from having multiple instances by using constructors in Python? Provide an\n",
    "#example.\n",
    "\n",
    "class example: \n",
    "\n",
    "\tdef __init__(self): \n",
    "\t\tprint(\"One\") \n",
    "\n",
    "\tdef __init__(self): \n",
    "\t\tprint(\"Two\") \n",
    "\n",
    "\tdef __init__(self): \n",
    "\t\tprint(\"Three\") \n",
    "\n",
    "\n",
    "e = example() \n"
   ]
  },
  {
   "cell_type": "code",
   "execution_count": 24,
   "id": "a564921e-89c4-4fef-82b1-567ea395ca29",
   "metadata": {},
   "outputs": [
    {
     "name": "stdout",
     "output_type": "stream",
     "text": [
      "Physics   Chemistry   Mathematics   Biology\n"
     ]
    }
   ],
   "source": [
    "#17. Create a Python class called `Student` with a constructor that takes a list of subjects as a parameter and\n",
    "#initializes the `subjects` attribute.\n",
    "\n",
    "class student:\n",
    "    def __init__(self):\n",
    "        self.phy=\"Physics\"\n",
    "        self.chem=\"Chemistry\"\n",
    "        self.maths=\"Mathematics\"\n",
    "        self.bio=\"Biology\"\n",
    "        \n",
    "    def show_subject_details(self):\n",
    "        print(self.phy,\" \",self.chem,\" \",self.maths,\" \",self.bio)\n",
    "        \n",
    "sham=student()\n",
    "sham.show_subject_details()"
   ]
  },
  {
   "cell_type": "code",
   "execution_count": 37,
   "id": "684b7bca-9572-4063-95c5-466c411c928e",
   "metadata": {},
   "outputs": [
    {
     "name": "stdout",
     "output_type": "stream",
     "text": [
      "Destructor invoked..\n",
      "10\n"
     ]
    }
   ],
   "source": [
    "#18. What is the purpose of the `__del__` method in Python classes, and how does it relate to constructors?\n",
    "\n",
    "class test:\n",
    "    def __init__(self,number):\n",
    "        self.num=number\n",
    "        \n",
    "    def __del__(self):\n",
    "        print(\"Destructor invoked..\")\n",
    "        \n",
    "    def show(self):\n",
    "        print(self.num)\n",
    "\n",
    "        \n",
    "t=test(10)\n",
    "t.show()\n"
   ]
  },
  {
   "cell_type": "code",
   "execution_count": 45,
   "id": "ff6bf035-dedc-4680-a754-24107c0fbf97",
   "metadata": {},
   "outputs": [
    {
     "name": "stdout",
     "output_type": "stream",
     "text": [
      "Hi this is Human Constructor\n",
      "Hi this is Man Constructor\n",
      "Hi this is Human Constructor\n",
      "Hi this is Woman Constructor\n"
     ]
    }
   ],
   "source": [
    "#19. Explain the use of constructor chaining in Python. Provide a practical example.\n",
    "\n",
    "class Human(object):\n",
    "    def __init__(self):\n",
    "        print(\"Hi this is Human Constructor\")\n",
    "\n",
    "    def whoAmI(self):\n",
    "        print(\"I am Human\")\n",
    "\n",
    "\n",
    "class Man(Human):\n",
    "    \n",
    "    def __init__(self):\n",
    "        super().__init__()\n",
    "        print(\"Hi this is Man Constructor\")\n",
    "\n",
    "    def whoAmI(self):\n",
    "        print(\"I am Man\")\n",
    "\n",
    "\n",
    "class Woman(Human):\n",
    "    def __init__(self):\n",
    "        super().__init__()\n",
    "        print(\"Hi this is Woman Constructor\")\n",
    "\n",
    "    def whoAmI(self):\n",
    "        print(\"I am Woman\")\n",
    "\n",
    "\n",
    "ishan=Man()  \n",
    "riya=Woman()\n"
   ]
  },
  {
   "cell_type": "code",
   "execution_count": 46,
   "id": "1e0d6e2e-72bf-4bf1-b33a-7a0d4dcb13e0",
   "metadata": {},
   "outputs": [
    {
     "name": "stdout",
     "output_type": "stream",
     "text": [
      "TATA SUMO   TATA V5\n"
     ]
    }
   ],
   "source": [
    "#20. Create a Python class called `Car` with a default constructor that initializes the `make` and `model`\n",
    "#attributes. Provide a method to display car information.\n",
    "\n",
    "class car:\n",
    "    def __init__(self):\n",
    "        self.make=\"TATA SUMO\"\n",
    "        self.model=\"TATA V5\"\n",
    "        \n",
    "    def print_car_details(self):\n",
    "        print(self.make,\" \",self.model)\n",
    "        \n",
    "tata=car()\n",
    "tata.print_car_details()"
   ]
  },
  {
   "cell_type": "markdown",
   "id": "b924ef0a-eb74-40c7-b71d-ab914eb2cf51",
   "metadata": {},
   "source": [
    "Inheritance"
   ]
  },
  {
   "cell_type": "code",
   "execution_count": 47,
   "id": "8b5b9c71-91b8-4675-a1c3-355918ea1e72",
   "metadata": {},
   "outputs": [
    {
     "data": {
      "text/plain": [
       "'One of the core concepts in object-oriented programming (OOP) languages is inheritance. It is a mechanism that allows you to create a hierarchy of classes that share a set of properties and methods by deriving a class from another class. Inheritance is the capability of one class to derive or inherit the properties from another class. \\n\\nBenefits of inheritance are:\\n\\nInheritance allows you to inherit the properties of a class, i.e., base class to another, i.e., derived class. The benefits of Inheritance in Python are as follows:\\n\\nIt represents real-world relationships well.\\nIt provides the reusability of a code. We don’t have to write the same code again and again. Also, it allows us to add more features to a class without modifying it.\\nIt is transitive in nature, which means that if class B inherits from another class A, then all the subclasses of B would automatically inherit from class A.\\nInheritance offers a simple, understandable model structure. \\nLess development and maintenance expenses result from an inheritance.'"
      ]
     },
     "execution_count": 47,
     "metadata": {},
     "output_type": "execute_result"
    }
   ],
   "source": [
    "#1. What is inheritance in Python? Explain its significance in object-oriented programming.\n",
    "'''One of the core concepts in object-oriented programming (OOP) languages is inheritance. It is a mechanism that allows you to create a hierarchy of classes that share a set of properties and methods by deriving a class from another class. Inheritance is the capability of one class to derive or inherit the properties from another class. \n",
    "\n",
    "Benefits of inheritance are:\n",
    "\n",
    "Inheritance allows you to inherit the properties of a class, i.e., base class to another, i.e., derived class. The benefits of Inheritance in Python are as follows:\n",
    "\n",
    "It represents real-world relationships well.\n",
    "It provides the reusability of a code. We don’t have to write the same code again and again. Also, it allows us to add more features to a class without modifying it.\n",
    "It is transitive in nature, which means that if class B inherits from another class A, then all the subclasses of B would automatically inherit from class A.\n",
    "Inheritance offers a simple, understandable model structure. \n",
    "Less development and maintenance expenses result from an inheritance.'''"
   ]
  },
  {
   "cell_type": "code",
   "execution_count": 49,
   "id": "9453cf09-ca93-47c4-b7a7-260a9dd0c1f3",
   "metadata": {},
   "outputs": [
    {
     "name": "stdout",
     "output_type": "stream",
     "text": [
      "Hi this is Human Constructor\n",
      "Hi this is Man Constructor\n",
      "method of base class..\n"
     ]
    }
   ],
   "source": [
    "#2. Differentiate between single inheritance and multiple inheritance in Python. Provide examples for each.\n",
    "\n",
    "# single Inheritance\n",
    "class Human(object):\n",
    "    def __init__(self):\n",
    "        print(\"Hi this is Human Constructor\")\n",
    "\n",
    "    def whoAmI(self):\n",
    "        print(\"I am Human\")\n",
    "        \n",
    "    def show(self):\n",
    "        print(\"method of base class..\")\n",
    "\n",
    "\n",
    "class Man(Human):\n",
    "    \n",
    "    def __init__(self):\n",
    "        super().__init__()\n",
    "        print(\"Hi this is Man Constructor\")\n",
    "\n",
    "    def whoAmI(self):\n",
    "        print(\"I am Man\")\n",
    "\n",
    "\n",
    "\n",
    "\n",
    "ishan=Man()  \n",
    "ishan.show()\n",
    "    "
   ]
  },
  {
   "cell_type": "code",
   "execution_count": 52,
   "id": "fc5e9d9d-719b-46d0-be48-a9d7545e4b92",
   "metadata": {},
   "outputs": [
    {
     "name": "stdout",
     "output_type": "stream",
     "text": [
      "Hi this is Human Constructor\n",
      "Hi this is Man Constructor\n",
      "Hi this is Human Constructor\n",
      "Hi this is Woman Constructor\n",
      "method of base class..\n"
     ]
    }
   ],
   "source": [
    "# Multiple Inheritance\n",
    "class Human(object):\n",
    "    def __init__(self):\n",
    "        print(\"Hi this is Human Constructor\")\n",
    "\n",
    "    def whoAmI(self):\n",
    "        print(\"I am Human\")\n",
    "        \n",
    "    def show(self):\n",
    "        print(\"method of base class..\")\n",
    "\n",
    "\n",
    "class Man(Human):\n",
    "    \n",
    "    def __init__(self):\n",
    "        super().__init__()\n",
    "        print(\"Hi this is Man Constructor\")\n",
    "\n",
    "    def whoAmI(self):\n",
    "        print(\"I am Man\")\n",
    "\n",
    "class Woman(Human):\n",
    "    def __init__(self):\n",
    "        super().__init__()\n",
    "        print(\"Hi this is Woman Constructor\")\n",
    "\n",
    "    def whoAmI(self):\n",
    "        print(\"I am Woman\")\n",
    "\n",
    "ishan=Man() \n",
    "riya=Woman()\n",
    "ishan.show()"
   ]
  },
  {
   "cell_type": "code",
   "execution_count": 58,
   "id": "e2e4c263-2656-488f-b98b-cc222af16082",
   "metadata": {},
   "outputs": [
    {
     "name": "stdout",
     "output_type": "stream",
     "text": [
      "Red   80\n",
      "TATA Best Brand\n"
     ]
    }
   ],
   "source": [
    "#3. Create a Python class called `Vehicle` with attributes `color` and `speed`. Then, create a child class called\n",
    "#`Car` that inherits from `Vehicle` and adds a `brand` attribute. Provide an example of creating a `Car` object.\n",
    "\n",
    "class vehicle:\n",
    "    def vehicle_properties(self,color,speed):\n",
    "        self.color=color\n",
    "        self.speed=speed\n",
    "        print(self.color,\" \",self.speed)\n",
    "        \n",
    "class car(vehicle):\n",
    "    def __init__(self,brand):\n",
    "        self.brand=brand\n",
    "        \n",
    "    def show_details(self):\n",
    "        print(self.brand)\n",
    "        \n",
    "tata=car(\"TATA Best Brand\")\n",
    "tata.vehicle_properties(\"Red\",80)\n",
    "tata.show_details()"
   ]
  },
  {
   "cell_type": "code",
   "execution_count": 61,
   "id": "592c44fd-28b1-495a-96f5-8aa3c95f607d",
   "metadata": {},
   "outputs": [
    {
     "name": "stdout",
     "output_type": "stream",
     "text": [
      "Inside Parent\n",
      "Inside Child\n"
     ]
    }
   ],
   "source": [
    "#4. Explain the concept of method overriding in inheritance. Provide a practical example.\n",
    "\n",
    "# Python program to demonstrate \n",
    "# method overriding \n",
    "\n",
    "\n",
    "# Defining parent class \n",
    "class Parent(): \n",
    "\t\n",
    "\t# Constructor \n",
    "\tdef __init__(self): \n",
    "\t\tself.value = \"Inside Parent\"\n",
    "\t\t\n",
    "\t# Parent's show method \n",
    "\tdef show(self): \n",
    "\t\tprint(self.value) \n",
    "\t\t\n",
    "# Defining child class \n",
    "class Child(Parent): \n",
    "\t\n",
    "\t# Constructor \n",
    "\tdef __init__(self): \n",
    "\t\tself.value = \"Inside Child\"\n",
    "\t\t\n",
    "\t# Child's show method \n",
    "\tdef show(self): \n",
    "\t\tprint(self.value) \n",
    "\t\t\n",
    "\t\t\n",
    "# Driver's code \n",
    "obj1 = Parent() \n",
    "obj2 = Child() \n",
    "\n",
    "obj1.show() \n",
    "obj2.show() \n"
   ]
  },
  {
   "cell_type": "code",
   "execution_count": 63,
   "id": "6b7d202c-6163-4c13-82ab-265c17cb0104",
   "metadata": {},
   "outputs": [
    {
     "name": "stdout",
     "output_type": "stream",
     "text": [
      "Black\n",
      "mammals\n",
      "Animal class method\n"
     ]
    }
   ],
   "source": [
    "#5. How can you access the methods and attributes of a parent class from a child class in Python? Give an\n",
    "#example.\n",
    "\n",
    "class Animal:\n",
    "    def __init__(self,color,name):\n",
    "        self.color=color\n",
    "        self.name=name\n",
    "        \n",
    "    def show_animal_details(self):\n",
    "        print(\"Animal class method\")\n",
    "        \n",
    "class Dog(Animal):\n",
    "    def show(self):\n",
    "        print(\"Method of dog class\")\n",
    "        \n",
    "d=Dog(\"Black\",\"mammals\")\n",
    "print(d.color)\n",
    "print(d.name)\n",
    "d.show_animal_details()\n",
    "    "
   ]
  },
  {
   "cell_type": "code",
   "execution_count": 74,
   "id": "a2be9be9-7fdb-467c-99bd-37511c9b77b0",
   "metadata": {},
   "outputs": [
    {
     "name": "stdout",
     "output_type": "stream",
     "text": [
      "Hello, Ishan!\n"
     ]
    }
   ],
   "source": [
    "#6. Discuss the use of the `super()` function in Python inheritance. When and why is it used? Provide an\n",
    "#example.\n",
    "class Parent:\n",
    "\n",
    "    def __init__(self, name):\n",
    "        \n",
    "        self.name = name\n",
    "\n",
    "    def greet(self):\n",
    "    \n",
    "        print(f\"Hello, {self.name}!\")\n",
    "\n",
    "class Child(Parent):\n",
    "\n",
    "    def __init__(self, name, age):\n",
    "        \n",
    "        super().__init__(name)\n",
    "\n",
    "        self.age = age\n",
    "\n",
    "child = Child(\"Ishan\", 10)\n",
    "\n",
    "child.greet()\n",
    "\n"
   ]
  },
  {
   "cell_type": "code",
   "execution_count": 76,
   "id": "8edebb0b-52d2-4b40-b1f9-67f17e4967ca",
   "metadata": {},
   "outputs": [
    {
     "name": "stdout",
     "output_type": "stream",
     "text": [
      "Dog can bark\n",
      "Cat can meow\n"
     ]
    }
   ],
   "source": [
    "#7. Create a Python class called `Animal` with a method `speak()`. Then, create child classes `Dog` and `Cat` that inherit from `Animal` and override the `speak()` method. Provide an example of using these classes.\n",
    "\n",
    "class Animal:\n",
    "    def speak(self):\n",
    "        print(\"Animal can sound\")\n",
    "        \n",
    "class Dog(Animal):\n",
    "    def speak(self):\n",
    "        print(\"Dog can bark\")\n",
    "        \n",
    "class Cat(Animal):\n",
    "    def speak(self):\n",
    "        print(\"Cat can meow\")\n",
    "        \n",
    "d=Dog()\n",
    "d.speak()\n",
    "c=Cat()\n",
    "c.speak()"
   ]
  },
  {
   "cell_type": "code",
   "execution_count": 77,
   "id": "c9de6b49-221f-4d1f-9878-1d1033f16a0b",
   "metadata": {},
   "outputs": [
    {
     "name": "stdout",
     "output_type": "stream",
     "text": [
      "True\n",
      "False\n",
      "True\n"
     ]
    }
   ],
   "source": [
    "#8. Explain the role of the `isinstance()` function in Python and how it relates to inheritance.\n",
    "\n",
    "class Test1:\n",
    "\n",
    "              a = 6\n",
    "\n",
    "testInstance = Test1 ()\n",
    "\n",
    "print (isinstance (testInstance, Test1))\n",
    "\n",
    "print (isinstance (testInstance, (list, tuple)))\n",
    "\n",
    "print (isinstance (testInstance, (list, tuple, Test1)))"
   ]
  },
  {
   "cell_type": "code",
   "execution_count": 84,
   "id": "5829e10e-803a-4b56-889a-218a308dd3f6",
   "metadata": {},
   "outputs": [
    {
     "name": "stdout",
     "output_type": "stream",
     "text": [
      "True\n",
      "False\n",
      "True\n",
      "True\n"
     ]
    }
   ],
   "source": [
    "#9. What is the purpose of the `issubclass()` function in Python? Provide an example.\n",
    "\n",
    "\n",
    "class Equation:\n",
    "\n",
    "              def __init__ (equationType):\n",
    "\n",
    "                             print (\"he equation is \" ,quationType)\n",
    "\n",
    "class Quadratic (Equation):\n",
    "\n",
    "              def __init__ (self):\n",
    "\n",
    "                             Equation.__init__(\"quadritic\")\n",
    "\n",
    "print (issubclass (Quadratic, Equation))\n",
    "\n",
    "print (issubclass (Quadratic, list))\n",
    "\n",
    "print (issubclass (Quadratic, (list, Equation)))\n",
    "\n",
    "print (issubclass (Quadratic, (list, Equation)))"
   ]
  },
  {
   "cell_type": "code",
   "execution_count": 88,
   "id": "49182436-1e7d-4b34-9ee4-7d3f9332518f",
   "metadata": {},
   "outputs": [
    {
     "name": "stdout",
     "output_type": "stream",
     "text": [
      "Rahul 23\n",
      "Mayank 23\n"
     ]
    }
   ],
   "source": [
    "#10. Discuss the concept of constructor inheritance in Python. How are constructors inherited in child classes?\n",
    "\n",
    "# parent class\n",
    "class Person():\n",
    "    def __init__(self, name, age):\n",
    "        self.name = name\n",
    "        self.age = age\n",
    "\n",
    "    def display(self):\n",
    "        print(self.name, self.age)\n",
    "\n",
    "# child class\n",
    "class Student(Person):\n",
    "    def __init__(self, name, age):\n",
    "        self.sName = name\n",
    "        self.sAge = age\n",
    "\t# inheriting the properties of parent class\n",
    "        super().__init__(\"Rahul\", age)\n",
    "\n",
    "    def displayInfo(self):\n",
    "        print(self.sName, self.sAge)\n",
    "\n",
    "obj = Student(\"Mayank\", 23)\n",
    "obj.display()\n",
    "obj.displayInfo()\n"
   ]
  },
  {
   "cell_type": "code",
   "execution_count": 94,
   "id": "a2464564-8976-415a-ab40-c7666c603fc1",
   "metadata": {},
   "outputs": [
    {
     "name": "stdout",
     "output_type": "stream",
     "text": [
      "Area of circle: 803.84\n",
      "Area of Rectangle: 216\n"
     ]
    }
   ],
   "source": [
    "#11. Create a Python class called `Shape` with a method `area()` that calculates the area of a shape. Then, create child classes `Circle` and `Rectangle` that inherit from `Shape` and implement the `area()` method\n",
    "#accordingly. Provide an example.\n",
    "\n",
    "class shape:\n",
    "    def area(self):\n",
    "        pass\n",
    "    \n",
    "class Circle(shape):\n",
    "    def area(self,r):\n",
    "        return 3.14 * r * r\n",
    "    \n",
    "class Rectangle(shape):\n",
    "    def area(self,l,b):\n",
    "        return l * b\n",
    "    \n",
    "circle=Circle()\n",
    "print(\"Area of circle:\",circle.area(16))\n",
    "\n",
    "rect=Rectangle()\n",
    "print(\"Area of Rectangle:\",rect.area(12,18))"
   ]
  },
  {
   "cell_type": "code",
   "execution_count": 95,
   "id": "f844d819-c46c-4674-8b62-7c6b7220369b",
   "metadata": {},
   "outputs": [
    {
     "name": "stdout",
     "output_type": "stream",
     "text": [
      "List instance: True\n",
      "Tuple instance: True\n",
      "Object instance: False\n"
     ]
    }
   ],
   "source": [
    "#12. Explain the use of abstract base classes (ABCs) in Python and how they relate to inheritance. Provide an\n",
    "#example using the `abc` module.\n",
    "import abc \n",
    "\n",
    "\n",
    "class MySequence(metaclass=abc.ABCMeta): \n",
    "\tpass\n",
    "\n",
    "MySequence.register(list) \n",
    "MySequence.register(tuple) \n",
    "\n",
    "a = [1, 2, 3] \n",
    "b = ('x', 'y', 'z') \n",
    "\n",
    "print('List instance:', isinstance(a, MySequence)) \n",
    "print('Tuple instance:', isinstance(b, MySequence)) \n",
    "print('Object instance:', isinstance(object(), MySequence)) \n"
   ]
  },
  {
   "cell_type": "code",
   "execution_count": 1,
   "id": "d4ae94dc-bee0-4428-a92d-81737b5ea14a",
   "metadata": {},
   "outputs": [
    {
     "name": "stdout",
     "output_type": "stream",
     "text": [
      "Ishan Bhalerao\n"
     ]
    }
   ],
   "source": [
    "#13. How can you prevent a child class from modifying certain attributes or methods inherited from a parent\n",
    "#class in Python?\n",
    "\n",
    "class Person:\n",
    "  def __init__(self, fname, lname):\n",
    "    self.firstname = fname\n",
    "    self.lastname = lname\n",
    "\n",
    "  def printname(self):\n",
    "    print(self.firstname, self.lastname)\n",
    "    \n",
    "p=Person(\"Ishan\",\"Bhalerao\")\n",
    "p.printname()"
   ]
  },
  {
   "cell_type": "code",
   "execution_count": 117,
   "id": "fe142908-7828-4744-8d67-d62ae9ecb304",
   "metadata": {},
   "outputs": [
    {
     "name": "stdout",
     "output_type": "stream",
     "text": [
      "ajay\n",
      "20000\n",
      "HR\n"
     ]
    }
   ],
   "source": [
    "#14. Create a Python class called `Employee` with attributes `name` and `salary`. Then, create a child class\n",
    "#`Manager` that inherits from `Employee` and adds an attribute `department`. Provide an example.\n",
    "\n",
    "class Employee:\n",
    "    def get(self,name,salary):\n",
    "        self.name=name\n",
    "        self.salary=salary\n",
    "        \n",
    "class Manager(Employee):\n",
    "    def store(self,department):\n",
    "        super().__init__()\n",
    "        self.dept=department\n",
    "        \n",
    "ishan=Employee()\n",
    "ravi=Manager()\n",
    "\n",
    "ishan.get('ajay',20000)\n",
    "ravi.store('HR')\n",
    "\n",
    "print(ishan.name)\n",
    "print(ishan.salary)\n",
    "print(ravi.dept)"
   ]
  },
  {
   "cell_type": "code",
   "execution_count": 1,
   "id": "9552b625-df61-4a5d-945c-1c1c263b6685",
   "metadata": {},
   "outputs": [
    {
     "data": {
      "text/plain": [
       "\"Method Overloading: \\nMethod Overloading is an example of Compile time polymorphism. In this, more than one method of the same class shares the same method name having different signatures. Method overloading is used to add more to the behavior of methods and there is no need of more than one class for method overloading.\\nNote: Python does not support method overloading. We may overload the methods but can only use the latest defined method.\\n\\n# Function to take multiple arguments \\ndef add(datatype, *args): \\n\\n\\t# if datatype is int \\n\\t# initialize answer as 0 \\n\\tif datatype =='int': \\n\\t\\tanswer = 0\\n\\t\\t\\n\\t# if datatype is str \\n\\t# initialize answer as '' \\n\\tif datatype =='str': \\n\\t\\tanswer ='' \\n\\n\\t# Traverse through the arguments \\n\\tfor x in args: \\n\\n\\t\\t# This will do addition if the \\n\\t\\t# arguments are int. Or concatenation \\n\\t\\t# if the arguments are str \\n\\t\\tanswer = answer + x \\n\\n\\tprint(answer) \\n\\n# Integer \\nadd('int', 5, 6) \\n\\n# String \\nadd('str', 'Hi ', 'Geeks') \\n\\nMethod Overriding: \\nMethod overriding is an example of run time polymorphism. In this, the specific implementation of the method that is already provided by the parent class is provided by the child class. It is used to change the behavior of existing methods and there is a need for at least two classes for method overriding. In method overriding, inheritance always required as it is done between parent class(superclass) and child class(child class) methods.\\nExample of Method Overriding in python: \\n\\nclass A:\\n\\n\\tdef fun1(self):\\n\\t\\tprint('feature_1 of class A')\\n\\t\\t\\n\\tdef fun2(self):\\n\\t\\tprint('feature_2 of class A')\\n\\t\\n\\nclass B(A):\\n\\t\\n\\t# Modified function that is \\n\\t# already exist in class A\\n\\tdef fun1(self):\\n\\t\\tprint('Modified feature_1 of class A by class B') \\n\\t\\t\\n\\tdef fun3(self):\\n\\t\\tprint('feature_3 of class B')\\n\\t\\t\\n\\n# Create instance\\nobj = B()\\n\\t\\n# Call the override function\\nobj.fun1()\\n\""
      ]
     },
     "execution_count": 1,
     "metadata": {},
     "output_type": "execute_result"
    }
   ],
   "source": [
    "#15. Discuss the concept of method overloading in Python inheritance. How does it differ from method\n",
    "#overriding?\n",
    "\n",
    "'''Method Overloading: \n",
    "Method Overloading is an example of Compile time polymorphism. In this, more than one method of the same class shares the same method name having different signatures. Method overloading is used to add more to the behavior of methods and there is no need of more than one class for method overloading.\n",
    "Note: Python does not support method overloading. We may overload the methods but can only use the latest defined method.\n",
    "\n",
    "# Function to take multiple arguments \n",
    "def add(datatype, *args): \n",
    "\n",
    "\t# if datatype is int \n",
    "\t# initialize answer as 0 \n",
    "\tif datatype =='int': \n",
    "\t\tanswer = 0\n",
    "\t\t\n",
    "\t# if datatype is str \n",
    "\t# initialize answer as '' \n",
    "\tif datatype =='str': \n",
    "\t\tanswer ='' \n",
    "\n",
    "\t# Traverse through the arguments \n",
    "\tfor x in args: \n",
    "\n",
    "\t\t# This will do addition if the \n",
    "\t\t# arguments are int. Or concatenation \n",
    "\t\t# if the arguments are str \n",
    "\t\tanswer = answer + x \n",
    "\n",
    "\tprint(answer) \n",
    "\n",
    "# Integer \n",
    "add('int', 5, 6) \n",
    "\n",
    "# String \n",
    "add('str', 'Hi ', 'Geeks') \n",
    "\n",
    "Method Overriding: \n",
    "Method overriding is an example of run time polymorphism. In this, the specific implementation of the method that is already provided by the parent class is provided by the child class. It is used to change the behavior of existing methods and there is a need for at least two classes for method overriding. In method overriding, inheritance always required as it is done between parent class(superclass) and child class(child class) methods.\n",
    "Example of Method Overriding in python: \n",
    "\n",
    "class A:\n",
    "\n",
    "\tdef fun1(self):\n",
    "\t\tprint('feature_1 of class A')\n",
    "\t\t\n",
    "\tdef fun2(self):\n",
    "\t\tprint('feature_2 of class A')\n",
    "\t\n",
    "\n",
    "class B(A):\n",
    "\t\n",
    "\t# Modified function that is \n",
    "\t# already exist in class A\n",
    "\tdef fun1(self):\n",
    "\t\tprint('Modified feature_1 of class A by class B') \n",
    "\t\t\n",
    "\tdef fun3(self):\n",
    "\t\tprint('feature_3 of class B')\n",
    "\t\t\n",
    "\n",
    "# Create instance\n",
    "obj = B()\n",
    "\t\n",
    "# Call the override function\n",
    "obj.fun1()\n",
    "'''"
   ]
  },
  {
   "cell_type": "code",
   "execution_count": 3,
   "id": "fd8ce509-b6a6-456c-8f08-afb0f47b60b0",
   "metadata": {},
   "outputs": [
    {
     "name": "stdout",
     "output_type": "stream",
     "text": [
      "Hello, my name is Ishan\n"
     ]
    }
   ],
   "source": [
    "#Explain the purpose of the `__init__()` method in Python inheritance and how it is utilized in child classes.\n",
    "\n",
    "'''The task of constructors is to initialize(assign values) to the data members of the class when an object of the class is created.\n",
    "\n",
    "Like methods, a constructor also contains a collection of statements(i.e. instructions) that are executed at the time of Object creation. It is run as soon as an object of a class is instantiated.\n",
    "\n",
    "The method is useful to do any initialization you want to do with your object.\n",
    "'''\n",
    "# A Sample class with init method\n",
    "class Person:\n",
    "\n",
    "\t# init method or constructor\n",
    "\tdef __init__(self, name):\n",
    "\t\tself.name = name\n",
    "\n",
    "\t# Sample Method\n",
    "\tdef say_hi(self):\n",
    "\t\tprint('Hello, my name is', self.name)\n",
    "\n",
    "\n",
    "p = Person('Ishan')\n",
    "p.say_hi()\n",
    "\n"
   ]
  },
  {
   "cell_type": "code",
   "execution_count": 14,
   "id": "50bfbb40-0d48-4bee-a41f-9da0db993921",
   "metadata": {},
   "outputs": [
    {
     "name": "stdout",
     "output_type": "stream",
     "text": [
      "Method of Sparrow class\n",
      "Method of Bird class\n",
      "Method of Eagle class\n"
     ]
    }
   ],
   "source": [
    "#17. Create a Python class called `Bird` with a method `fly()`. Then, create child classes `Eagle` and `Sparrow`\n",
    "#that inherit from `Bird` and implement the `fly()` method differently. Provide an example of using these\n",
    "#classes.\n",
    "\n",
    "class Bird:\n",
    "    def fly(self):\n",
    "        print(\"Method of Bird class\")\n",
    "    \n",
    "class Eagle(Bird):\n",
    "    def fly(self):\n",
    "        super().fly()\n",
    "        print(\"Method of Eagle class\")\n",
    "    \n",
    "class Sparrow(Bird):\n",
    "    def fly(self):\n",
    "        print(\"Method of Sparrow class\")\n",
    "    \n",
    "bird1=Sparrow()\n",
    "bird1.fly()\n",
    "eagle=Eagle()\n",
    "eagle.fly()"
   ]
  },
  {
   "cell_type": "code",
   "execution_count": 26,
   "id": "4d936972-fdcb-4bb3-b54f-c92018759913",
   "metadata": {},
   "outputs": [
    {
     "name": "stdout",
     "output_type": "stream",
     "text": [
      "function of class A\n",
      "function of class A\n",
      "function of class A\n",
      "function of class C\n"
     ]
    }
   ],
   "source": [
    "#18. What is the \"diamond problem\" in multiple inheritance, and how does Python address it?\n",
    "\n",
    "'''The diamond problem is an ambiguity that is arisen when there are two classes say B and C that inherit / are derived from a single class A, and there is another class D, that is a class derived from multiple inheritance and inherits from B as well as C.'''\n",
    "\n",
    "class A:\n",
    "    def func(self):\n",
    "        print(\"function of class A\")\n",
    "    \n",
    "class B:\n",
    "    def func(self):\n",
    "        print(\"function of class B\")\n",
    "    \n",
    "class C(A,B):\n",
    "    def fun_C(self):\n",
    "        super().func()\n",
    "        print(\"function of class C\")\n",
    "            \n",
    "c=C()\n",
    "c.func()\n",
    "c.func()\n",
    "c.fun_C()\n",
    "\n"
   ]
  },
  {
   "cell_type": "code",
   "execution_count": 25,
   "id": "3f8176b8-cf09-464d-af02-b7e9f3bbac16",
   "metadata": {},
   "outputs": [
    {
     "name": "stdout",
     "output_type": "stream",
     "text": [
      "function of class B\n",
      "function of class B\n",
      "function of class B\n",
      "function of class C\n"
     ]
    }
   ],
   "source": [
    "class A:\n",
    "    def func(self):\n",
    "        print(\"function of class A\")\n",
    "    \n",
    "class B:\n",
    "    def func(self):\n",
    "        print(\"function of class B\")\n",
    "    \n",
    "class C(B,A):\n",
    "    def fun_C(self):\n",
    "        super().func()\n",
    "        print(\"function of class C\")\n",
    "\n",
    "    \n",
    "\n",
    "c1=C()\n",
    "c1.func()\n",
    "c1.func()\n",
    "c1.fun_C()"
   ]
  },
  {
   "cell_type": "code",
   "execution_count": 30,
   "id": "00b5d6e7-8bc7-42e4-b9c3-c0b55201bbbc",
   "metadata": {},
   "outputs": [
    {
     "name": "stdout",
     "output_type": "stream",
     "text": [
      "Child Class object created...\n",
      "Parent Class Method called...\n",
      "Child Class Method called...\n"
     ]
    },
    {
     "data": {
      "text/plain": [
       "'It is one of the fundamental concepts of Object-Oriented Programming. In this concept, we will describe a class that references to one or more objects of other classes as an Instance variable. Here, by using the class name or by creating the object we can access the members of one class inside another class. It enables creating complex types by combining objects of different classes. It means that a class Composite can contain an object of another class Component. This type of relationship is known as Has-A Relation.\\n\\n'"
      ]
     },
     "execution_count": 30,
     "metadata": {},
     "output_type": "execute_result"
    }
   ],
   "source": [
    "#19. Discuss the concept of \"is-a\" and \"has-a\" relationships in inheritance, and provide examples of each.\n",
    "\n",
    "\"\"\"It is a concept of Object-Oriented Programming. Inheritance is a mechanism that allows us to inherit all the properties from another class. The class from which the properties and functionalities are utilized is called the parent class (also called as Base Class). The class which uses the properties from another class is called as Child Class (also known as Derived class). Inheritance is also called an Is-A Relation. \"\"\"\n",
    "\n",
    "# parent class \n",
    "class Parent: \n",
    "\n",
    "\t# parent class method \n",
    "\tdef m1(self): \n",
    "\t\tprint('Parent Class Method called...') \n",
    "\n",
    "# child class inheriting parent class \n",
    "class Child(Parent): \n",
    "\n",
    "\t# child class constructor \n",
    "\tdef __init__(self): \n",
    "\t\tprint('Child Class object created...') \n",
    "\n",
    "\t# child class method \n",
    "\tdef m2(self): \n",
    "\t\tprint('Child Class Method called...') \n",
    "\n",
    "\n",
    "# creating object of child class \n",
    "obj = Child() \n",
    "\n",
    "# calling parent class m1() method \n",
    "obj.m1() \n",
    "\n",
    "# calling child class m2() method \n",
    "obj.m2() \n",
    "\n",
    "\n"
   ]
  },
  {
   "cell_type": "code",
   "execution_count": 32,
   "id": "148b6520-3df7-4ae5-9abc-130baa5a3005",
   "metadata": {},
   "outputs": [
    {
     "name": "stdout",
     "output_type": "stream",
     "text": [
      "Component class object created...\n",
      "Composite class object also created...\n",
      "Composite class m2() method executed...\n",
      "Component class m1() method executed...\n"
     ]
    }
   ],
   "source": [
    "\n",
    "\"\"\"It is one of the fundamental concepts of Object-Oriented Programming. In this concept, we will describe a class that references to one or more objects of other classes as an Instance variable. Here, by using the class name or by creating the object we can access the members of one class inside another class. It enables creating complex types by combining objects of different classes. It means that a class Composite can contain an object of another class Component. This type of relationship is known as Has-A Relation.\n",
    "\n",
    "\"\"\"\n",
    "class Component: \n",
    "\n",
    "# composite class constructor \n",
    "\tdef __init__(self): \n",
    "\t\tprint('Component class object created...') \n",
    "\n",
    "\t# composite class instance method \n",
    "\tdef m1(self): \n",
    "\t\tprint('Component class m1() method executed...') \n",
    "\n",
    "\n",
    "class Composite: \n",
    "\n",
    "\t# composite class constructor \n",
    "\tdef __init__(self): \n",
    "\n",
    "\t\t# creating object of component class \n",
    "\t\tself.obj1 = Component() \n",
    "\t\t\n",
    "\t\tprint('Composite class object also created...') \n",
    "\n",
    "\t# composite class instance method \n",
    "\tdef m2(self): \n",
    "\t\t\n",
    "\t\tprint('Composite class m2() method executed...') \n",
    "\n",
    "\t\t# calling m1() method of component class \n",
    "\t\tself.obj1.m1() \n",
    "\n",
    "\n",
    "# creating object of composite class \n",
    "obj2 = Composite() \n",
    "\n",
    "# calling m2() method of composite class \n",
    "obj2.m2() \n"
   ]
  },
  {
   "cell_type": "code",
   "execution_count": 41,
   "id": "a0758434-2b61-4d3c-bbf9-bf21a6e49805",
   "metadata": {},
   "outputs": [
    {
     "name": "stdout",
     "output_type": "stream",
     "text": [
      "101   Full stack data Science pro   Python\n",
      "1   Full Stack Data Science Pro   8275491918   ishan.bhalerao18@gmail.com\n",
      "Ajay   25\n"
     ]
    }
   ],
   "source": [
    "#20. Create a Python class hierarchy for a university system. Start with a base class `Person` and create child\n",
    "#classes `Student` and `Professor`, each with their own attributes and methods. Provide an example of using\n",
    "#these classes in a university context.\n",
    "#FulDl Sattaac\n",
    "\n",
    "class Person:\n",
    "    def __init__(self,name,age):\n",
    "        self.name=name\n",
    "        self.age=age\n",
    "        \n",
    "    def show_person_details(self):\n",
    "        print( self.name,\" \", self.age)\n",
    "        \n",
    "class Student(Person):\n",
    "    def __init__(self,rno,stud_class,mob,mail_id):\n",
    "        self.rno=rno\n",
    "        self.stud_class=stud_class\n",
    "        self.mob=mob\n",
    "        self.mail_id=mail_id\n",
    "        \n",
    "    def show_student_details(self):\n",
    "         print( self.rno,\" \",self.stud_class,\" \",self.mob,\" \",self.mail_id)\n",
    "            \n",
    "class Professor(Person):\n",
    "    def __init__(self,professor_id,classes_tought,subject_tought):\n",
    "        self.professor_id=professor_id\n",
    "        self.classes_tought=classes_tought\n",
    "        self.subject_tought=subject_tought\n",
    "        \n",
    "    def print_professor_details(self):\n",
    "        print(self.professor_id,\" \",self.classes_tought,\" \",self.subject_tought)\n",
    "        \n",
    "sudh=Professor(101,\"Full stack data Science pro\",\"Python\")\n",
    "sudh.print_professor_details()\n",
    "\n",
    "ishan=Student(1,\"Full Stack Data Science Pro\",8275491918,\"ishan.bhalerao18@gmail.com\")\n",
    "ishan.show_student_details()\n",
    "\n",
    "person=Person(\"Ajay\",25)\n",
    "print(person.name,\" \",person.age)\n",
    "    "
   ]
  },
  {
   "cell_type": "markdown",
   "id": "d6ef2814-f1a7-488a-b7b2-7e5d743c49d5",
   "metadata": {},
   "source": [
    "Encapsulation:"
   ]
  },
  {
   "cell_type": "code",
   "execution_count": 44,
   "id": "cf1fb10b-992e-4945-a16f-fbd0a4c98feb",
   "metadata": {},
   "outputs": [
    {
     "data": {
      "text/plain": [
       "'Encapsulation is one of the fundamental concepts in object-oriented programming (OOP). It describes the idea of wrapping data and the methods that work on data within one unit. This puts restrictions on accessing variables and methods directly and can prevent the accidental modification of data.\\nConsider a real-life example of encapsulation, in a company, there are different sections like the accounts section, finance section, sales section etc. The finance section handles all the financial transactions and keeps records of all the data related to finance. Similarly, the sales section handles all the sales-related activities and keeps records of all the sales. Now there may arise a situation when due to some reason an official from the finance section needs all the data about sales in a particular month. In this case, he is not allowed to directly access the data of the sales section. He will first have to contact some other officer in the sales section and then request him to give the particular data. This is what encapsulation is. Here the data of the sales section and the employees that can manipulate them are wrapped under a single name “sales section”. Using encapsulation also hides the data. In this example, the data of the sections like sales, finance, or accounts are hidden from any other section.'"
      ]
     },
     "execution_count": 44,
     "metadata": {},
     "output_type": "execute_result"
    }
   ],
   "source": [
    "#1. Explain the concept of encapsulation in Python. What is its role in object-oriented programming?\n",
    "\n",
    "\"\"\"Encapsulation is one of the fundamental concepts in object-oriented programming (OOP). It describes the idea of wrapping data and the methods that work on data within one unit. This puts restrictions on accessing variables and methods directly and can prevent the accidental modification of data.\n",
    "Consider a real-life example of encapsulation, in a company, there are different sections like the accounts section, finance section, sales section etc. The finance section handles all the financial transactions and keeps records of all the data related to finance. Similarly, the sales section handles all the sales-related activities and keeps records of all the sales. Now there may arise a situation when due to some reason an official from the finance section needs all the data about sales in a particular month. In this case, he is not allowed to directly access the data of the sales section. He will first have to contact some other officer in the sales section and then request him to give the particular data. This is what encapsulation is. Here the data of the sales section and the employees that can manipulate them are wrapped under a single name “sales section”. Using encapsulation also hides the data. In this example, the data of the sections like sales, finance, or accounts are hidden from any other section.\"\"\"\n",
    "\n",
    "\n",
    "\n"
   ]
  },
  {
   "cell_type": "code",
   "execution_count": 45,
   "id": "55006cd4-166d-46f2-a179-ba2d2dff931d",
   "metadata": {},
   "outputs": [
    {
     "data": {
      "text/plain": [
       "'What is Data Hiding?\\nData hiding is a part of object-oriented programming, which is generally used to hide the data information from the user. It includes internal object details such as data members, internal working. It maintained the data integrity and restricted access to the class member. The main working of data hiding is that it combines the data and functions into a single unit to conceal data within a class. We cannot directly access the data from outside the class.\\n\\nThis process is also known as the data encapsulation. It is done by hiding the working information to user. In the process, we declare class members as private so that no other class can access these data members. It is accessible only within the class.\\n\\nData Hiding in Python\\nPython is the most popular programming language as it applies in every technical domain and has a straightforward syntax and vast libraries. In the official Python documentation, Data hiding isolates the client from a part of program implementation. Some of the essential members must be hidden from the user. Programs or modules only reflected how we could use them, but users cannot be familiar with how the application works. Thus it provides security and avoiding dependency as well.\\n\\nWe can perform data hiding in Python using the __ double underscore before prefix. This makes the class members private and inaccessible to the other classes.'"
      ]
     },
     "execution_count": 45,
     "metadata": {},
     "output_type": "execute_result"
    }
   ],
   "source": [
    "#2. Describe the key principles of encapsulation, including access control and data hiding.\n",
    "\n",
    "'''What is Data Hiding?\n",
    "Data hiding is a part of object-oriented programming, which is generally used to hide the data information from the user. It includes internal object details such as data members, internal working. It maintained the data integrity and restricted access to the class member. The main working of data hiding is that it combines the data and functions into a single unit to conceal data within a class. We cannot directly access the data from outside the class.\n",
    "\n",
    "This process is also known as the data encapsulation. It is done by hiding the working information to user. In the process, we declare class members as private so that no other class can access these data members. It is accessible only within the class.\n",
    "\n",
    "Data Hiding in Python\n",
    "Python is the most popular programming language as it applies in every technical domain and has a straightforward syntax and vast libraries. In the official Python documentation, Data hiding isolates the client from a part of program implementation. Some of the essential members must be hidden from the user. Programs or modules only reflected how we could use them, but users cannot be familiar with how the application works. Thus it provides security and avoiding dependency as well.\n",
    "\n",
    "We can perform data hiding in Python using the __ double underscore before prefix. This makes the class members private and inaccessible to the other classes.'''"
   ]
  },
  {
   "cell_type": "code",
   "execution_count": 78,
   "id": "9c97be3b-6da3-4fa7-9036-ab43cdfcde23",
   "metadata": {},
   "outputs": [
    {
     "name": "stdout",
     "output_type": "stream",
     "text": [
      "just a test\n",
      "12321421   ishan@gmail.com\n",
      "12321421   ishan@gmail.com\n"
     ]
    }
   ],
   "source": [
    "#3. How can you achieve encapsulation in Python classes? Provide an example.\n",
    "\n",
    "class person:\n",
    "    def __init__(self,name):\n",
    "        self._name=name\n",
    "        \n",
    "    def __show_names(self):\n",
    "        print(self._name)\n",
    "        \n",
    "    def print_msg(self):\n",
    "        print(\"just a test\")\n",
    "        \n",
    "class student(person):\n",
    "    def __init__(self,mob,mail_id):\n",
    "        self.__mob=mob\n",
    "        self.__mail_id=mail_id\n",
    "        \n",
    "    def __show_stud_details(self):\n",
    "        print(self.__mob,\" \",self.__mail_id)\n",
    "        \n",
    "p=person(\"Ishan\")\n",
    "p.print_msg()\n",
    "#p._person__show_names()\n",
    "s=student(12321421,'ishan@gmail.com')\n",
    "print(s._student__mob,\" \",s._student__mail_id)\n",
    "s._student__show_stud_details()\n",
    "        \n",
    "    "
   ]
  },
  {
   "cell_type": "code",
   "execution_count": 3,
   "id": "71cd53ea-fa66-41a0-8794-691b7219fa9a",
   "metadata": {},
   "outputs": [
    {
     "name": "stdout",
     "output_type": "stream",
     "text": [
      "10\n",
      "Just a test\n"
     ]
    }
   ],
   "source": [
    "#4. Discuss the difference between public, private, and protected access modifiers in Python.\n",
    "\n",
    "# public access modifier\n",
    "class test:\n",
    "    def __init__(self,x):\n",
    "        self.x=x\n",
    "        \n",
    "    def show_msg(self):\n",
    "        print(\"Just a test\")\n",
    "        \n",
    "t=test(10)\n",
    "print(t.x)\n",
    "t.show_msg()"
   ]
  },
  {
   "cell_type": "code",
   "execution_count": 4,
   "id": "a46974ec-823d-4f84-8a39-5a7bbcb2a15e",
   "metadata": {},
   "outputs": [
    {
     "name": "stdout",
     "output_type": "stream",
     "text": [
      "10\n",
      "Just a test\n"
     ]
    }
   ],
   "source": [
    "#protected access modifier\n",
    "class test:\n",
    "    def __init__(self,x):\n",
    "        self._x=x\n",
    "        \n",
    "    def _show_msg(self):\n",
    "        print(\"Just a test\")\n",
    "        \n",
    "class test1(test):\n",
    "    def show_data(self):\n",
    "        pass\n",
    "    \n",
    "t=test(10)\n",
    "print(t._x)\n",
    "t._show_msg()"
   ]
  },
  {
   "cell_type": "code",
   "execution_count": 7,
   "id": "86b73d62-2705-44cf-99cd-b634a1606747",
   "metadata": {},
   "outputs": [
    {
     "name": "stdout",
     "output_type": "stream",
     "text": [
      "10\n",
      "Just a test\n"
     ]
    }
   ],
   "source": [
    "# private access modifier\n",
    "\n",
    "class test:\n",
    "    def __init__(self,x):\n",
    "        self.__x=x\n",
    "        \n",
    "    def __show_msg(self):\n",
    "        print(\"Just a test\")\n",
    "        \n",
    "class test1(test):\n",
    "    def show_data(self):\n",
    "        pass\n",
    "    \n",
    "t=test(10)\n",
    "print(t._test__x)\n",
    "t._test__show_msg()"
   ]
  },
  {
   "cell_type": "code",
   "execution_count": 15,
   "id": "9e859580-c4b8-4a6e-8119-24ca74c0707c",
   "metadata": {},
   "outputs": [
    {
     "data": {
      "text/plain": [
       "'Krish'"
      ]
     },
     "execution_count": 15,
     "metadata": {},
     "output_type": "execute_result"
    }
   ],
   "source": [
    "#5. Create a Python class called `Person` with a private attribute `__name`. Provide methods to get and set the\n",
    "#name attribute.\n",
    "\n",
    "class Person:\n",
    "    def __init__(self,name):\n",
    "        self.__name=name\n",
    "        \n",
    "    def __get_name(self):\n",
    "        return self.__name\n",
    "    \n",
    "    def __set_name(self,data):\n",
    "        self.__name=data\n",
    "        return self.__name\n",
    "    \n",
    "ishan=Person(\"Ajay\")\n",
    "ishan._Person__get_name()\n",
    "ishan._Person__set_name('Krish')\n",
    "\n"
   ]
  },
  {
   "cell_type": "code",
   "execution_count": 18,
   "id": "c08957e5-d9fd-4cf6-bf78-5ab62ddff026",
   "metadata": {},
   "outputs": [
    {
     "data": {
      "text/plain": [
       "'Sunny'"
      ]
     },
     "execution_count": 18,
     "metadata": {},
     "output_type": "execute_result"
    }
   ],
   "source": [
    "sudh=Person(\"Sudhanshu\")\n",
    "sudh._Person__get_name()\n",
    "sudh._Person__set_name('Sunny')\n"
   ]
  },
  {
   "cell_type": "code",
   "execution_count": 29,
   "id": "5970da61-f4bf-4e4c-96f0-c64ba3beec5f",
   "metadata": {},
   "outputs": [],
   "source": [
    "#6. Explain the purpose of getter and setter methods in encapsulation. Provide examples.\n",
    "class Person:\n",
    "    def __init__(self,name):\n",
    "        self.name=name\n",
    "        \n",
    "    @property\n",
    "    def show_subject(self):\n",
    "        return self.__name\n",
    "        \n",
    "    @show_subject.getter\n",
    "    def get_name(self):\n",
    "        return self.__name\n",
    "    \n",
    "    @show_subject.setter\n",
    "    def set_name(self,data):\n",
    "        self.__name=data\n",
    "        return self.__name\n",
    "    "
   ]
  },
  {
   "cell_type": "code",
   "execution_count": 30,
   "id": "870c2cd8-2492-4daa-a4e5-480efc3b64d7",
   "metadata": {},
   "outputs": [],
   "source": [
    "p=Person(\"ishan\")"
   ]
  },
  {
   "cell_type": "code",
   "execution_count": 31,
   "id": "afab6cf1-6182-4cca-a973-2686b3ba639b",
   "metadata": {},
   "outputs": [
    {
     "data": {
      "text/plain": [
       "'ishan'"
      ]
     },
     "execution_count": 31,
     "metadata": {},
     "output_type": "execute_result"
    }
   ],
   "source": [
    "p.name"
   ]
  },
  {
   "cell_type": "code",
   "execution_count": 32,
   "id": "c15b66c4-6196-4d56-a193-7c9341a65706",
   "metadata": {},
   "outputs": [],
   "source": [
    "p.name=\"Ajay\""
   ]
  },
  {
   "cell_type": "code",
   "execution_count": 33,
   "id": "e3d90cd6-4ce5-4b1f-9965-0d90770f427f",
   "metadata": {},
   "outputs": [
    {
     "data": {
      "text/plain": [
       "'Ajay'"
      ]
     },
     "execution_count": 33,
     "metadata": {},
     "output_type": "execute_result"
    }
   ],
   "source": [
    "p.name"
   ]
  },
  {
   "cell_type": "code",
   "execution_count": 36,
   "id": "8fb48228-3445-4e50-9a87-57a8f4554252",
   "metadata": {},
   "outputs": [
    {
     "name": "stdout",
     "output_type": "stream",
     "text": [
      "ishan\n",
      "ishan\n"
     ]
    }
   ],
   "source": [
    "#7. What is name mangling in Python, and how does it affect encapsulation?\n",
    "'''In name mangling process any identifier with two leading underscore and one trailing underscore is textually replaced with _classname__identifier where classname is the name of the current class. It means that any identifier of the form __geek (at least two leading underscores or at most one trailing underscore) is replaced with _classname__geek, where classname is the current class name with leading underscore(s) stripped. Example:'''\n",
    "# Python program to demonstrate \n",
    "# name mangling \n",
    "\n",
    "\n",
    "class Student: \n",
    "\tdef __init__(self, name): \n",
    "\t\tself.__name = name \n",
    "\n",
    "\tdef displayName(self): \n",
    "\t\tprint(self.__name) \n",
    "\n",
    "s1 = Student(\"ishan\") \n",
    "s1.displayName() \n",
    "\n",
    "# Raises an error \n",
    "print(s1._Student__name) \n"
   ]
  },
  {
   "cell_type": "code",
   "execution_count": 54,
   "id": "e7acfeb6-1603-4544-a1ee-da749e4bc447",
   "metadata": {},
   "outputs": [
    {
     "name": "stdout",
     "output_type": "stream",
     "text": [
      "Account Number is: 1231242134213\n",
      "Available Balance is: 50000\n"
     ]
    },
    {
     "data": {
      "text/plain": [
       "60000"
      ]
     },
     "execution_count": 54,
     "metadata": {},
     "output_type": "execute_result"
    }
   ],
   "source": [
    "#8. Create a Python class called `BankAccount` with private attributes for the account balance (`__balance`)\n",
    "\n",
    "class BankAccount:\n",
    "    def __init__(self,account_number,balance):\n",
    "        self.__account_number=account_number\n",
    "        self.__balance=balance\n",
    "        self.updated_balance=0\n",
    "        \n",
    "    def depositMoney(self,amount):\n",
    "        self.updated_balance=self.__balance + amount\n",
    "        return self.updated_balance\n",
    "    \n",
    "    def withDrawMoney(self,amount):\n",
    "        return self.updated_balance - amount\n",
    "    \n",
    "    def updatedBalance(self):\n",
    "        return self.updated_balance\n",
    "    \n",
    "b=BankAccount(1231242134213,50000)\n",
    "print(\"Account Number is:\",b._BankAccount__account_number)\n",
    "print(\"Available Balance is:\",b._BankAccount__balance)\n",
    "\n",
    "b.depositMoney(10000)\n"
   ]
  },
  {
   "cell_type": "code",
   "execution_count": 55,
   "id": "adf2bf69-e571-4aa7-8bec-ce85ef990dd8",
   "metadata": {},
   "outputs": [
    {
     "data": {
      "text/plain": [
       "55000"
      ]
     },
     "execution_count": 55,
     "metadata": {},
     "output_type": "execute_result"
    }
   ],
   "source": [
    "b.withDrawMoney(5000)"
   ]
  },
  {
   "cell_type": "code",
   "execution_count": 47,
   "id": "62496b51-943e-4c2f-8d46-8c3ab1c4cd2f",
   "metadata": {},
   "outputs": [
    {
     "data": {
      "text/plain": [
       "'\\nEncapsulation in programming is used to improve code maintainability, security, and flexibility. It enables the bundling of data and methods that operate on that data within a single unit (i.e., a class or object), making it easier to manage and understand.\\n'"
      ]
     },
     "execution_count": 47,
     "metadata": {},
     "output_type": "execute_result"
    }
   ],
   "source": [
    "#9. Discuss the advantages of encapsulation in terms of code maintainability and security.\n",
    "'''\n",
    "Encapsulation in programming is used to improve code maintainability, security, and flexibility. It enables the bundling of data and methods that operate on that data within a single unit (i.e., a class or object), making it easier to manage and understand.\n",
    "'''"
   ]
  },
  {
   "cell_type": "code",
   "execution_count": 58,
   "id": "76194fe0-2575-4857-a8c1-76148f7ce110",
   "metadata": {},
   "outputs": [
    {
     "name": "stdout",
     "output_type": "stream",
     "text": [
      "ishan\n",
      "ishan\n"
     ]
    }
   ],
   "source": [
    "#10. How can you access private attributes in Python? Provide an example demonstrating the use of name\n",
    "#mangling.\n",
    "\n",
    "class Student: \n",
    "\tdef __init__(self, name): \n",
    "\t\tself.__name = name \n",
    "\n",
    "\tdef displayName(self): \n",
    "\t\tprint(self.__name) \n",
    "\n",
    "s1 = Student(\"ishan\") \n",
    "s1.displayName() \n",
    "\n",
    "# Raises an error \n",
    "print(s1._Student__name) \n"
   ]
  },
  {
   "cell_type": "code",
   "execution_count": 1,
   "id": "ca75e381-9d6b-4640-85ca-13b403fac36a",
   "metadata": {},
   "outputs": [
    {
     "name": "stdout",
     "output_type": "stream",
     "text": [
      "John Doe is enrolled in Mathematics taught by Prof. Smith.\n"
     ]
    }
   ],
   "source": [
    "#11. Create a Python class hierarchy for a school system, including classes for students, teachers, and courses,\n",
    "#and implement encapsulation principles to protect sensitive information.\n",
    "\n",
    "class Person:\n",
    "    def __init__(self, name, age):\n",
    "        self._name = name\n",
    "        self._age = age\n",
    "\n",
    "    def get_name(self):\n",
    "        return self._name\n",
    "\n",
    "    def set_name(self, name):\n",
    "        self._name = name\n",
    "\n",
    "    def get_age(self):\n",
    "        return self._age\n",
    "\n",
    "    def set_age(self, age):\n",
    "        self._age = age\n",
    "\n",
    "\n",
    "class Student(Person):\n",
    "    def __init__(self, name, age, student_id):\n",
    "        super().__init__(name, age)\n",
    "        self._student_id = student_id\n",
    "\n",
    "    def get_student_id(self):\n",
    "        return self._student_id\n",
    "\n",
    "    def set_student_id(self, student_id):\n",
    "        self._student_id = student_id\n",
    "\n",
    "\n",
    "class Teacher(Person):\n",
    "    def __init__(self, name, age, employee_id):\n",
    "        super().__init__(name, age)\n",
    "        self._employee_id = employee_id\n",
    "\n",
    "    def get_employee_id(self):\n",
    "        return self._employee_id\n",
    "\n",
    "    def set_employee_id(self, employee_id):\n",
    "        self._employee_id = employee_id\n",
    "\n",
    "\n",
    "class Course:\n",
    "    def __init__(self, course_name, course_code):\n",
    "        self._course_name = course_name\n",
    "        self._course_code = course_code\n",
    "        self._students_enrolled = []\n",
    "\n",
    "    def get_course_name(self):\n",
    "        return self._course_name\n",
    "\n",
    "    def set_course_name(self, course_name):\n",
    "        self._course_name = course_name\n",
    "\n",
    "    def get_course_code(self):\n",
    "        return self._course_code\n",
    "\n",
    "    def set_course_code(self, course_code):\n",
    "        self._course_code = course_code\n",
    "\n",
    "    def enroll_student(self, student):\n",
    "        self._students_enrolled.append(student)\n",
    "\n",
    "    def get_students_enrolled(self):\n",
    "        return self._students_enrolled\n",
    "\n",
    "\n",
    "# Example usage:\n",
    "student1 = Student(\"John Doe\", 18, \"S12345\")\n",
    "teacher1 = Teacher(\"Prof. Smith\", 35, \"T98765\")\n",
    "course1 = Course(\"Mathematics\", \"MATH101\")\n",
    "\n",
    "course1.enroll_student(student1)\n",
    "\n",
    "print(f\"{student1.get_name()} is enrolled in {course1.get_course_name()} taught by {teacher1.get_name()}.\")\n"
   ]
  },
  {
   "cell_type": "code",
   "execution_count": 2,
   "id": "06262e2f-4876-492e-9e48-247f71ab1683",
   "metadata": {},
   "outputs": [
    {
     "name": "stdout",
     "output_type": "stream",
     "text": [
      "John Doe\n",
      "20\n"
     ]
    }
   ],
   "source": [
    "#12. Explain the concept of property decorators in Python and how they relate to encapsulation.\n",
    "class Student:\n",
    "    def __init__(self, name, age):\n",
    "        self._name = name  # Private attribute with leading underscore\n",
    "        self._age = age\n",
    "\n",
    "    @property\n",
    "    def name(self):\n",
    "        return self._name\n",
    "\n",
    "    @name.setter\n",
    "    def name(self, value):\n",
    "        # You can add validation or other logic here before setting the value\n",
    "        self._name = value\n",
    "\n",
    "    @property\n",
    "    def age(self):\n",
    "        return self._age\n",
    "\n",
    "    @age.setter\n",
    "    def age(self, value):\n",
    "        if value < 0:\n",
    "            raise ValueError(\"Age cannot be negative.\")\n",
    "        self._age = value\n",
    "\n",
    "# Example usage:\n",
    "student = Student(\"John Doe\", 20)\n",
    "\n",
    "# Accessing properties using the dot notation\n",
    "print(student.name)  # Calls the getter method\n",
    "print(student.age)\n",
    "\n",
    "# Using the setter methods to modify the attributes\n",
    "student.name = \"Jane Doe\"  # Calls the name setter method\n",
    "student.age = 21  # Calls the age setter method\n",
    "\n",
    "# Encapsulation is maintained, as direct access to _name and _age is discouraged\n",
    "# The properties provide controlled access with validation or additional logic if needed\n"
   ]
  },
  {
   "cell_type": "code",
   "execution_count": 3,
   "id": "fc6883dd-27d7-4f1f-8c42-87dd60536156",
   "metadata": {},
   "outputs": [
    {
     "name": "stdout",
     "output_type": "stream",
     "text": [
      "Account Holder: John Doe\n",
      "Account Balance: $1300\n"
     ]
    }
   ],
   "source": [
    "#13. What is data hiding, and why is it important in encapsulation? Provide examples.\n",
    "class BankAccount:\n",
    "    def __init__(self, account_holder, balance):\n",
    "        self._account_holder = account_holder  # Private attribute\n",
    "        self._balance = balance  # Private attribute\n",
    "\n",
    "    def deposit(self, amount):\n",
    "        # Additional logic, such as validation, can be added here\n",
    "        self._balance += amount\n",
    "\n",
    "    def withdraw(self, amount):\n",
    "        # Additional logic, such as checking for sufficient balance, can be added here\n",
    "        self._balance -= amount\n",
    "\n",
    "    def get_balance(self):\n",
    "        return self._balance\n",
    "\n",
    "    def get_account_holder(self):\n",
    "        return self._account_holder\n",
    "\n",
    "# Example usage:\n",
    "account = BankAccount(\"John Doe\", 1000)\n",
    "\n",
    "# Direct access to private attributes is discouraged\n",
    "# Instead, controlled access is provided through public methods\n",
    "account.deposit(500)\n",
    "account.withdraw(200)\n",
    "\n",
    "# Accessing balance and account holder through getter methods\n",
    "print(f\"Account Holder: {account.get_account_holder()}\")\n",
    "print(f\"Account Balance: ${account.get_balance()}\")\n"
   ]
  },
  {
   "cell_type": "code",
   "execution_count": 4,
   "id": "c0264385-5844-4b8c-bf84-269dcdd5bf25",
   "metadata": {},
   "outputs": [
    {
     "data": {
      "text/plain": [
       "1249.5"
      ]
     },
     "execution_count": 4,
     "metadata": {},
     "output_type": "execute_result"
    }
   ],
   "source": [
    "#14. Create a Python class called `Employee` with private attributes for salary (`__salary`) and employee ID (`__employee_id`). Provide a method to calculate yearly bonuses.\n",
    "\n",
    "class Employee:\n",
    "    def __init__(self,emp_id,salary):\n",
    "        self.__emp_id=emp_id\n",
    "        self.__salary=salary\n",
    "        \n",
    "    def __calculate_bonus(self):\n",
    "        self.bonus=self.__salary * 8.33/100\n",
    "        return self.bonus\n",
    "    \n",
    "ishan=Employee(101,15000)\n",
    "ishan._Employee__calculate_bonus()"
   ]
  },
  {
   "cell_type": "markdown",
   "id": "f9f7ddee-e017-487e-a657-e98623af33e8",
   "metadata": {},
   "source": [
    "# 15. Discuss the use of accessors and mutators in encapsulation. How do they help maintain control over attribute access?\n",
    "\n",
    "Accessors and mutators are methods used in encapsulation to control access to the attributes of a class. They are also known as getters and setters, respectively. These methods provide a way to retrieve and modify the values of private attributes, allowing the class to maintain control over how its internal state is accessed and modified.\n",
    "\n",
    "Accessors (Getters):\n",
    "\n",
    "Purpose: Accessors are methods used to retrieve the values of private attributes.\n",
    "Naming convention: Accessors typically have names prefixed with \"get_\" followed by the attribute name.\n",
    "\n",
    "Mutators (Setters):\n",
    "\n",
    "Purpose: Mutators are methods used to modify the values of private attributes.\n",
    "Naming convention: Mutators typically have names prefixed with \"set_\" followed by the attribute name."
   ]
  },
  {
   "cell_type": "code",
   "execution_count": 6,
   "id": "44db813f-4580-4a36-808c-9094824932a8",
   "metadata": {},
   "outputs": [],
   "source": [
    "class Person:\n",
    "    def __init__(self, name):\n",
    "        self._name = name  # Private attribute\n",
    "\n",
    "    def get_name(self):\n",
    "        return self._name  # Accessor method\n",
    "\n",
    "class Person:\n",
    "    def __init__(self, name):\n",
    "        self._name = name  # Private attribute\n",
    "\n",
    "    def set_name(self, new_name):\n",
    "        # Additional validation or logic can be added here\n",
    "        self._name = new_name  # Mutator method\n"
   ]
  },
  {
   "cell_type": "code",
   "execution_count": 7,
   "id": "20e230b9-8ab4-4824-b026-38363414843d",
   "metadata": {},
   "outputs": [
    {
     "name": "stdout",
     "output_type": "stream",
     "text": [
      "Location: Living Room\n",
      "Current Temperature: 25.0°C\n",
      "Updated Temperature: 30.0°C\n"
     ]
    }
   ],
   "source": [
    "class TemperatureSensor:\n",
    "    def __init__(self, location, _temperature):\n",
    "        self._location = location  # Private attribute\n",
    "        self._temperature = _temperature  # Private attribute\n",
    "\n",
    "    def get_location(self):\n",
    "        return self._location  # Accessor method\n",
    "\n",
    "    def get_temperature(self):\n",
    "        return self._temperature  # Accessor method\n",
    "\n",
    "    def set_temperature(self, new_temperature):\n",
    "        if new_temperature < -273.15:\n",
    "            raise ValueError(\"Temperature cannot be below absolute zero.\")\n",
    "        self._temperature = new_temperature  # Mutator method\n",
    "\n",
    "# Example usage:\n",
    "sensor = TemperatureSensor(\"Living Room\", 25.0)\n",
    "\n",
    "# Accessing attributes through accessors\n",
    "print(f\"Location: {sensor.get_location()}\")\n",
    "print(f\"Current Temperature: {sensor.get_temperature()}°C\")\n",
    "\n",
    "# Modifying temperature through mutator\n",
    "sensor.set_temperature(30.0)\n",
    "print(f\"Updated Temperature: {sensor.get_temperature()}°C\")\n"
   ]
  },
  {
   "cell_type": "markdown",
   "id": "1397bd1a-7e3e-4972-921f-e36ec463696f",
   "metadata": {},
   "source": [
    "# 16. What are the potential drawbacks or disadvantages of using encapsulation in Python?\n",
    "\n",
    "While encapsulation is generally a beneficial concept in object-oriented programming, including Python, there are some potential drawbacks or considerations to be aware of:\n",
    "\n",
    "Overhead:\n",
    "\n",
    "The use of accessors and mutators (getters and setters) can introduce additional method calls, leading to a slight performance overhead. For simple classes or situations where performance is critical, this overhead may be a concern.\n",
    "Boilerplate Code:\n",
    "\n",
    "Implementing accessors and mutators for every attribute can lead to additional boilerplate code, making the class definitions longer and potentially less readable.\n",
    "Flexibility vs. Rigidity:\n",
    "\n",
    "Over-encapsulation can make the code more rigid and less flexible. If accessors and mutators are applied excessively, making changes to the internal representation of a class may require modifying a significant amount of code.\n",
    "Violation of Pythonic Idioms:\n",
    "\n",
    "Python follows a principle known as \"we are all consenting adults here,\" implying that developers are trusted to use the language features responsibly. Excessive use of encapsulation might be considered against the Pythonic philosophy of simplicity and readability.\n",
    "Limited Information Hiding:\n",
    "\n",
    "Python does not have strict access control mechanisms like some other languages (e.g., Java or C++). Attributes marked with a single leading underscore (_) are still accessible, and true private attributes are not enforced. This can limit the effectiveness of encapsulation in hiding implementation details.\n",
    "Increased Complexity for Simple Cases:\n",
    "\n",
    "For small projects or simple classes, applying encapsulation might introduce unnecessary complexity. It could be more pragmatic to have direct access to attributes without the need for accessors and mutators.\n",
    "Debugging Challenges:\n",
    "\n",
    "When debugging, encapsulation may hinder the ability to inspect and modify internal state easily. This can be especially true if accessors and mutators contain complex logic or if they are overridden in subclasses.\n",
    "It's important to note that these drawbacks should be considered in the context of the specific project requirements and development goals. Encapsulation is a valuable tool for managing complexity, improving code maintainability, and promoting good software design practices. However, it should be applied judiciously, and developers should strike a balance between encapsulation and the pragmatic principles of simplicity and readability."
   ]
  },
  {
   "cell_type": "code",
   "execution_count": 8,
   "id": "9536b9fc-dc3e-4244-8302-f45ece55153c",
   "metadata": {},
   "outputs": [
    {
     "name": "stdout",
     "output_type": "stream",
     "text": [
      "Book 1: The Great Gatsby by F. Scott Fitzgerald, Available: True\n",
      "Book 2: To Kill a Mockingbird by Harper Lee, Available: True\n",
      "Book 'The Great Gatsby' by F. Scott Fitzgerald is borrowed.\n",
      "Book 'To Kill a Mockingbird' by Harper Lee is borrowed.\n",
      "Book 'The Great Gatsby' by F. Scott Fitzgerald is returned.\n",
      "Book 'To Kill a Mockingbird' by Harper Lee is returned.\n"
     ]
    }
   ],
   "source": [
    "#17. Create a Python class for a library system that encapsulates book information, including titles, authors,\n",
    "#and availability status.\n",
    "\n",
    "class Book:\n",
    "    def __init__(self, title, author, availability=True):\n",
    "        self._title = title  # Private attribute\n",
    "        self._author = author  # Private attribute\n",
    "        self._availability = availability  # Private attribute\n",
    "\n",
    "    def get_title(self):\n",
    "        return self._title  # Accessor method\n",
    "\n",
    "    def get_author(self):\n",
    "        return self._author  # Accessor method\n",
    "\n",
    "    def is_available(self):\n",
    "        return self._availability  # Accessor method\n",
    "\n",
    "    def borrow_book(self):\n",
    "        if self._availability:\n",
    "            print(f\"Book '{self._title}' by {self._author} is borrowed.\")\n",
    "            self._availability = False\n",
    "        else:\n",
    "            print(f\"Sorry, the book '{self._title}' is currently unavailable.\")\n",
    "\n",
    "    def return_book(self):\n",
    "        if not self._availability:\n",
    "            print(f\"Book '{self._title}' by {self._author} is returned.\")\n",
    "            self._availability = True\n",
    "        else:\n",
    "            print(f\"The book '{self._title}' is already available.\")\n",
    "\n",
    "# Example usage:\n",
    "book1 = Book(\"The Great Gatsby\", \"F. Scott Fitzgerald\")\n",
    "book2 = Book(\"To Kill a Mockingbird\", \"Harper Lee\")\n",
    "\n",
    "# Accessing book information through accessors\n",
    "print(f\"Book 1: {book1.get_title()} by {book1.get_author()}, Available: {book1.is_available()}\")\n",
    "print(f\"Book 2: {book2.get_title()} by {book2.get_author()}, Available: {book2.is_available()}\")\n",
    "\n",
    "# Borrowing and returning books\n",
    "book1.borrow_book()\n",
    "book2.borrow_book()\n",
    "\n",
    "book1.return_book()\n",
    "book2.return_book()\n"
   ]
  },
  {
   "cell_type": "code",
   "execution_count": 9,
   "id": "78ef844c-6a69-4d0e-af13-b901c460e010",
   "metadata": {},
   "outputs": [
    {
     "name": "stdout",
     "output_type": "stream",
     "text": [
      "Result of addition: 8\n"
     ]
    }
   ],
   "source": [
    "#18. Explain how encapsulation enhances code reusability and modularity in Python programs.\n",
    "\n",
    "class Calculator:\n",
    "    def add(self, a, b):\n",
    "        return a + b\n",
    "\n",
    "    def subtract(self, a, b):\n",
    "        return a - b\n",
    "\n",
    "    def multiply(self, a, b):\n",
    "        return a * b\n",
    "\n",
    "    def divide(self, a, b):\n",
    "        if b != 0:\n",
    "            return a / b\n",
    "        else:\n",
    "            print(\"Error: Division by zero.\")\n",
    "\n",
    "# External code using the Calculator class\n",
    "calculator = Calculator()\n",
    "result = calculator.add(5, 3)\n",
    "print(\"Result of addition:\", result)\n"
   ]
  },
  {
   "cell_type": "markdown",
   "id": "77d7850f-0a42-4d55-896b-24efed39ea1d",
   "metadata": {},
   "source": [
    "# 19. Describe the concept of information hiding in encapsulation. Why is it essential in software development?\n",
    "\n",
    "Information hiding, also known as data hiding, is a key concept in encapsulation that involves restricting the access to certain details or implementation specifics of a class and exposing only what is necessary for the external world to use. The goal is to hide the internal workings of a class and provide a well-defined interface through which external code can interact. This concept is crucial for several reasons in software development:\n",
    "\n",
    "Abstraction:\n",
    "\n",
    "Information hiding enables abstraction, allowing developers to focus on the essential aspects of a class or module without being concerned about the intricate details of its implementation. Abstraction simplifies complex systems by providing a high-level view of the functionality.\n",
    "Reduced Complexity:\n",
    "\n",
    "By hiding the internal details, information hiding reduces the complexity of a system. External code interacts with a class through a simplified and well-defined interface, making it easier for developers to understand and use the component without being overwhelmed by its internal intricacies.\n",
    "Encapsulation of Implementation Details:\n",
    "\n",
    "Information hiding is closely tied to encapsulation. It allows developers to encapsulate the implementation details within a class or module, preventing direct access to internal attributes or methods from external code. This encapsulation ensures that changes to the internal implementation do not affect the external code using the class.\n",
    "Maintenance and Refactoring:\n",
    "\n",
    "Information hiding facilitates easier maintenance and refactoring. When the internal details of a class are hidden, modifications to its implementation can be made without affecting the rest of the system, as long as the external interface remains unchanged. This reduces the risk of introducing bugs and streamlines the maintenance process.\n",
    "Security and Access Control:\n",
    "\n",
    "Information hiding provides a level of security by controlling access to certain attributes or methods. By designating some elements as private or protected, the class can enforce access control rules, limiting the ways in which external code can interact with its internal state. This helps prevent unintended interference or manipulation.\n",
    "Code Reusability:\n",
    "\n",
    "Information hiding promotes code reusability by exposing a clear and consistent interface for a class or module. When the external interface remains the same, the class can be easily reused in different parts of the program or across multiple projects without worrying about the internal implementation.\n",
    "Black-Box Mentality:\n",
    "\n",
    "Information hiding encourages a \"black-box\" mentality, where external code treats a class as a black box with a known interface. Developers don't need to know how the internal details are implemented; they only need to understand how to use the exposed methods and properties.\n",
    "Enhanced Collaboration:\n",
    "\n",
    "Information hiding enhances collaboration among developers working on a project. By clearly defining interfaces and hiding internal details, different teams or individuals can work on separate components without needing to understand the entire system's intricacies.\n",
    "In summary, information hiding is essential in software development because it promotes abstraction, reduces complexity, encapsulates implementation details, facilitates maintenance, enhances security, supports code reusability, fosters a black-box mentality, and encourages collaboration. It is a fundamental principle in achieving modular, maintainable, and scalable software systems."
   ]
  },
  {
   "cell_type": "code",
   "execution_count": 10,
   "id": "a65bd69a-fc97-4bea-8c39-ad51805f1f09",
   "metadata": {},
   "outputs": [
    {
     "name": "stdout",
     "output_type": "stream",
     "text": [
      "Customer Name: John Doe\n",
      "Customer Address: 123 Main St\n",
      "Contact Information: john.doe@example.com\n",
      "Updated Customer Name: Jane Doe\n",
      "Updated Customer Address: 456 Oak St\n",
      "Updated Contact Information: jane.doe@example.com\n"
     ]
    }
   ],
   "source": [
    "#20. Create a Python class called `Customer` with private attributes for customer details like name, address,\n",
    "#and contact information. Implement encapsulation to ensure data integrity and security.\n",
    "\n",
    "class Customer:\n",
    "    def __init__(self, name, address, contact_info):\n",
    "        self._name = name  # Private attribute\n",
    "        self._address = address  # Private attribute\n",
    "        self._contact_info = contact_info  # Private attribute\n",
    "\n",
    "    # Getter methods for accessing private attributes\n",
    "    def get_name(self):\n",
    "        return self._name\n",
    "\n",
    "    def get_address(self):\n",
    "        return self._address\n",
    "\n",
    "    def get_contact_info(self):\n",
    "        return self._contact_info\n",
    "\n",
    "    # Setter methods for modifying private attributes\n",
    "    def set_name(self, new_name):\n",
    "        # Additional validation or logic can be added here\n",
    "        self._name = new_name\n",
    "\n",
    "    def set_address(self, new_address):\n",
    "        # Additional validation or logic can be added here\n",
    "        self._address = new_address\n",
    "\n",
    "    def set_contact_info(self, new_contact_info):\n",
    "        # Additional validation or logic can be added here\n",
    "        self._contact_info = new_contact_info\n",
    "\n",
    "# Example usage:\n",
    "customer = Customer(\"John Doe\", \"123 Main St\", \"john.doe@example.com\")\n",
    "\n",
    "# Accessing customer details through getter methods\n",
    "print(f\"Customer Name: {customer.get_name()}\")\n",
    "print(f\"Customer Address: {customer.get_address()}\")\n",
    "print(f\"Contact Information: {customer.get_contact_info()}\")\n",
    "\n",
    "# Modifying customer details through setter methods\n",
    "customer.set_name(\"Jane Doe\")\n",
    "customer.set_address(\"456 Oak St\")\n",
    "customer.set_contact_info(\"jane.doe@example.com\")\n",
    "\n",
    "# Accessing updated customer details\n",
    "print(f\"Updated Customer Name: {customer.get_name()}\")\n",
    "print(f\"Updated Customer Address: {customer.get_address()}\")\n",
    "print(f\"Updated Contact Information: {customer.get_contact_info()}\")\n"
   ]
  },
  {
   "cell_type": "markdown",
   "id": "dbe963e1-3f0b-46ce-87a6-e3676c617b72",
   "metadata": {},
   "source": [
    "Polymorphism:"
   ]
  },
  {
   "cell_type": "markdown",
   "id": "a14112dc-7920-433f-b496-207bdbc95431",
   "metadata": {},
   "source": [
    "# 1. What is polymorphism in Python? Explain how it is related to object-oriented programming.\n",
    "\n",
    "Polymorphism is a fundamental concept in object-oriented programming (OOP) that allows objects of different classes to be treated as objects of a common base class. It enables a single interface to represent different types or classes, providing a mechanism to use a single function, method, or operator with objects of different types. Polymorphism simplifies code and makes it more flexible, extensible, and reusable."
   ]
  },
  {
   "cell_type": "markdown",
   "id": "a5fb91b0-ff13-48a9-948e-49c42273e589",
   "metadata": {},
   "source": [
    "# 2. Describe the difference between compile-time polymorphism and runtime polymorphism in Python.\n",
    "\n",
    "In Python, the terms \"compile-time polymorphism\" and \"runtime polymorphism\" are often used in the context of method overloading and method overriding, respectively. However, it's essential to note that Python, being a dynamically typed and interpreted language, doesn't strictly differentiate between compile-time and runtime stages in the same way as statically typed languages do. Nevertheless, we can discuss the concepts in the context of Python's behavior.\n",
    "\n",
    "Compile-time Polymorphism (Method Overloading):\n",
    "\n",
    "In some statically typed languages, compile-time polymorphism refers to the ability to have multiple methods with the same name but different parameters. The compiler determines which method to call based on the number and types of arguments provided.\n",
    "\n",
    "In Python, the language itself does not support traditional method overloading as it is seen in languages like Java or C++. However, a form of polymorphism can be achieved through default arguments and variable-length argument lists.\n",
    "\n"
   ]
  },
  {
   "cell_type": "code",
   "execution_count": 11,
   "id": "1a941eab-57bc-4fcc-bc1f-a82856a05c81",
   "metadata": {},
   "outputs": [],
   "source": [
    "class Calculator:\n",
    "    def add(self, a, b, c=None):\n",
    "        if c is not None:\n",
    "            return a + b + c\n",
    "        else:\n",
    "            return a + b\n",
    "\n",
    "# Example usage\n",
    "calculator = Calculator()\n",
    "result1 = calculator.add(2, 3)\n",
    "result2 = calculator.add(2, 3, 4)\n"
   ]
  },
  {
   "cell_type": "markdown",
   "id": "eeec807d-8859-45e5-835c-36be2dd0f381",
   "metadata": {},
   "source": [
    "In this example, the add method in the Calculator class can handle both two and three arguments. The decision about which behavior to exhibit is made at runtime based on the number of arguments provided.\n",
    "\n",
    "Runtime Polymorphism (Method Overriding):\n",
    "\n",
    "Runtime polymorphism, also known as dynamic polymorphism, refers to the ability of an object to exhibit different behaviors based on its actual type during runtime. This is achieved through method overriding, where a subclass provides a specific implementation for a method that is already defined in its superclass."
   ]
  },
  {
   "cell_type": "code",
   "execution_count": 12,
   "id": "8c450873-42b8-45bc-96a9-5972695cd10c",
   "metadata": {},
   "outputs": [
    {
     "name": "stdout",
     "output_type": "stream",
     "text": [
      "Animal speaks\n",
      "Dog barks\n",
      "Cat meows\n"
     ]
    }
   ],
   "source": [
    "class Animal:\n",
    "    def speak(self):\n",
    "        return \"Animal speaks\"\n",
    "\n",
    "class Dog(Animal):\n",
    "    def speak(self):\n",
    "        return \"Dog barks\"\n",
    "\n",
    "class Cat(Animal):\n",
    "    def speak(self):\n",
    "        return \"Cat meows\"\n",
    "\n",
    "# Example usage\n",
    "animal = Animal()\n",
    "dog = Dog()\n",
    "cat = Cat()\n",
    "\n",
    "print(animal.speak())  # Output: \"Animal speaks\"\n",
    "print(dog.speak())     # Output: \"Dog barks\"\n",
    "print(cat.speak())     # Output: \"Cat meows\"\n"
   ]
  },
  {
   "cell_type": "markdown",
   "id": "b31f80db-4125-44b8-b9d0-ee7895bbc490",
   "metadata": {},
   "source": [
    "In this example, the speak method is overridden in the Dog and Cat subclasses, allowing objects of these subclasses to exhibit different behaviors compared to the base class Animal at runtime.\n",
    "\n",
    "In Python, since it is dynamically typed and the method resolution is determined at runtime, the distinction between compile-time polymorphism and runtime polymorphism is less rigid than in statically typed languages. Both method overloading (using default arguments or variable-length argument lists) and method overriding (using subclassing) can be considered forms of polymorphism in Python, and the decision about which method to call is made dynamically at runtime."
   ]
  },
  {
   "cell_type": "code",
   "execution_count": 14,
   "id": "cd4785c5-4401-4907-9715-5641aa60b531",
   "metadata": {},
   "outputs": [
    {
     "data": {
      "text/plain": [
       "153.86"
      ]
     },
     "execution_count": 14,
     "metadata": {},
     "output_type": "execute_result"
    }
   ],
   "source": [
    "#3. Create a Python class hierarchy for shapes (e.g., circle, square, triangle) and demonstrate polymorphism\n",
    "#through a common method, such as `calculate_area()`.\n",
    "\n",
    "class shapes:\n",
    "    pass\n",
    "\n",
    "class circle(shapes):\n",
    "    def calculate_area(self,r):\n",
    "        return 3.14 * r * r\n",
    "    \n",
    "class square(shapes):\n",
    "    def calculate_area(self,side):\n",
    "        return  side * side\n",
    "    \n",
    "    \n",
    "class triangle(shapes):\n",
    "    def calculate_area(self,b,h):\n",
    "        return 0.5 * b * h\n",
    "    \n",
    "c=circle()\n",
    "c.calculate_area(7)\n",
    "\n"
   ]
  },
  {
   "cell_type": "code",
   "execution_count": 15,
   "id": "23f94771-f234-42a8-95b4-7ba95c1f8e9d",
   "metadata": {},
   "outputs": [
    {
     "data": {
      "text/plain": [
       "100"
      ]
     },
     "execution_count": 15,
     "metadata": {},
     "output_type": "execute_result"
    }
   ],
   "source": [
    "s=square()\n",
    "s.calculate_area(10)"
   ]
  },
  {
   "cell_type": "code",
   "execution_count": 16,
   "id": "51e1ca6a-80c2-431d-a079-62b11e0b9f55",
   "metadata": {},
   "outputs": [
    {
     "data": {
      "text/plain": [
       "90.0"
      ]
     },
     "execution_count": 16,
     "metadata": {},
     "output_type": "execute_result"
    }
   ],
   "source": [
    "t=triangle()\n",
    "t.calculate_area(12,15)"
   ]
  },
  {
   "cell_type": "code",
   "execution_count": 17,
   "id": "51c248a1-1b94-4126-be12-c750aad91880",
   "metadata": {},
   "outputs": [
    {
     "name": "stdout",
     "output_type": "stream",
     "text": [
      "Animal speaks\n",
      "Dog barks\n",
      "Cat meows\n"
     ]
    }
   ],
   "source": [
    "#4. Explain the concept of method overriding in polymorphism. Provide an example.\n",
    "class Animal:\n",
    "    def speak(self):\n",
    "        return \"Animal speaks\"\n",
    "\n",
    "class Dog(Animal):\n",
    "    def speak(self):\n",
    "        return \"Dog barks\"\n",
    "\n",
    "class Cat(Animal):\n",
    "    def speak(self):\n",
    "        return \"Cat meows\"\n",
    "\n",
    "# Example usage\n",
    "animal = Animal()\n",
    "dog = Dog()\n",
    "cat = Cat()\n",
    "\n",
    "print(animal.speak())  # Output: \"Animal speaks\"\n",
    "print(dog.speak())     # Output: \"Dog barks\"\n",
    "print(cat.speak())     # Output: \"Cat meows\"\n"
   ]
  },
  {
   "cell_type": "markdown",
   "id": "446c9ec3-a580-4141-94f9-a482785324b8",
   "metadata": {},
   "source": [
    "# 5. How is polymorphism different from method overloading in Python? Provide examples for both.\n",
    "\n",
    "Method Overloading:\n",
    "Method overloading involves defining multiple methods with the same name in a class but with different parameter lists. In some statically typed languages, the compiler determines which method to call based on the number and types of arguments provided. In Python, however, traditional method overloading (as seen in languages like Java or C++) is not supported. Instead, a form of polymorphism can be achieved through default arguments and variable-length argument lists.\n",
    "\n"
   ]
  },
  {
   "cell_type": "code",
   "execution_count": 18,
   "id": "d3866bd1-2604-4935-818b-1959c20ea3d6",
   "metadata": {},
   "outputs": [
    {
     "name": "stdout",
     "output_type": "stream",
     "text": [
      "5\n",
      "9\n"
     ]
    }
   ],
   "source": [
    "class Calculator:\n",
    "    def add(self, a, b, c=None):\n",
    "        if c is not None:\n",
    "            return a + b + c\n",
    "        else:\n",
    "            return a + b\n",
    "\n",
    "# Example usage\n",
    "calculator = Calculator()\n",
    "result1 = calculator.add(2, 3)\n",
    "result2 = calculator.add(2, 3, 4)\n",
    "\n",
    "print(result1)  # Output: 5\n",
    "print(result2)  # Output: 9\n"
   ]
  },
  {
   "cell_type": "code",
   "execution_count": 19,
   "id": "99519d92-7796-40d9-b316-dcd10035d4fc",
   "metadata": {},
   "outputs": [
    {
     "name": "stdout",
     "output_type": "stream",
     "text": [
      "Animal speaks\n",
      "Dog barks\n",
      "Cat meows\n",
      "Bird flies\n"
     ]
    }
   ],
   "source": [
    "#6. Create a Python class called `Animal` with a method `speak()`. Then, create child classes like `Dog`, `Cat`, and `Bird`, each with their own `speak()` method. Demonstrate polymorphism by calling the `speak()` method\n",
    "#on objects of different subclasses.\n",
    "\n",
    "class Animal:\n",
    "    def speak(self):\n",
    "        return \"Animal speaks\"\n",
    "\n",
    "class Dog(Animal):\n",
    "    def speak(self):\n",
    "        return \"Dog barks\"\n",
    "\n",
    "class Cat(Animal):\n",
    "    def speak(self):\n",
    "        return \"Cat meows\"\n",
    "    \n",
    "class Bird(Animal):\n",
    "    def speak(self):\n",
    "        return \"Bird flies\"\n",
    "\n",
    "\n",
    "# Example usage\n",
    "animal = Animal()\n",
    "dog = Dog()\n",
    "cat = Cat()\n",
    "bird=Bird()\n",
    "\n",
    "print(animal.speak())  # Output: \"Animal speaks\"\n",
    "print(dog.speak())     # Output: \"Dog barks\"\n",
    "print(cat.speak())     # Output: \"Cat meows\"\n",
    "print(bird.speak())    # Output: \"bird flies\""
   ]
  },
  {
   "cell_type": "code",
   "execution_count": 20,
   "id": "4bb79538-5c6e-41e8-bcaf-e711e24d7ced",
   "metadata": {},
   "outputs": [
    {
     "name": "stdout",
     "output_type": "stream",
     "text": [
      "Area: 78.5\n",
      "Area: 24\n"
     ]
    }
   ],
   "source": [
    "#7. Discuss the use of abstract methods and classes in achieving polymorphism in Python. Provide an example\n",
    "#using the `abc` module.\n",
    "\n",
    "from abc import ABC, abstractmethod\n",
    "\n",
    "# Abstract class with an abstract method\n",
    "class Shape(ABC):\n",
    "    @abstractmethod\n",
    "    def area(self):\n",
    "        pass\n",
    "\n",
    "# Concrete subclasses implementing the abstract method\n",
    "class Circle(Shape):\n",
    "    def __init__(self, radius):\n",
    "        self.radius = radius\n",
    "\n",
    "    def area(self):\n",
    "        return 3.14 * self.radius * self.radius\n",
    "\n",
    "class Rectangle(Shape):\n",
    "    def __init__(self, length, width):\n",
    "        self.length = length\n",
    "        self.width = width\n",
    "\n",
    "    def area(self):\n",
    "        return self.length * self.width\n",
    "\n",
    "# Function that takes a Shape object and calculates its area\n",
    "def print_area(shape):\n",
    "    print(f\"Area: {shape.area()}\")\n",
    "\n",
    "# Example usage\n",
    "circle = Circle(radius=5)\n",
    "rectangle = Rectangle(length=4, width=6)\n",
    "\n",
    "print_area(circle)      # Output: Area: 78.5\n",
    "print_area(rectangle)   # Output: Area: 24\n"
   ]
  },
  {
   "cell_type": "code",
   "execution_count": 21,
   "id": "ca1cb8b9-4523-4e2f-be25-5895f720e4c0",
   "metadata": {},
   "outputs": [
    {
     "name": "stdout",
     "output_type": "stream",
     "text": [
      "Toyota Camry (Car) with Gasoline engine is started.\n",
      "Schwinn Cruiser (Bicycle) is started by pedaling.\n",
      "Yamaha WaveRunner (Boat) with Jet propeller is started.\n"
     ]
    }
   ],
   "source": [
    "#8. Create a Python class hierarchy for a vehicle system (e.g., car, bicycle, boat) and implement a polymorphic `start()` method that prints a message specific to each vehicle type.\n",
    "\n",
    "from abc import ABC, abstractmethod\n",
    "\n",
    "# Abstract base class for vehicles\n",
    "class Vehicle(ABC):\n",
    "    def __init__(self, brand, model):\n",
    "        self.brand = brand\n",
    "        self.model = model\n",
    "\n",
    "    @abstractmethod\n",
    "    def start(self):\n",
    "        pass\n",
    "\n",
    "# Concrete class for cars\n",
    "class Car(Vehicle):\n",
    "    def __init__(self, brand, model, fuel_type):\n",
    "        super().__init__(brand, model)\n",
    "        self.fuel_type = fuel_type\n",
    "\n",
    "    def start(self):\n",
    "        return f\"{self.brand} {self.model} (Car) with {self.fuel_type} engine is started.\"\n",
    "\n",
    "# Concrete class for bicycles\n",
    "class Bicycle(Vehicle):\n",
    "    def __init__(self, brand, model):\n",
    "        super().__init__(brand, model)\n",
    "\n",
    "    def start(self):\n",
    "        return f\"{self.brand} {self.model} (Bicycle) is started by pedaling.\"\n",
    "\n",
    "# Concrete class for boats\n",
    "class Boat(Vehicle):\n",
    "    def __init__(self, brand, model, propeller_type):\n",
    "        super().__init__(brand, model)\n",
    "        self.propeller_type = propeller_type\n",
    "\n",
    "    def start(self):\n",
    "        return f\"{self.brand} {self.model} (Boat) with {self.propeller_type} propeller is started.\"\n",
    "\n",
    "# Function to start a vehicle polymorphically\n",
    "def start_vehicle(vehicle):\n",
    "    return vehicle.start()\n",
    "\n",
    "# Example usage\n",
    "car = Car(brand=\"Toyota\", model=\"Camry\", fuel_type=\"Gasoline\")\n",
    "bicycle = Bicycle(brand=\"Schwinn\", model=\"Cruiser\")\n",
    "boat = Boat(brand=\"Yamaha\", model=\"WaveRunner\", propeller_type=\"Jet\")\n",
    "\n",
    "# Polymorphic start method\n",
    "print(start_vehicle(car))      # Output: Toyota Camry (Car) with Gasoline engine is started.\n",
    "print(start_vehicle(bicycle))  # Output: Schwinn Cruiser (Bicycle) is started by pedaling.\n",
    "print(start_vehicle(boat))      # Output: Yamaha WaveRunner (Boat) with Jet propeller is started.\n"
   ]
  },
  {
   "cell_type": "code",
   "execution_count": 22,
   "id": "3e352aca-6036-4776-9b79-47655f10fb1b",
   "metadata": {},
   "outputs": [
    {
     "name": "stdout",
     "output_type": "stream",
     "text": [
      "True\n",
      "True\n",
      "True\n"
     ]
    }
   ],
   "source": [
    "#9. Explain the significance of the `isinstance()` and `issubclass()` functions in Python polymorphism.\n",
    "class Animal:\n",
    "    pass\n",
    "\n",
    "class Dog(Animal):\n",
    "    pass\n",
    "\n",
    "dog_instance = Dog()\n",
    "\n",
    "print(isinstance(dog_instance, Dog))      # Output: True\n",
    "print(isinstance(dog_instance, Animal))   # Output: True\n",
    "print(isinstance(dog_instance, (Animal, str)))  # Output: True (checking against multiple types)\n"
   ]
  },
  {
   "cell_type": "code",
   "execution_count": 23,
   "id": "3689b516-f6b5-4eb5-9e42-a874c7963e4c",
   "metadata": {},
   "outputs": [
    {
     "name": "stdout",
     "output_type": "stream",
     "text": [
      "True\n",
      "True\n",
      "True\n"
     ]
    }
   ],
   "source": [
    "class Animal:\n",
    "    pass\n",
    "\n",
    "class Dog(Animal):\n",
    "    pass\n",
    "\n",
    "dog_instance = Dog()\n",
    "\n",
    "print(isinstance(dog_instance, Dog))      # Output: True\n",
    "print(isinstance(dog_instance, Animal))   # Output: True\n",
    "print(isinstance(dog_instance, (Animal, str)))  # Output: True (checking against multiple types)\n"
   ]
  },
  {
   "cell_type": "code",
   "execution_count": 24,
   "id": "bc4219ed-3617-4499-9a5b-ddf4d9d4bc5d",
   "metadata": {},
   "outputs": [
    {
     "name": "stdout",
     "output_type": "stream",
     "text": [
      "Area: 78.5\n",
      "Area: 24\n"
     ]
    }
   ],
   "source": [
    "#10. What is the role of the `@abstractmethod` decorator in achieving polymorphism in Python? Provide an\n",
    "#example.\n",
    "\n",
    "from abc import ABC, abstractmethod\n",
    "\n",
    "# Abstract base class with an abstract method\n",
    "class Shape(ABC):\n",
    "    @abstractmethod\n",
    "    def area(self):\n",
    "        pass\n",
    "\n",
    "# Concrete subclass implementing the abstract method\n",
    "class Circle(Shape):\n",
    "    def __init__(self, radius):\n",
    "        self.radius = radius\n",
    "\n",
    "    def area(self):\n",
    "        return 3.14 * self.radius * self.radius\n",
    "\n",
    "# Concrete subclass implementing the abstract method\n",
    "class Rectangle(Shape):\n",
    "    def __init__(self, length, width):\n",
    "        self.length = length\n",
    "        self.width = width\n",
    "\n",
    "    def area(self):\n",
    "        return self.length * self.width\n",
    "\n",
    "# Function that calculates the area of a shape polymorphically\n",
    "def print_area(shape):\n",
    "    print(f\"Area: {shape.area()}\")\n",
    "\n",
    "# Example usage\n",
    "circle = Circle(radius=5)\n",
    "rectangle = Rectangle(length=4, width=6)\n",
    "\n",
    "# Polymorphic use of the print_area function\n",
    "print_area(circle)      # Output: Area: 78.5\n",
    "print_area(rectangle)   # Output: Area: 24\n"
   ]
  },
  {
   "cell_type": "code",
   "execution_count": 25,
   "id": "19140d09-a02e-4f49-8715-65c60d9599ff",
   "metadata": {},
   "outputs": [
    {
     "name": "stdout",
     "output_type": "stream",
     "text": [
      "Area: 78.5\n",
      "Area: 24\n",
      "Area: 12.0\n"
     ]
    }
   ],
   "source": [
    "#11. Create a Python class called `Shape` with a polymorphic method `area()` that calculates the area of different shapes (e.g., circle, rectangle, triangle).\n",
    "\n",
    "from abc import ABC, abstractmethod\n",
    "\n",
    "class Shape(ABC):\n",
    "    @abstractmethod\n",
    "    def area(self):\n",
    "        pass\n",
    "\n",
    "class Circle(Shape):\n",
    "    def __init__(self, radius):\n",
    "        self.radius = radius\n",
    "\n",
    "    def area(self):\n",
    "        return 3.14 * self.radius * self.radius\n",
    "\n",
    "class Rectangle(Shape):\n",
    "    def __init__(self, length, width):\n",
    "        self.length = length\n",
    "        self.width = width\n",
    "\n",
    "    def area(self):\n",
    "        return self.length * self.width\n",
    "\n",
    "class Triangle(Shape):\n",
    "    def __init__(self, base, height):\n",
    "        self.base = base\n",
    "        self.height = height\n",
    "\n",
    "    def area(self):\n",
    "        return 0.5 * self.base * self.height\n",
    "\n",
    "# Function that calculates the area of a shape polymorphically\n",
    "def print_area(shape):\n",
    "    if isinstance(shape, Shape):\n",
    "        print(f\"Area: {shape.area()}\")\n",
    "    else:\n",
    "        print(\"Invalid shape provided.\")\n",
    "\n",
    "# Example usage\n",
    "circle = Circle(radius=5)\n",
    "rectangle = Rectangle(length=4, width=6)\n",
    "triangle = Triangle(base=3, height=8)\n",
    "\n",
    "# Polymorphic use of the print_area function\n",
    "print_area(circle)      # Output: Area: 78.5\n",
    "print_area(rectangle)   # Output: Area: 24\n",
    "print_area(triangle)    # Output: Area: 12.0\n"
   ]
  },
  {
   "cell_type": "markdown",
   "id": "2de1eb0a-ee99-4ef6-be5c-820f473cd998",
   "metadata": {},
   "source": [
    "# 12.Discuss the benefits of polymorphism in terms of code reusability and flexibility in Python programs\n",
    "\n",
    "Polymorphism is a fundamental concept in object-oriented programming (OOP) that allows objects of different types to be treated as objects of a common base type. In Python, polymorphism is achieved through features such as method overloading, operator overloading, and duck typing. Here are some benefits of polymorphism in terms of code reusability and flexibility in Python programs:\n",
    "\n",
    "Code Reusability:\n",
    "\n",
    "Method Overloading: Polymorphism allows the definition of multiple methods with the same name but different parameter lists. This helps in creating more intuitive and readable code, as developers can use the same method name for similar functionalities. For example, you can have different versions of a method that accept different types of parameters.\n",
    "\n",
    "Operator Overloading: Python allows overloading of operators, enabling you to define custom behavior for standard operators based on the data types involved. This leads to cleaner and more reusable code, as you can use the same operators for different object types.\n",
    "\n",
    "Flexibility:\n",
    "\n",
    "Duck Typing: Python follows the principle of \"duck typing,\" which means that the type or the class of an object is less important than the methods and properties it exposes. This flexibility allows you to write code that works with any object that supports the required interface, promoting more generic and adaptable solutions.\n",
    "\n",
    "Dynamic Typing: Python is dynamically typed, allowing variables to reference objects of different types during runtime. This flexibility enables you to create functions and classes that can accept a wide range of input types, enhancing code adaptability.\n",
    "\n",
    "Inheritance: Polymorphism is closely tied to inheritance in OOP. Python supports both single and multiple inheritance, allowing you to create hierarchies of classes. Subclasses can override or extend methods from their base classes, providing a way to specialize behavior while maintaining a common interface.\n",
    "\n",
    "Encapsulation:\n",
    "\n",
    "Polymorphism encourages encapsulation, as it allows objects to interact based on their interfaces rather than their specific implementations. This helps in creating modular and maintainable code, as changes in one part of the code do not necessarily affect other parts, as long as the interface remains consistent.\n",
    "Easier Maintenance:\n",
    "\n",
    "Polymorphism promotes modular and loosely coupled code. Changes in one part of the code, such as adding new classes or modifying existing ones, are less likely to have a ripple effect on other parts of the program. This makes the codebase easier to maintain and extend over time.\n",
    "In summary, polymorphism in Python enhances code reusability and flexibility by providing a mechanism for creating more generic, adaptable, and modular code. It allows developers to write code that can work seamlessly with different data types and facilitates the development of maintainable and extensible software."
   ]
  },
  {
   "cell_type": "markdown",
   "id": "c4f7b8d9-5b38-44d6-9b0c-318eeed5f6eb",
   "metadata": {},
   "source": [
    "# 13. Explain the use of the `super()` function in Python polymorphism. How does it help call methods of parent classes?\n",
    "\n",
    "\n",
    "In Python, the super() function is used to call methods of a parent class. It provides a way to invoke methods from the parent class within the context of a subclass. This is particularly useful in the context of inheritance and polymorphism, where a subclass wants to extend or override the behavior of a method defined in its parent class.\n",
    "\n",
    "The general syntax of super() is as follows:\n",
    "\n",
    "class SubClassName(ParentClassName):\n",
    "    def some_method(self, args):\n",
    "        super().method_name(args)\n",
    "        # Rest of the method implementation\n",
    "        \n",
    "Here's how super() helps in calling methods of parent classes and contributes to polymorphism:\n",
    "\n",
    "Method Overriding:\n",
    "\n",
    "When a method is overridden in a subclass, the super() function allows you to call the overridden method from the parent class. This is crucial for maintaining the existing functionality of the parent class while extending or customizing it in the subclass.\n",
    "\n",
    "class Parent:\n",
    "    def example_method(self):\n",
    "        print(\"Parent class method\")\n",
    "\n",
    "class Child(Parent):\n",
    "    def example_method(self):\n",
    "        super().example_method()  # Calling the method from the parent class\n",
    "        print(\"Child class method\")\n",
    "\n",
    "obj = Child()\n",
    "obj.example_method()\n"
   ]
  },
  {
   "cell_type": "code",
   "execution_count": 1,
   "id": "bbcd05cf-ab3d-4ea7-8a15-081801e30e10",
   "metadata": {},
   "outputs": [
    {
     "name": "stdout",
     "output_type": "stream",
     "text": [
      "Withdrawal of $200 successful. Remaining balance: $800\n",
      "Interest applied. New balance: $840.0\n",
      "Withdrawal of $2500 successful. Remaining balance: $-500\n",
      "Withdrawal of $800 successful. Remaining balance: $-1800\n"
     ]
    }
   ],
   "source": [
    "# 14. Create a Python class hierarchy for a banking system with various account types (e.g., savings, checking,\n",
    "#credit card) and demonstrate polymorphism by implementing a common `withdraw()` method.\n",
    "\n",
    "class BankAccount:\n",
    "    def __init__(self, account_number, balance):\n",
    "        self.account_number = account_number\n",
    "        self.balance = balance\n",
    "\n",
    "    def withdraw(self, amount):\n",
    "        if amount <= 0:\n",
    "            print(\"Invalid withdrawal amount\")\n",
    "        elif amount > self.balance:\n",
    "            print(\"Insufficient funds\")\n",
    "        else:\n",
    "            self.balance -= amount\n",
    "            print(f\"Withdrawal of ${amount} successful. Remaining balance: ${self.balance}\")\n",
    "\n",
    "\n",
    "class SavingsAccount(BankAccount):\n",
    "    def __init__(self, account_number, balance, interest_rate):\n",
    "        super().__init__(account_number, balance)\n",
    "        self.interest_rate = interest_rate\n",
    "\n",
    "    def apply_interest(self):\n",
    "        interest_amount = self.balance * self.interest_rate\n",
    "        self.balance += interest_amount\n",
    "        print(f\"Interest applied. New balance: ${self.balance}\")\n",
    "\n",
    "\n",
    "class CheckingAccount(BankAccount):\n",
    "    def __init__(self, account_number, balance, overdraft_limit):\n",
    "        super().__init__(account_number, balance)\n",
    "        self.overdraft_limit = overdraft_limit\n",
    "\n",
    "    def withdraw(self, amount):\n",
    "        if amount <= 0:\n",
    "            print(\"Invalid withdrawal amount\")\n",
    "        elif amount > (self.balance + self.overdraft_limit):\n",
    "            print(\"Exceeds overdraft limit. Withdrawal not allowed.\")\n",
    "        else:\n",
    "            self.balance -= amount\n",
    "            print(f\"Withdrawal of ${amount} successful. Remaining balance: ${self.balance}\")\n",
    "\n",
    "\n",
    "class CreditCardAccount(BankAccount):\n",
    "    def __init__(self, account_number, balance, credit_limit):\n",
    "        super().__init__(account_number, balance)\n",
    "        self.credit_limit = credit_limit\n",
    "\n",
    "    def withdraw(self, amount):\n",
    "        if amount <= 0:\n",
    "            print(\"Invalid withdrawal amount\")\n",
    "        elif amount > (self.balance + self.credit_limit):\n",
    "            print(\"Exceeds credit limit. Withdrawal not allowed.\")\n",
    "        else:\n",
    "            self.balance -= amount\n",
    "            print(f\"Withdrawal of ${amount} successful. Remaining balance: ${self.balance}\")\n",
    "\n",
    "\n",
    "# Demonstrate polymorphism\n",
    "def perform_withdrawal(account, amount):\n",
    "    account.withdraw(amount)\n",
    "\n",
    "\n",
    "# Example usage\n",
    "savings_account = SavingsAccount(account_number=\"SA123\", balance=1000, interest_rate=0.05)\n",
    "checking_account = CheckingAccount(account_number=\"CA456\", balance=2000, overdraft_limit=500)\n",
    "credit_card_account = CreditCardAccount(account_number=\"CC789\", balance=-1000, credit_limit=2000)\n",
    "\n",
    "perform_withdrawal(savings_account, 200)\n",
    "savings_account.apply_interest()\n",
    "\n",
    "perform_withdrawal(checking_account, 2500)\n",
    "\n",
    "perform_withdrawal(credit_card_account, 800)\n",
    "\n"
   ]
  },
  {
   "cell_type": "code",
   "execution_count": 2,
   "id": "8acfe100-5452-45e5-91ac-e8be4a412893",
   "metadata": {},
   "outputs": [
    {
     "name": "stdout",
     "output_type": "stream",
     "text": [
      "Vector([3, 6, 9])\n"
     ]
    }
   ],
   "source": [
    "#15. Describe the concept of operator overloading in Python and how it relates to polymorphism. Provide\n",
    "#examples using operators like `+` and `*`.\n",
    "\n",
    "class Vector:\n",
    "    def __init__(self, values):\n",
    "        self.values = values\n",
    "\n",
    "    def __mul__(self, scalar):\n",
    "        if isinstance(scalar, (int, float)):\n",
    "            # Multiplying a Vector by a scalar\n",
    "            return Vector([x * scalar for x in self.values])\n",
    "        else:\n",
    "            raise TypeError(\"Unsupported operand type\")\n",
    "\n",
    "    def __str__(self):\n",
    "        return f\"Vector({self.values})\"\n",
    "\n",
    "# Example usage\n",
    "vector1 = Vector([1, 2, 3])\n",
    "result_vector = vector1 * 3\n",
    "print(result_vector)  # Output: Vector([3, 6, 9])\n"
   ]
  },
  {
   "cell_type": "code",
   "execution_count": 3,
   "id": "4a5916b9-737a-42fb-9f34-881c4e0bf28b",
   "metadata": {},
   "outputs": [
    {
     "name": "stdout",
     "output_type": "stream",
     "text": [
      "Area: 78.5\n",
      "Area: 24\n"
     ]
    }
   ],
   "source": [
    "#16. What is dynamic polymorphism, and how is it achieved in Python?\n",
    "\n",
    "from abc import ABC, abstractmethod\n",
    "\n",
    "class Shape(ABC):\n",
    "    @abstractmethod\n",
    "    def area(self):\n",
    "        pass\n",
    "\n",
    "class Circle(Shape):\n",
    "    def __init__(self, radius):\n",
    "        self.radius = radius\n",
    "\n",
    "    def area(self):\n",
    "        return 3.14 * self.radius * self.radius\n",
    "\n",
    "class Rectangle(Shape):\n",
    "    def __init__(self, length, width):\n",
    "        self.length = length\n",
    "        self.width = width\n",
    "\n",
    "    def area(self):\n",
    "        return self.length * self.width\n",
    "\n",
    "def print_area(shape_instance):\n",
    "    print(f\"Area: {shape_instance.area()}\")\n",
    "\n",
    "circle = Circle(radius=5)\n",
    "rectangle = Rectangle(length=4, width=6)\n",
    "\n",
    "print_area(circle)     # Output: Area: 78.5\n",
    "print_area(rectangle)  # Output: Area: 24\n"
   ]
  },
  {
   "cell_type": "code",
   "execution_count": 4,
   "id": "c33fc74a-a6ed-4272-8548-12c20aaa0557",
   "metadata": {},
   "outputs": [
    {
     "name": "stdout",
     "output_type": "stream",
     "text": [
      "Manager - John Manager - Salary: $66000\n",
      "Developer - Alice Developer - Salary: $65000\n",
      "Designer - Bob Designer - Salary: $65000\n"
     ]
    }
   ],
   "source": [
    "#17. Create a Python class hierarchy for employees in a company (e.g., manager, developer, designer) and\n",
    "#implement polymorphism through a common `calculate_salary()` method.\n",
    "\n",
    "class Employee:\n",
    "    def __init__(self, name, role):\n",
    "        self.name = name\n",
    "        self.role = role\n",
    "\n",
    "    def calculate_salary(self):\n",
    "        raise NotImplementedError(\"Subclasses must implement the calculate_salary method\")\n",
    "\n",
    "    def __str__(self):\n",
    "        return f\"{self.role} - {self.name}\"\n",
    "\n",
    "\n",
    "class Manager(Employee):\n",
    "    def __init__(self, name, team_size):\n",
    "        super().__init__(name, role=\"Manager\")\n",
    "        self.team_size = team_size\n",
    "\n",
    "    def calculate_salary(self):\n",
    "        base_salary = 50000\n",
    "        bonus_per_member = 2000\n",
    "        total_salary = base_salary + (self.team_size * bonus_per_member)\n",
    "        return total_salary\n",
    "\n",
    "\n",
    "class Developer(Employee):\n",
    "    def __init__(self, name, programming_language):\n",
    "        super().__init__(name, role=\"Developer\")\n",
    "        self.programming_language = programming_language\n",
    "\n",
    "    def calculate_salary(self):\n",
    "        base_salary = 60000\n",
    "        bonus_for_language = 5000\n",
    "        total_salary = base_salary + bonus_for_language\n",
    "        return total_salary\n",
    "\n",
    "\n",
    "class Designer(Employee):\n",
    "    def __init__(self, name, years_of_experience):\n",
    "        super().__init__(name, role=\"Designer\")\n",
    "        self.years_of_experience = years_of_experience\n",
    "\n",
    "    def calculate_salary(self):\n",
    "        base_salary = 55000\n",
    "        bonus_per_year = 2000\n",
    "        total_salary = base_salary + (self.years_of_experience * bonus_per_year)\n",
    "        return total_salary\n",
    "\n",
    "\n",
    "# Demonstrate polymorphism\n",
    "def print_salary(employee):\n",
    "    print(f\"{employee} - Salary: ${employee.calculate_salary()}\")\n",
    "\n",
    "\n",
    "# Example usage\n",
    "manager = Manager(name=\"John Manager\", team_size=8)\n",
    "developer = Developer(name=\"Alice Developer\", programming_language=\"Python\")\n",
    "designer = Designer(name=\"Bob Designer\", years_of_experience=5)\n",
    "\n",
    "print_salary(manager)\n",
    "print_salary(developer)\n",
    "print_salary(designer)\n",
    "\n"
   ]
  },
  {
   "cell_type": "code",
   "execution_count": 5,
   "id": "f22677e7-8c28-490b-bae7-16d753be07d0",
   "metadata": {},
   "outputs": [
    {
     "name": "stdout",
     "output_type": "stream",
     "text": [
      "Addition result: 8\n",
      "Subtraction result: 6\n",
      "Multiplication result: 24\n"
     ]
    }
   ],
   "source": [
    "#18. Discuss the concept of function pointers and how they can be used to achieve polymorphism in Python\n",
    "def add(x, y):\n",
    "    return x + y\n",
    "\n",
    "def subtract(x, y):\n",
    "    return x - y\n",
    "\n",
    "def multiply(x, y):\n",
    "    return x * y\n",
    "\n",
    "def calculate(operation, x, y):\n",
    "    return operation(x, y)\n",
    "\n",
    "# Example usage\n",
    "result_add = calculate(add, 5, 3)\n",
    "result_subtract = calculate(subtract, 8, 2)\n",
    "result_multiply = calculate(multiply, 4, 6)\n",
    "\n",
    "print(f\"Addition result: {result_add}\")\n",
    "print(f\"Subtraction result: {result_subtract}\")\n",
    "print(f\"Multiplication result: {result_multiply}\")\n"
   ]
  },
  {
   "cell_type": "code",
   "execution_count": 6,
   "id": "1d7631fa-72ac-4cbd-a111-f5eaddbc7b88",
   "metadata": {},
   "outputs": [
    {
     "name": "stdout",
     "output_type": "stream",
     "text": [
      "78.5\n",
      "24\n"
     ]
    }
   ],
   "source": [
    "#19. Explain the role of interfaces and abstract classes in polymorphism, drawing comparisons between them.\n",
    "\n",
    "from abc import ABC, abstractmethod\n",
    "\n",
    "class ShapeInterface(ABC):\n",
    "    @abstractmethod\n",
    "    def area(self):\n",
    "        pass\n",
    "\n",
    "class Circle(ShapeInterface):\n",
    "    def __init__(self, radius):\n",
    "        self.radius = radius\n",
    "\n",
    "    def area(self):\n",
    "        return 3.14 * self.radius * self.radius\n",
    "\n",
    "class Rectangle(ShapeInterface):\n",
    "    def __init__(self, length, width):\n",
    "        self.length = length\n",
    "        self.width = width\n",
    "\n",
    "    def area(self):\n",
    "        return self.length * self.width\n",
    "\n",
    "# Usage\n",
    "circle = Circle(radius=5)\n",
    "rectangle = Rectangle(length=4, width=6)\n",
    "\n",
    "print(circle.area())      # Output: 78.5\n",
    "print(rectangle.area())   # Output: 24\n"
   ]
  },
  {
   "cell_type": "code",
   "execution_count": 7,
   "id": "4728a276-3d4f-4d3a-b745-4de9ff8edc87",
   "metadata": {},
   "outputs": [
    {
     "name": "stdout",
     "output_type": "stream",
     "text": [
      "Welcome to the zoo! Meet Lion Leo:\n",
      "Lion Leo makes mammal sounds.\n",
      "Lion Leo is eating.\n",
      "Lion Leo is sleeping.\n",
      "\n",
      "Welcome to the zoo! Meet Parrot Polly:\n",
      "Parrot Polly sings like a bird.\n",
      "Parrot Polly is eating.\n",
      "Parrot Polly is sleeping.\n",
      "\n",
      "Welcome to the zoo! Meet Snake Sly:\n",
      "Snake Sly hisses like a reptile.\n",
      "Snake Sly is eating.\n",
      "Snake Sly is sleeping.\n",
      "\n"
     ]
    }
   ],
   "source": [
    "#20. Create a Python class for a zoo simulation, demonstrating polymorphism with different animal types (e.g.,\n",
    "#mammals, birds, reptiles) and their behavior (e.g., eating, sleeping, making sounds\n",
    "\n",
    "class Animal:\n",
    "    def __init__(self, name, species):\n",
    "        self.name = name\n",
    "        self.species = species\n",
    "\n",
    "    def make_sound(self):\n",
    "        pass  # Abstract method\n",
    "\n",
    "    def eat(self):\n",
    "        print(f\"{self.species} {self.name} is eating.\")\n",
    "\n",
    "    def sleep(self):\n",
    "        print(f\"{self.species} {self.name} is sleeping.\")\n",
    "\n",
    "class Mammal(Animal):\n",
    "    def __init__(self, name, species, fur_color):\n",
    "        super().__init__(name, species)\n",
    "        self.fur_color = fur_color\n",
    "\n",
    "    def make_sound(self):\n",
    "        print(f\"{self.species} {self.name} makes mammal sounds.\")\n",
    "\n",
    "class Bird(Animal):\n",
    "    def __init__(self, name, species, feather_color):\n",
    "        super().__init__(name, species)\n",
    "        self.feather_color = feather_color\n",
    "\n",
    "    def make_sound(self):\n",
    "        print(f\"{self.species} {self.name} sings like a bird.\")\n",
    "\n",
    "class Reptile(Animal):\n",
    "    def __init__(self, name, species, scale_color):\n",
    "        super().__init__(name, species)\n",
    "        self.scale_color = scale_color\n",
    "\n",
    "    def make_sound(self):\n",
    "        print(f\"{self.species} {self.name} hisses like a reptile.\")\n",
    "\n",
    "# Zoo simulation\n",
    "def simulate_zoo(animal):\n",
    "    print(f\"Welcome to the zoo! Meet {animal.species} {animal.name}:\")\n",
    "    animal.make_sound()\n",
    "    animal.eat()\n",
    "    animal.sleep()\n",
    "    print()\n",
    "\n",
    "# Example usage\n",
    "lion = Mammal(name=\"Leo\", species=\"Lion\", fur_color=\"Golden\")\n",
    "parrot = Bird(name=\"Polly\", species=\"Parrot\", feather_color=\"Colorful\")\n",
    "snake = Reptile(name=\"Sly\", species=\"Snake\", scale_color=\"Green\")\n",
    "\n",
    "simulate_zoo(lion)\n",
    "simulate_zoo(parrot)\n",
    "simulate_zoo(snake)\n"
   ]
  },
  {
   "cell_type": "markdown",
   "id": "9395a9ac-d112-45c1-8826-47d240f65fec",
   "metadata": {},
   "source": [
    "Abstraction"
   ]
  },
  {
   "cell_type": "code",
   "execution_count": 3,
   "id": "4d74465b-5442-4cbd-be79-315780f25d4d",
   "metadata": {},
   "outputs": [
    {
     "data": {
      "text/plain": [
       "78.5"
      ]
     },
     "execution_count": 3,
     "metadata": {},
     "output_type": "execute_result"
    }
   ],
   "source": [
    "#1. What is abstraction in Python, and how does it relate to object-oriented programming?\n",
    "\n",
    "from abc import ABC, abstractmethod\n",
    "\n",
    "class Shape(ABC):\n",
    "    @abstractmethod\n",
    "    def area(self):\n",
    "        pass\n",
    "\n",
    "class Circle(Shape):\n",
    "    def __init__(self, radius):\n",
    "        self.radius = radius\n",
    "\n",
    "    def area(self):\n",
    "        return 3.14 * self.radius ** 2\n",
    "circle=Circle(5)\n",
    "circle.area()"
   ]
  },
  {
   "cell_type": "markdown",
   "id": "9077bbed-5024-45a7-bf4b-91751db3eebb",
   "metadata": {},
   "source": [
    "#2. Describe the benefits of abstraction in terms of code organization and complexity reduction.\n",
    "\n",
    "Abstraction provides several benefits in terms of code organization and complexity reduction in software development:\n",
    "\n",
    "Hiding Implementation Details:\n",
    "\n",
    "Abstraction allows developers to hide the complex implementation details of a class or system. This reduces the cognitive load on programmers, enabling them to focus on the high-level structure and functionality of the code without getting bogged down by intricate internal workings.\n",
    "Encapsulation of Complexity:\n",
    "\n",
    "By encapsulating complex logic within well-defined interfaces or abstract classes, abstraction helps manage and control the complexity of a system. This makes the code more modular and easier to understand, as developers can interact with components at a higher level without needing to understand all the internal details.\n",
    "Code Reusability:\n",
    "\n",
    "Abstraction promotes the creation of reusable code components. Abstract classes and interfaces define a common structure that can be implemented by multiple classes. This reusability not only saves development time but also enhances consistency across different parts of a project.\n",
    "Promoting a Clear and Consistent Structure:\n",
    "\n",
    "Abstract classes and interfaces define a clear and consistent structure for related classes. This helps establish a standardized approach to designing and implementing various components of a system, making it easier for developers to collaborate and maintain the codebase.\n",
    "Facilitating Maintenance and Updates:\n",
    "\n",
    "When changes or updates are required in a system, abstraction allows developers to modify the implementation details within individual classes without affecting the overall structure or functionality. This separation of concerns makes maintenance more straightforward and reduces the risk of unintended side effects.\n",
    "Simplifying Code Navigation:\n",
    "\n",
    "Abstraction improves code navigation by providing a high-level view of a system's architecture. Developers can understand the relationships between different components without delving into the details of each class. This makes it easier to locate specific functionalities and understand the overall design.\n",
    "Enhancing Flexibility and Extensibility:\n",
    "\n",
    "Abstraction promotes flexibility in design. As the implementation details are hidden behind abstract interfaces, it becomes easier to extend and modify the system without affecting existing code. This is particularly valuable in evolving software projects where requirements may change over time.\n",
    "Supporting Parallel Development:\n",
    "\n",
    "In large projects with multiple developers working simultaneously, abstraction enables parallel development. Different teams or individuals can focus on implementing specific abstract classes or interfaces without interfering with each other's work, as long as they adhere to the defined contract.\n",
    "Improved Testing and Debugging:\n",
    "\n",
    "Abstraction facilitates unit testing and debugging by allowing developers to test components in isolation. Abstract classes can be mocked or replaced with simplified implementations for testing purposes, leading to more effective and targeted testing strategies.\n",
    "In summary, abstraction plays a crucial role in code organization and complexity reduction by providing a mechanism to hide details, encapsulate complexity, promote reusability, maintain a clear structure, and support flexible and extensible design. It contributes to the development of scalable, maintainable, and robust software systems.\n",
    "\n",
    "\n",
    "\n",
    "\n",
    "\n",
    "\n"
   ]
  },
  {
   "cell_type": "code",
   "execution_count": 4,
   "id": "3dcea3fc-06dd-48f2-a89f-31007eabfff0",
   "metadata": {},
   "outputs": [
    {
     "name": "stdout",
     "output_type": "stream",
     "text": [
      "Area of the circle: 78.5 square units\n",
      "Area of the rectangle: 24 square units\n"
     ]
    }
   ],
   "source": [
    "#3. Create a Python class called `Shape` with an abstract method `calculate_area()`. Then, create child\n",
    "#classes (e.g., `Circle`, `Rectangle`) that implement the `calculate_area()` method. Provide an example of\n",
    "#using these classes.\n",
    "\n",
    "from abc import ABC, abstractmethod\n",
    "\n",
    "class Shape(ABC):\n",
    "    @abstractmethod\n",
    "    def calculate_area(self):\n",
    "        pass\n",
    "\n",
    "class Circle(Shape):\n",
    "    def __init__(self, radius):\n",
    "        self.radius = radius\n",
    "\n",
    "    def calculate_area(self):\n",
    "        return 3.14 * self.radius ** 2\n",
    "\n",
    "class Rectangle(Shape):\n",
    "    def __init__(self, width, height):\n",
    "        self.width = width\n",
    "        self.height = height\n",
    "\n",
    "    def calculate_area(self):\n",
    "        return self.width * self.height\n",
    "\n",
    "# Example of using the classes:\n",
    "\n",
    "# Creating instances of Circle and Rectangle\n",
    "circle = Circle(radius=5)\n",
    "rectangle = Rectangle(width=4, height=6)\n",
    "\n",
    "# Calculating and printing the areas\n",
    "print(f\"Area of the circle: {circle.calculate_area()} square units\")\n",
    "print(f\"Area of the rectangle: {rectangle.calculate_area()} square units\")\n"
   ]
  },
  {
   "cell_type": "markdown",
   "id": "8477bb67-b0af-4435-adf9-85ce2a6b1fcc",
   "metadata": {},
   "source": [
    "# 4. Explain the concept of abstract classes in Python and how they are defined using the `abc` module. Provide\n",
    "#an example.\n",
    "\n",
    "\n",
    "Copy code\n",
    "from abc import ABC, abstractmethod\n",
    "\n",
    "class Shape(ABC):\n",
    "    @abstractmethod\n",
    "    def calculate_area(self):\n",
    "        pass\n",
    "In this example:\n",
    "\n",
    "Shape is an abstract class that inherits from ABC, making it an abstract base class.\n",
    "The @abstractmethod decorator is used to declare the abstract method calculate_area. The method has no implementation in the abstract class, and its concrete subclasses are expected to provide their own implementations.\n",
    "Now, let's create a concrete subclass of Shape:\n",
    "\n",
    "python\n",
    "Copy code\n",
    "class Circle(Shape):\n",
    "    def __init__(self, radius):\n",
    "        self.radius = radius\n",
    "\n",
    "    def calculate_area(self):\n",
    "        return 3.14 * self.radius ** 2\n",
    "In this example, Circle is a concrete subclass of Shape that provides a specific implementation for the abstract method calculate_area.\n",
    "\n",
    "Attempting to instantiate an abstract class directly or a subclass that does not provide an implementation for all abstract methods will result in a TypeError. For example:\n",
    "\n",
    "python\n",
    "Copy code\n",
    "# This will raise a TypeError since Shape is an abstract class.\n",
    "shape = Shape()\n",
    "\n",
    "# This will also raise a TypeError since Rectangle does not implement calculate_area.\n",
    "class Rectangle(Shape):\n",
    "    pass\n",
    "Abstract classes and abstract methods provide a way to enforce a common interface among related classes, promoting code structure, reusability, and clarity in the design of a program.\n",
    "\n",
    "\n",
    "\n",
    "\n",
    "\n"
   ]
  },
  {
   "cell_type": "markdown",
   "id": "c9f3cbaa-4512-4965-968c-2ac502bf2e72",
   "metadata": {},
   "source": [
    "# 5. How do abstract classes differ from regular classes in Python? Discuss their use cases.\n",
    "\n",
    "\n",
    "\n",
    "Abstract classes in Python differ from regular classes in that abstract classes cannot be instantiated on their own, and they may contain abstract methods that lack implementation in the abstract class itself. Regular classes, on the other hand, can be instantiated, and all their methods must have concrete implementations.\n",
    "\n",
    "Here are some key differences and use cases for abstract classes compared to regular classes:\n",
    "\n",
    "Instantiation:\n",
    "\n",
    "Abstract Classes: Cannot be instantiated directly. They are meant to be subclassed, and instances are created from concrete subclasses.\n",
    "Regular Classes: Can be instantiated directly, and objects can be created from them.\n",
    "Abstract Methods:\n",
    "\n",
    "Abstract Classes: May contain abstract methods, which are declared using the @abstractmethod decorator. These methods have no implementation in the abstract class and must be implemented by concrete subclasses.\n",
    "Regular Classes: All methods must have concrete implementations.\n",
    "Purpose:\n",
    "\n",
    "Abstract Classes: Provide a blueprint for other classes. They define a common structure or interface that subclasses must adhere to, enforcing a contract among related classes.\n",
    "Regular Classes: Are used for creating objects with specific attributes and behaviors. They can be instantiated and used as-is.\n",
    "Enforcement of Structure:\n",
    "\n",
    "Abstract Classes: Help enforce a consistent structure among subclasses by defining a set of methods (abstract and/or concrete) that must be implemented.\n",
    "Regular Classes: Are more flexible and do not enforce any specific structure on their subclasses.\n",
    "Example:\n",
    "\n",
    "Abstract Classes:\n",
    "python\n",
    "Copy code\n",
    "from abc import ABC, abstractmethod\n",
    "\n",
    "class Shape(ABC):\n",
    "    @abstractmethod\n",
    "    def area(self):\n",
    "        pass\n",
    "\n",
    "class Circle(Shape):\n",
    "    def __init__(self, radius):\n",
    "        self.radius = radius\n",
    "\n",
    "    def area(self):\n",
    "        return 3.14 * self.radius ** 2\n",
    "Regular Classes:\n",
    "python\n",
    "Copy code\n",
    "class Car:\n",
    "    def __init__(self, make, model):\n",
    "        self.make = make\n",
    "        self.model = model\n",
    "\n",
    "    def display_info(self):\n",
    "        return f\"{self.make} {self.model}\"\n",
    "\n",
    "my_car = Car(make=\"Toyota\", model=\"Camry\")\n",
    "Use Cases:\n",
    "\n",
    "Abstract Classes:\n",
    "\n",
    "When you want to create a common interface or structure for a group of related classes.\n",
    "When you want to enforce that specific methods must be implemented by subclasses.\n",
    "In scenarios where you want to provide a partial implementation in the abstract class and leave some methods to be implemented by subclasses.\n",
    "Regular Classes:\n",
    "\n",
    "When you need to create standalone objects with specific attributes and behaviors.\n",
    "In situations where you don't need to enforce a common structure among different classes.\n",
    "When you want to provide concrete implementations for all methods within the class.\n",
    "In summary, abstract classes are designed to serve as blueprints and enforce a common structure, while regular classes are used for creating objects with specific attributes and behaviors. The choice between them depends on the design goals and requirements of your application."
   ]
  },
  {
   "cell_type": "code",
   "execution_count": 5,
   "id": "3df6985d-91c6-468f-aa19-eee7094eff3f",
   "metadata": {},
   "outputs": [
    {
     "name": "stdout",
     "output_type": "stream",
     "text": [
      "Account Balance for John Doe's Savings Account: $0\n",
      "Deposited $1000. New balance: $1000\n",
      "Withdrew $500. New balance: $500\n",
      "Account Balance for John Doe's Savings Account: $500\n"
     ]
    }
   ],
   "source": [
    "#6. Create a Python class for a bank account and demonstrate abstraction by hiding the account balance and\n",
    "#providing methods to deposit and withdraw funds.\n",
    "\n",
    "from abc import ABC, abstractmethod\n",
    "\n",
    "class BankAccount(ABC):\n",
    "    def __init__(self, account_holder, account_number):\n",
    "        self.account_holder = account_holder\n",
    "        self.account_number = account_number\n",
    "        self._balance = 0  # By convention, using a single underscore to indicate it's a protected attribute\n",
    "\n",
    "    @abstractmethod\n",
    "    def display_balance(self):\n",
    "        pass\n",
    "\n",
    "    def deposit(self, amount):\n",
    "        if amount > 0:\n",
    "            self._balance += amount\n",
    "            print(f\"Deposited ${amount}. New balance: ${self._balance}\")\n",
    "        else:\n",
    "            print(\"Invalid deposit amount. Please deposit a positive amount.\")\n",
    "\n",
    "    def withdraw(self, amount):\n",
    "        if 0 < amount <= self._balance:\n",
    "            self._balance -= amount\n",
    "            print(f\"Withdrew ${amount}. New balance: ${self._balance}\")\n",
    "        elif amount > self._balance:\n",
    "            print(\"Insufficient funds. Withdrawal denied.\")\n",
    "        else:\n",
    "            print(\"Invalid withdrawal amount. Please withdraw a positive amount.\")\n",
    "\n",
    "# Concrete implementation of the BankAccount class\n",
    "class SavingsAccount(BankAccount):\n",
    "    def display_balance(self):\n",
    "        print(f\"Account Balance for {self.account_holder}'s Savings Account: ${self._balance}\")\n",
    "\n",
    "# Example of using the SavingsAccount class\n",
    "savings_account = SavingsAccount(account_holder=\"John Doe\", account_number=\"123456789\")\n",
    "savings_account.display_balance()\n",
    "\n",
    "savings_account.deposit(1000)\n",
    "savings_account.withdraw(500)\n",
    "\n",
    "savings_account.display_balance()\n"
   ]
  },
  {
   "cell_type": "markdown",
   "id": "47de0b22-cd53-41af-8c1f-7d8d485de225",
   "metadata": {},
   "source": [
    "# 7. Discuss the concept of interface classes in Python and their role in achieving abstraction.\n",
    "\n",
    "In Python, interface classes are not explicitly defined as a separate construct, unlike some other programming languages. However, the concept of interfaces can be achieved through abstract classes with abstract methods or by using informal conventions. The abc module in Python is commonly used to create abstract classes and, in effect, interfaces.\n",
    "\n",
    "Here's how interface-like behavior can be achieved in Python:\n",
    "\n",
    "Abstract Classes and Abstract Methods:\n",
    "\n",
    "Interface-like behavior is often achieved by creating abstract classes with abstract methods. Abstract methods are declared using the @abstractmethod decorator, and they must be implemented by concrete subclasses.\n",
    "Abstract classes can define a set of methods that serve as the interface, and concrete subclasses provide specific implementations.\n",
    "python\n",
    "Copy code\n",
    "from abc import ABC, abstractmethod\n",
    "\n",
    "class MyInterface(ABC):\n",
    "    @abstractmethod\n",
    "    def method1(self):\n",
    "        pass\n",
    "\n",
    "    @abstractmethod\n",
    "    def method2(self):\n",
    "        pass\n",
    "Informal Conventions:\n",
    "\n",
    "In Python, interfaces are often expressed through informal conventions. For example, a class may provide a certain set of methods, and other classes are expected to implement those methods with specific functionalities.\n",
    "While not enforced by the language itself, adhering to these conventions helps achieve a form of interface-like behavior.\n",
    "python\n",
    "Copy code\n",
    "class MyInterface:\n",
    "    def method1(self):\n",
    "        raise NotImplementedError(\"Subclasses must implement method1\")\n",
    "\n",
    "    def method2(self):\n",
    "        raise NotImplementedError(\"Subclasses must implement method2\")\n",
    "Duck Typing:\n",
    "\n",
    "Python follows the principle of \"duck typing,\" which means that the suitability of an object is determined by its behavior (methods and properties) rather than its explicit type.\n",
    "If an object provides the expected methods, it is considered to implement the interface, even if there is no formal declaration of an interface.\n",
    "python\n",
    "Copy code\n",
    "class MyInterfaceUser:\n",
    "    def use_interface(self, interface_obj):\n",
    "        interface_obj.method1()\n",
    "        interface_obj.method2()\n",
    "Role in Achieving Abstraction:\n",
    "\n",
    "Defining Common Structure:\n",
    "\n",
    "Interface classes help in defining a common structure or set of methods that classes must implement. This enforces a contract and ensures that classes adhering to the interface provide certain functionalities.\n",
    "Hiding Implementation Details:\n",
    "\n",
    "By using abstract methods or informal conventions, interface classes help hide the internal details of class implementations. This supports the concept of abstraction by allowing developers to interact with objects at a higher level without needing to know their specific implementations.\n",
    "Promoting Code Consistency:\n",
    "\n",
    "Interfaces contribute to code consistency by establishing a set of methods that should be present across different classes. This consistency makes it easier for developers to understand and work with a variety of classes that share a common interface.\n",
    "Encouraging Reusability:\n",
    "\n",
    "Classes that adhere to a common interface are more reusable. Since they provide a standard set of methods, they can be interchanged seamlessly in different parts of the code where the common interface is expected.\n",
    "In summary, while Python does not have a strict notion of interface classes, the use of abstract classes, informal conventions, and duck typing allows developers to achieve interface-like behavior. This helps in defining a common structure, hiding implementation details, promoting code consistency, and encouraging code reusability—all essential aspects of achieving abstraction in software design."
   ]
  },
  {
   "cell_type": "code",
   "execution_count": 6,
   "id": "e78b00dc-51e9-4174-906b-f88f24925324",
   "metadata": {},
   "outputs": [
    {
     "name": "stdout",
     "output_type": "stream",
     "text": [
      "Leo is eating. Yum!\n",
      "Leo is sleeping.\n",
      "Tweetie is pecking at seeds.\n",
      "Tweetie is sleeping.\n"
     ]
    }
   ],
   "source": [
    "# 8. Create a Python class hierarchy for animals and implement abstraction by defining common methods\n",
    "#(e.g., `eat()`, `sleep()`) in an abstract base class\n",
    "\n",
    "from abc import ABC, abstractmethod\n",
    "\n",
    "class Animal(ABC):\n",
    "    def __init__(self, name, age):\n",
    "        self.name = name\n",
    "        self.age = age\n",
    "\n",
    "    @abstractmethod\n",
    "    def make_sound(self):\n",
    "        pass\n",
    "\n",
    "    @abstractmethod\n",
    "    def eat(self):\n",
    "        pass\n",
    "\n",
    "    def sleep(self):\n",
    "        print(f\"{self.name} is sleeping.\")\n",
    "\n",
    "class Mammal(Animal):\n",
    "    def __init__(self, name, age, fur_color):\n",
    "        super().__init__(name, age)\n",
    "        self.fur_color = fur_color\n",
    "\n",
    "    def make_sound(self):\n",
    "        pass  # Specific sound for each mammal can be implemented in subclasses\n",
    "\n",
    "    def eat(self):\n",
    "        print(f\"{self.name} is eating. Yum!\")\n",
    "\n",
    "class Bird(Animal):\n",
    "    def __init__(self, name, age, feather_color):\n",
    "        super().__init__(name, age)\n",
    "        self.feather_color = feather_color\n",
    "\n",
    "    def make_sound(self):\n",
    "        pass  # Specific sound for each bird can be implemented in subclasses\n",
    "\n",
    "    def eat(self):\n",
    "        print(f\"{self.name} is pecking at seeds.\")\n",
    "\n",
    "# Example of using the Animal hierarchy\n",
    "lion = Mammal(name=\"Leo\", age=5, fur_color=\"golden\")\n",
    "sparrow = Bird(name=\"Tweetie\", age=2, feather_color=\"blue\")\n",
    "\n",
    "# Common method calls\n",
    "lion.make_sound()\n",
    "lion.eat()\n",
    "lion.sleep()\n",
    "\n",
    "sparrow.make_sound()\n",
    "sparrow.eat()\n",
    "sparrow.sleep()\n"
   ]
  },
  {
   "cell_type": "markdown",
   "id": "4c12748c-02da-4d08-8b47-6393d994913f",
   "metadata": {},
   "source": [
    "# 9. Explain the significance of encapsulation in achieving abstraction. Provide examples.\n",
    "\n",
    "Encapsulation is one of the fundamental principles of object-oriented programming (OOP) and plays a crucial role in achieving abstraction. It involves bundling the data (attributes) and methods (functions) that operate on the data into a single unit called a class. Encapsulation helps in hiding the internal details of an object's implementation and exposing only what is necessary for the outside world. This not only promotes information hiding but also contributes to the concept of abstraction by allowing the creation of a simplified and consistent interface.\n",
    "\n",
    "Here are some key aspects of the significance of encapsulation in achieving abstraction:\n",
    "\n",
    "Information Hiding:\n",
    "\n",
    "Encapsulation allows the internal details of an object to be hidden from the outside world. This is achieved by marking certain attributes or methods as private, meaning they are only accessible within the class.\n",
    "\n",
    "Example:\n",
    "\n",
    "python\n",
    "Copy code\n",
    "class Car:\n",
    "    def __init__(self, make, model, year):\n",
    "        self._make = make   # Encapsulation: _make is a protected attribute\n",
    "        self._model = model\n",
    "        self._year = year\n",
    "\n",
    "    def display_info(self):\n",
    "        return f\"{self._year} {self._make} {self._model}\"\n",
    "Consistent Interface:\n",
    "\n",
    "Encapsulation allows the definition of a consistent interface for interacting with objects. The external code interacts with the object through well-defined public methods, shielding the user from the complexity of the object's internal implementation.\n",
    "\n",
    "Example:\n",
    "\n",
    "python\n",
    "Copy code\n",
    "class BankAccount:\n",
    "    def __init__(self, account_holder, balance):\n",
    "        self._account_holder = account_holder\n",
    "        self._balance = balance\n",
    "\n",
    "    def deposit(self, amount):\n",
    "        self._balance += amount\n",
    "\n",
    "    def get_balance(self):\n",
    "        return self._balance\n",
    "Controlled Access to Data:\n",
    "\n",
    "Encapsulation provides control over how data is accessed and modified. By using methods like getters and setters, you can enforce validation, perform additional logic, or update the internal representation of data without affecting the external code.\n",
    "\n",
    "Example:\n",
    "\n",
    "python\n",
    "Copy code\n",
    "class TemperatureSensor:\n",
    "    def __init__(self):\n",
    "        self._temperature = 0\n",
    "\n",
    "    def get_temperature(self):\n",
    "        return self._temperature\n",
    "\n",
    "    def set_temperature(self, new_temperature):\n",
    "        if new_temperature < -273.15:\n",
    "            print(\"Invalid temperature value.\")\n",
    "        else:\n",
    "            self._temperature = new_temperature\n",
    "Flexibility in Implementation:\n",
    "\n",
    "Encapsulation provides flexibility in changing the internal implementation of a class without affecting the external code. As long as the public interface remains consistent, modifications to the internal details won't break existing code.\n",
    "\n",
    "Example:\n",
    "\n",
    "python\n",
    "Copy code\n",
    "class DatabaseConnection:\n",
    "    def __init__(self, connection_string):\n",
    "        self._connection_string = connection_string\n",
    "        self._connection = None\n",
    "\n",
    "    def connect(self):\n",
    "        # Logic for establishing a connection\n",
    "\n",
    "    def execute_query(self, query):\n",
    "        # Logic for executing a query\n",
    "Security and Robustness:\n",
    "\n",
    "Encapsulation enhances security by restricting direct access to certain data and operations. It also contributes to the robustness of the code by preventing unintended modifications or misuse of internal components.\n",
    "\n",
    "Example:\n",
    "\n",
    "python\n",
    "Copy code\n",
    "class User:\n",
    "    def __init__(self, username, password):\n",
    "        self._username = username\n",
    "        self._password = self._encrypt_password(password)\n",
    "\n",
    "    def _encrypt_password(self, password):\n",
    "        # Logic for encrypting the password\n",
    "\n",
    "    def authenticate(self, entered_password):\n",
    "        # Logic for authenticating the user\n",
    "In summary, encapsulation in OOP, achieved through the bundling of data and methods within a class, is significant for achieving abstraction. It enables information hiding, provides a consistent interface, controls access to data, offers flexibility in implementation, and contributes to the security and robustness of the code. These aspects collectively support the development of modular, maintainable, and easily understandable software systems.Explain the significance of encapsulation in achieving abstraction. Provide examples.\n",
    "\n"
   ]
  },
  {
   "cell_type": "markdown",
   "id": "c5be35a0-2055-4dc9-a236-be9a495d2b84",
   "metadata": {},
   "source": [
    "# 10. What is the purpose of abstract methods, and how do they enforce abstraction in Python classes?\n",
    "\n",
    "Abstract methods play a crucial role in enforcing abstraction in Python classes. The purpose of abstract methods is to declare a method in an abstract class without providing its implementation in the abstract class itself. Subclasses of the abstract class are then required to provide concrete implementations for these abstract methods. This mechanism ensures that certain methods must be implemented by the subclasses, thereby enforcing a common interface or behavior across a group of related classes.\n",
    "\n",
    "Here are the key aspects of abstract methods and how they enforce abstraction in Python classes:\n",
    "\n",
    "Declaration without Implementation:\n",
    "\n",
    "Abstract methods are declared in the abstract class using the @abstractmethod decorator. These methods do not contain any implementation details in the abstract class itself. Instead, they serve as placeholders for methods that must be implemented by concrete subclasses.\n",
    "\n",
    "Example:\n",
    "\n",
    "python\n",
    "Copy code\n",
    "from abc import ABC, abstractmethod\n",
    "\n",
    "class Shape(ABC):\n",
    "    @abstractmethod\n",
    "    def calculate_area(self):\n",
    "        pass\n",
    "Forcing Implementation in Subclasses:\n",
    "\n",
    "Subclasses of an abstract class that contains abstract methods must provide concrete implementations for each abstract method. If a subclass fails to do so, it will also become an abstract class and cannot be instantiated.\n",
    "\n",
    "Example:\n",
    "\n",
    "python\n",
    "Copy code\n",
    "class Circle(Shape):\n",
    "    def __init__(self, radius):\n",
    "        self.radius = radius\n",
    "\n",
    "    def calculate_area(self):\n",
    "        return 3.14 * self.radius ** 2\n",
    "Common Interface for Related Classes:\n",
    "\n",
    "Abstract methods help in defining a common interface or set of methods that a group of related classes should adhere to. This promotes code consistency and allows for polymorphism, where objects of different classes can be used interchangeably if they share the same abstract methods.\n",
    "\n",
    "Example:\n",
    "\n",
    "python\n",
    "Copy code\n",
    "class Animal(ABC):\n",
    "    @abstractmethod\n",
    "    def make_sound(self):\n",
    "        pass\n",
    "\n",
    "    @abstractmethod\n",
    "    def eat(self):\n",
    "        pass\n",
    "python\n",
    "Copy code\n",
    "class Dog(Animal):\n",
    "    def make_sound(self):\n",
    "        return \"Woof!\"\n",
    "\n",
    "    def eat(self):\n",
    "        return \"Dog is eating.\"\n",
    "Enforcing Design Contracts:\n",
    "\n",
    "Abstract methods serve as a design contract between the abstract class and its subclasses. They define a set of methods that subclasses must implement to fulfill the contract. This helps in designing modular and extensible software systems.\n",
    "\n",
    "Example:\n",
    "\n",
    "python\n",
    "Copy code\n",
    "class DatabaseConnector(ABC):\n",
    "    @abstractmethod\n",
    "    def connect(self):\n",
    "        pass\n",
    "\n",
    "    @abstractmethod\n",
    "    def execute_query(self, query):\n",
    "        pass\n",
    "python\n",
    "Copy code\n",
    "class MySQLConnector(DatabaseConnector):\n",
    "    def connect(self):\n",
    "        # Implementation for connecting to MySQL database\n",
    "\n",
    "    def execute_query(self, query):\n",
    "        # Implementation for executing a query in MySQL\n",
    "In summary, abstract methods in Python classes serve the purpose of declaring a common interface or behavior that subclasses must adhere to. They enforce abstraction by requiring concrete implementations in subclasses, ensuring that related classes share a consistent structure and behavior. Abstract methods promote code design that is modular, extensible, and adheres to the principles of object-oriented programming"
   ]
  },
  {
   "cell_type": "code",
   "execution_count": 8,
   "id": "58dbc7bc-1e86-4a98-8774-52f97036b6b2",
   "metadata": {},
   "outputs": [
    {
     "name": "stdout",
     "output_type": "stream",
     "text": [
      "2022 Toyota Camry with 4 doors is now running.\n",
      "Is the car running? True\n",
      "2022 Toyota Camry with 4 doors has stopped.\n",
      "2022 Harley-Davidson Sportster motorcycle is now running.\n",
      "Is the motorcycle running? True\n",
      "2022 Harley-Davidson Sportster motorcycle has stopped.\n"
     ]
    }
   ],
   "source": [
    "#11. Create a Python class for a vehicle system and demonstrate abstraction by defining common methods\n",
    "#(e.g., `start()`, `stop()`) in an abstract base class.\n",
    "\n",
    "from abc import ABC, abstractmethod\n",
    "\n",
    "class Vehicle(ABC):\n",
    "    def __init__(self, make, model, year):\n",
    "        self.make = make\n",
    "        self.model = model\n",
    "        self.year = year\n",
    "        self._is_running = False  # By convention, using a single underscore to indicate it's a protected attribute\n",
    "from abc import ABC, abstractmethod\n",
    "\n",
    "class Vehicle(ABC):\n",
    "    def __init__(self, make, model, year):\n",
    "        self.make = make\n",
    "        self.model = model\n",
    "        self.year = year\n",
    "        self._is_running = False  # By convention, using a single underscore to indicate it's a protected attribute\n",
    "\n",
    "    @abstractmethod\n",
    "    def start(self):\n",
    "        pass\n",
    "\n",
    "    @abstractmethod\n",
    "    def stop(self):\n",
    "        pass\n",
    "\n",
    "    def is_running(self):\n",
    "        return self._is_running\n",
    "\n",
    "class Car(Vehicle):\n",
    "    def __init__(self, make, model, year, num_doors):\n",
    "        super().__init__(make, model, year)\n",
    "        self.num_doors = num_doors\n",
    "\n",
    "    def start(self):\n",
    "        self._is_running = True\n",
    "        print(f\"{self.year} {self.make} {self.model} with {self.num_doors} doors is now running.\")\n",
    "\n",
    "    def stop(self):\n",
    "        self._is_running = False\n",
    "        print(f\"{self.year} {self.make} {self.model} with {self.num_doors} doors has stopped.\")\n",
    "\n",
    "class Motorcycle(Vehicle):\n",
    "    def __init__(self, make, model, year):\n",
    "        super().__init__(make, model, year)\n",
    "\n",
    "    def start(self):\n",
    "        self._is_running = True\n",
    "        print(f\"{self.year} {self.make} {self.model} motorcycle is now running.\")\n",
    "\n",
    "    def stop(self):\n",
    "        self._is_running = False\n",
    "        print(f\"{self.year} {self.make} {self.model} motorcycle has stopped.\")\n",
    "\n",
    "# Example of using the Vehicle hierarchy\n",
    "car = Car(make=\"Toyota\", model=\"Camry\", year=2022, num_doors=4)\n",
    "motorcycle = Motorcycle(make=\"Harley-Davidson\", model=\"Sportster\", year=2022)\n",
    "\n",
    "# Common method calls\n",
    "car.start()\n",
    "print(f\"Is the car running? {car.is_running()}\")\n",
    "car.stop()\n",
    "\n",
    "motorcycle.start()\n",
    "print(f\"Is the motorcycle running? {motorcycle.is_running()}\")\n",
    "motorcycle.stop()\n",
    "\n"
   ]
  },
  {
   "cell_type": "markdown",
   "id": "2128d684-a10d-46eb-ada4-ed7284f0ce83",
   "metadata": {},
   "source": [
    "# 12. Describe the use of abstract properties in Python and how they can be employed in abstract classes.\n",
    "\n",
    "Abstract properties in Python are used to define a common interface for attributes in abstract classes. Abstract properties, like abstract methods, are declared in abstract classes using the @abstractmethod decorator. Subclasses are then required to provide concrete implementations for these abstract properties. This helps in enforcing a consistent structure and behavior for attributes across related classes.\n",
    "\n",
    "Here's an explanation of the use of abstract properties in Python within the context of abstract classes:\n",
    "\n",
    "Definition of Abstract Properties:\n",
    "\n",
    "Abstract properties are defined in abstract classes using the @property decorator along with the @abstractmethod decorator. The property itself is not implemented in the abstract class but serves as a placeholder for the property that must be implemented by concrete subclasses.\n",
    "\n",
    "Example:\n",
    "\n",
    "python\n",
    "Copy code\n",
    "from abc import ABC, abstractmethod, abstractproperty\n",
    "\n",
    "class AbstractPerson(ABC):\n",
    "    @abstractproperty\n",
    "    def name(self):\n",
    "        pass\n",
    "\n",
    "    @abstractproperty\n",
    "    def age(self):\n",
    "        pass\n",
    "Implementation in Subclasses:\n",
    "\n",
    "Subclasses of the abstract class containing abstract properties must provide concrete implementations for these properties. The concrete implementations define how the properties should behave for instances of the subclass.\n",
    "\n",
    "Example:\n",
    "\n",
    "python\n",
    "Copy code\n",
    "class ConcretePerson(AbstractPerson):\n",
    "    def __init__(self, name, age):\n",
    "        self._name = name\n",
    "        self._age = age\n",
    "\n",
    "    @property\n",
    "    def name(self):\n",
    "        return self._name\n",
    "\n",
    "    @property\n",
    "    def age(self):\n",
    "        return self._age\n",
    "Enforcing Consistent Attribute Structure:\n",
    "\n",
    "Abstract properties help enforce a consistent structure for attributes across related classes. This consistency allows for polymorphism, where objects of different classes can be used interchangeably if they share the same abstract properties.\n",
    "\n",
    "Example:\n",
    "\n",
    "python\n",
    "Copy code\n",
    "class Student(AbstractPerson):\n",
    "    def __init__(self, name, age, student_id):\n",
    "        self._name = name\n",
    "        self._age = age\n",
    "        self._student_id = student_id\n",
    "\n",
    "    @property\n",
    "    def name(self):\n",
    "        return self._name\n",
    "\n",
    "    @property\n",
    "    def age(self):\n",
    "        return self._age\n",
    "Read-Only or Read-Write Properties:\n",
    "\n",
    "Abstract properties can be used to define read-only or read-write attributes in abstract classes. By providing only a getter method for a property, you create a read-only attribute. If you also provide a setter method, the attribute becomes read-write.\n",
    "\n",
    "Example:\n",
    "\n",
    "python\n",
    "Copy code\n",
    "from abc import abstractmethod, abstractproperty\n",
    "\n",
    "class AbstractShape:\n",
    "    @abstractproperty\n",
    "    def area(self):\n",
    "        pass\n",
    "\n",
    "    @area.setter\n",
    "    @abstractmethod\n",
    "    def area(self, value):\n",
    "        pass\n",
    "Dynamic Polymorphism:\n",
    "\n",
    "Abstract properties contribute to dynamic polymorphism, allowing for a flexible and extensible design. Subclasses can introduce additional properties or modify the behavior of existing ones while adhering to the common interface defined by the abstract class.\n",
    "\n",
    "Example:\n",
    "\n",
    "python\n",
    "Copy code\n",
    "class Circle(AbstractShape):\n",
    "    def __init__(self, radius):\n",
    "        self._radius = radius\n",
    "        self._area = None\n",
    "\n",
    "    @property\n",
    "    def area(self):\n",
    "        if self._area is None:\n",
    "            self._area = 3.14 * self._radius ** 2\n",
    "        return self._area\n",
    "\n",
    "    @area.setter\n",
    "    def area(self, value):\n",
    "        self._area = value\n",
    "In summary, abstract properties in Python, declared using the @abstractproperty decorator, allow abstract classes to define a common interface for attributes. Subclasses are then required to provide concrete implementations for these abstract properties, enforcing a consistent structure and behavior across related classes. Abstract properties contribute to a flexible and extensible design, promoting dynamic polymorphism and code consistency."
   ]
  },
  {
   "cell_type": "code",
   "execution_count": 14,
   "id": "0a2b7504-d467-46dc-b566-817b2968d79d",
   "metadata": {},
   "outputs": [
    {
     "name": "stdout",
     "output_type": "stream",
     "text": [
      "John Doe's salary: $66000\n",
      "Alice Smith's salary: $65000\n",
      "Bob Johnson's salary: $60000\n"
     ]
    }
   ],
   "source": [
    "#13. Create a Python class hierarchy for employees in a company (e.g., manager, developer, designer) and\n",
    "#implement abstraction by defining a common `get_salary()` method.\n",
    "\n",
    "from abc import ABC, abstractmethod\n",
    "\n",
    "class Employee(ABC):\n",
    "    def __init__(self, name, employee_id):\n",
    "        self.name = name\n",
    "        self.employee_id = employee_id\n",
    "\n",
    "    @abstractmethod\n",
    "    def get_salary(self):\n",
    "        pass\n",
    "\n",
    "class Manager(Employee):\n",
    "    def __init__(self, name, employee_id, team_size):\n",
    "        super().__init__(name, employee_id)\n",
    "        self.team_size = team_size\n",
    "\n",
    "    def get_salary(self):\n",
    "        base_salary = 50000\n",
    "        team_bonus = self.team_size * 2000\n",
    "        return base_salary + team_bonus\n",
    "\n",
    "class Developer(Employee):\n",
    "    def __init__(self, name, employee_id, programming_language):\n",
    "        super().__init__(name, employee_id)\n",
    "        self.programming_language = programming_language\n",
    "\n",
    "    def get_salary(self):\n",
    "        base_salary = 60000\n",
    "        if self.programming_language == \"Python\":\n",
    "            language_bonus = 5000\n",
    "        else:\n",
    "            language_bonus = 0\n",
    "        return base_salary + language_bonus\n",
    "\n",
    "class Designer(Employee):\n",
    "    def __init__(self, name, employee_id, years_of_experience):\n",
    "        super().__init__(name, employee_id)\n",
    "        self.years_of_experience = years_of_experience\n",
    "\n",
    "    def get_salary(self):\n",
    "        base_salary = 55000\n",
    "        experience_bonus = self.years_of_experience * 1000\n",
    "        return base_salary + experience_bonus\n",
    "\n",
    "# Example of using the Employee hierarchy\n",
    "manager = Manager(name=\"John Doe\", employee_id=\"M123\", team_size=8)\n",
    "developer = Developer(name=\"Alice Smith\", employee_id=\"D456\", programming_language=\"Python\")\n",
    "designer = Designer(name=\"Bob Johnson\", employee_id=\"D789\", years_of_experience=5)\n",
    "\n",
    "# Common method call\n",
    "print(f\"{manager.name}'s salary: ${manager.get_salary()}\")\n",
    "print(f\"{developer.name}'s salary: ${developer.get_salary()}\")\n",
    "print(f\"{designer.name}'s salary: ${designer.get_salary()}\")\n"
   ]
  },
  {
   "cell_type": "markdown",
   "id": "3578ca22-d86d-4965-98e0-f9aa6371a440",
   "metadata": {},
   "source": [
    "# 14. Discuss the differences between abstract classes and concrete classes in Python, including their instantiation.\n",
    "\n",
    "Abstract classes and concrete classes in Python have distinct characteristics, particularly in terms of their purpose, structure, and instantiation.\n",
    "\n",
    "Abstract Classes:\n",
    "\n",
    "Purpose:\n",
    "\n",
    "Abstract classes are designed to serve as blueprints or templates for other classes. They define a common structure, including abstract methods (methods without implementation) that must be implemented by concrete subclasses.\n",
    "Abstract classes often encapsulate common functionality that should be shared among related classes.\n",
    "Structure:\n",
    "\n",
    "Abstract classes may contain both abstract methods (declared using the @abstractmethod decorator) and concrete methods (methods with implementation).\n",
    "They cannot be instantiated directly. Instances are created from concrete subclasses that provide implementations for all abstract methods.\n",
    "Instantiation:\n",
    "\n",
    "Attempting to create an instance of an abstract class directly will result in a TypeError.\n",
    "Abstract classes are meant to be subclassed, and their concrete subclasses provide the necessary implementations for abstract methods.\n",
    "Example:\n",
    "\n",
    "python\n",
    "Copy code\n",
    "from abc import ABC, abstractmethod\n",
    "\n",
    "class Shape(ABC):\n",
    "    @abstractmethod\n",
    "    def calculate_area(self):\n",
    "        pass\n",
    "\n",
    "    def display_info(self):\n",
    "        print(\"This is a shape.\")\n",
    "Concrete Classes:\n",
    "\n",
    "Purpose:\n",
    "\n",
    "Concrete classes are complete classes that can be instantiated directly. They may extend or inherit from abstract classes, providing concrete implementations for all abstract methods.\n",
    "Structure:\n",
    "\n",
    "Concrete classes can include attributes, methods with implementations, and may also inherit from other classes, abstract or concrete.\n",
    "They may implement abstract methods inherited from abstract classes.\n",
    "Instantiation:\n",
    "\n",
    "Concrete classes can be instantiated directly using the class_name() syntax.\n",
    "They may also provide additional methods or attributes beyond what's defined in the abstract classes they inherit from.\n",
    "Example:\n",
    "\n",
    "python\n",
    "Copy code\n",
    "class Circle(Shape):\n",
    "    def __init__(self, radius):\n",
    "        self.radius = radius\n",
    "\n",
    "    def calculate_area(self):\n",
    "        return 3.14 * self.radius ** 2\n",
    "\n",
    "# Creating an instance of the concrete class\n",
    "circle = Circle(radius=5)\n",
    "Summary:\n",
    "\n",
    "Abstract classes provide a common structure and interface for related classes. They cannot be instantiated directly and serve as a blueprint for concrete subclasses.\n",
    "\n",
    "Concrete classes are fully implemented classes that can be instantiated directly. They may inherit from abstract classes and provide concrete implementations for abstract methods.\n",
    "\n",
    "Instantiating an abstract class directly raises a TypeError. Instances are created from concrete subclasses.\n",
    "\n",
    "In practice, abstract classes are often used to define shared functionality and enforce a common structure among related classes, while concrete classes provide specific implementations and can be instantiated to create objects. The combination of abstract and concrete classes supports modular and extensible code design in object-oriented programming."
   ]
  },
  {
   "cell_type": "markdown",
   "id": "4e2184d3-93dd-43a7-b62c-2648f830d569",
   "metadata": {},
   "source": [
    "# 15. Explain the concept of abstract data types (ADTs) and their role in achieving abstraction in Python.\n",
    "\n",
    "Abstract Data Types (ADTs) are a high-level concept in computer science that refer to a mathematical model describing a set of data and the operations that can be performed on that data. The key idea behind ADTs is to provide a clear separation between the abstract behavior of a data structure and its implementation details. This separation allows for the development of more modular, reusable, and maintainable code by promoting a higher level of abstraction.\n",
    "\n",
    "In Python, the concept of ADTs is often realized through the use of classes and interfaces. These classes define the abstract behavior of a data structure, and concrete implementations provide the actual details of how the data structure is stored and manipulated. The role of ADTs in achieving abstraction in Python includes the following aspects:\n",
    "\n",
    "Encapsulation:\n",
    "\n",
    "ADTs encapsulate the data and the operations that can be performed on that data within a single unit (class). This encapsulation helps in hiding the internal details of the implementation, exposing only the essential aspects of the data structure to the user.\n",
    "Separation of Concerns:\n",
    "\n",
    "ADTs separate the abstract behavior of a data structure from its implementation. This separation allows developers to focus on the high-level functionality and use of the data structure without being concerned about the low-level details of how it is implemented.\n",
    "Consistent Interface:\n",
    "\n",
    "ADTs provide a consistent interface that defines a set of methods or operations that can be performed on the data structure. This interface serves as a contract, ensuring that any class implementing the ADT adheres to the specified behavior.\n",
    "Abstraction of Details:\n",
    "\n",
    "ADTs abstract away the details of the underlying data structure, allowing users to work with data at a higher level. This abstraction enables developers to think in terms of the problem domain rather than the specific implementation details.\n",
    "Code Reusability:\n",
    "\n",
    "By defining data structures as ADTs, code can be written in a modular and reusable manner. Different parts of a program or different programs altogether can use the same ADT, promoting code reusability and reducing redundancy.\n",
    "Polymorphism:\n",
    "\n",
    "ADTs support polymorphism, allowing multiple classes to implement the same abstract interface. This enables objects of different classes to be used interchangeably if they adhere to the same ADT.\n",
    "Modifiability and Extensibility:\n",
    "\n",
    "Since ADTs provide a clear separation between abstract behavior and implementation details, modifications to the underlying implementation can be made without affecting the code using the ADT. Additionally, new implementations of the same ADT can be added easily.\n",
    "Algorithm Design:\n",
    "\n",
    "ADTs play a crucial role in algorithm design by providing abstract structures that algorithms can operate on. This separation allows for the development and analysis of algorithms independently of the underlying data structures.\n",
    "In Python, you can use classes and abstract base classes (ABCs) from the abc module to define and implement ADTs. By doing so, you leverage the object-oriented features of Python to achieve a higher level of abstraction and create modular, maintainable, and extensible code."
   ]
  },
  {
   "cell_type": "code",
   "execution_count": 15,
   "id": "9436db1e-cd3c-48f6-af60-747e1e10b0b4",
   "metadata": {},
   "outputs": [
    {
     "name": "stdout",
     "output_type": "stream",
     "text": [
      "Powering on the desktop computer with 24 inch monitor.\n",
      "Rebooting the computer.\n",
      "Shutting down the desktop computer.\n",
      "Powering on the desktop computer with 24 inch monitor.\n",
      "Shutting down the desktop computer.\n",
      "Powering on the laptop with 15.6 inch screen.\n",
      "Shutting down the laptop.\n"
     ]
    }
   ],
   "source": [
    "#16. Create a Python class for a computer system, demonstrating abstraction by defining common methods (e.g., power_on(), shutdown()) in an abstract base class.\n",
    "from abc import ABC, abstractmethod\n",
    "\n",
    "class ComputerSystem(ABC):\n",
    "    def __init__(self, brand, model):\n",
    "        self.brand = brand\n",
    "        self.model = model\n",
    "        self.is_powered_on = False\n",
    "\n",
    "    @abstractmethod\n",
    "    def power_on(self):\n",
    "        pass\n",
    "\n",
    "    @abstractmethod\n",
    "    def shutdown(self):\n",
    "        pass\n",
    "\n",
    "    def reboot(self):\n",
    "        if self.is_powered_on:\n",
    "            print(\"Rebooting the computer.\")\n",
    "            self.shutdown()\n",
    "            self.power_on()\n",
    "        else:\n",
    "            print(\"Cannot reboot. Computer is not powered on.\")\n",
    "\n",
    "class Desktop(ComputerSystem):\n",
    "    def __init__(self, brand, model, monitor_size):\n",
    "        super().__init__(brand, model)\n",
    "        self.monitor_size = monitor_size\n",
    "\n",
    "    def power_on(self):\n",
    "        if not self.is_powered_on:\n",
    "            print(f\"Powering on the desktop computer with {self.monitor_size} inch monitor.\")\n",
    "            self.is_powered_on = True\n",
    "        else:\n",
    "            print(\"Computer is already powered on.\")\n",
    "\n",
    "    def shutdown(self):\n",
    "        if self.is_powered_on:\n",
    "            print(\"Shutting down the desktop computer.\")\n",
    "            self.is_powered_on = False\n",
    "        else:\n",
    "            print(\"Computer is already powered off.\")\n",
    "\n",
    "class Laptop(ComputerSystem):\n",
    "    def __init__(self, brand, model, screen_size):\n",
    "        super().__init__(brand, model)\n",
    "        self.screen_size = screen_size\n",
    "\n",
    "    def power_on(self):\n",
    "        if not self.is_powered_on:\n",
    "            print(f\"Powering on the laptop with {self.screen_size} inch screen.\")\n",
    "            self.is_powered_on = True\n",
    "        else:\n",
    "            print(\"Laptop is already powered on.\")\n",
    "\n",
    "    def shutdown(self):\n",
    "        if self.is_powered_on:\n",
    "            print(\"Shutting down the laptop.\")\n",
    "            self.is_powered_on = False\n",
    "        else:\n",
    "            print(\"Laptop is already powered off.\")\n",
    "\n",
    "# Example of using the ComputerSystem hierarchy\n",
    "desktop = Desktop(brand=\"Dell\", model=\"Inspiron\", monitor_size=24)\n",
    "laptop = Laptop(brand=\"HP\", model=\"Pavilion\", screen_size=15.6)\n",
    "\n",
    "# Common method calls\n",
    "desktop.power_on()\n",
    "desktop.reboot()\n",
    "desktop.shutdown()\n",
    "\n",
    "laptop.power_on()\n",
    "laptop.shutdown()\n"
   ]
  },
  {
   "cell_type": "markdown",
   "id": "d89c6149-28d3-46c2-9bc2-e6d19fc2fa0e",
   "metadata": {},
   "source": [
    "#17. Discuss the benefits of using abstraction in large-scale software development projects.\n",
    "\n",
    "Abstraction is a fundamental concept in software development that involves simplifying complex systems by focusing on essential features while hiding unnecessary details. Using abstraction in large-scale software development projects offers numerous benefits, contributing to the creation of maintainable, scalable, and robust software systems. Here are some key advantages:\n",
    "\n",
    "Modularity:\n",
    "\n",
    "Abstraction encourages the creation of modular code where functionalities are encapsulated within well-defined units (modules or classes). This modularity makes it easier to understand, maintain, and extend the codebase.\n",
    "Code Reusability:\n",
    "\n",
    "Abstracting common functionalities into reusable components allows developers to use the same code in multiple parts of a project or even in different projects. This reduces redundancy, enhances consistency, and accelerates development.\n",
    "Simplicity and Clarity:\n",
    "\n",
    "Abstraction simplifies the representation of complex systems by providing a high-level view. This makes the codebase more readable, understandable, and maintainable. Developers can focus on the essential aspects of a module or component without being overwhelmed by unnecessary details.\n",
    "Isolation of Implementation Details:\n",
    "\n",
    "Abstraction allows developers to hide implementation details, providing a clear separation between the interface (what a component does) and the implementation (how it does it). This isolation makes it easier to update or replace implementations without affecting the rest of the system.\n",
    "Scalability:\n",
    "\n",
    "Abstraction promotes scalability by facilitating the addition of new features or components without disrupting existing functionality. Developers can extend the system by building on well-abstracted and modular foundations.\n",
    "Maintenance and Debugging:\n",
    "\n",
    "Abstracted code is generally more maintainable and easier to debug. When an issue arises, developers can focus on the relevant abstraction layer without needing to understand the entire system. This accelerates the debugging process and minimizes the risk of unintended consequences.\n",
    "Collaboration:\n",
    "\n",
    "Abstraction facilitates collaboration among development teams. By defining clear interfaces and abstracting away implementation details, different teams can work concurrently on different parts of a project without interfering with each other. This enhances productivity and streamlines the development process.\n",
    "Adaptability to Change:\n",
    "\n",
    "Large-scale software projects are subject to changes in requirements, technologies, and business needs. Abstraction allows for a more adaptive and flexible codebase. When changes are necessary, developers can often modify or extend existing abstractions without affecting the entire system.\n",
    "Reduced Cognitive Load:\n",
    "\n",
    "Abstraction reduces cognitive load by allowing developers to work with higher-level concepts and interfaces. This is particularly beneficial in large projects where understanding the entire codebase at once can be challenging. Developers can focus on specific abstractions and their interactions.\n",
    "Testing and Validation:\n",
    "\n",
    "Well-defined abstractions facilitate testing and validation efforts. Developers can create unit tests for individual components without being concerned about the internal details. This leads to more effective testing strategies and improves the overall reliability of the software.\n",
    "Encapsulation of Complexity:\n",
    "\n",
    "Abstraction encapsulates complexity within well-defined boundaries. It allows developers to build complex systems by breaking them down into manageable, understandable, and testable components, each with its own level of abstraction.\n",
    "In summary, abstraction is a powerful tool in large-scale software development, providing benefits such as modularity, code reusability, simplicity, scalability, and adaptability. It enhances collaboration, eases maintenance and debugging, and contributes to the creation of software systems that are robust, flexible, and easier to manage over time."
   ]
  },
  {
   "cell_type": "code",
   "execution_count": 17,
   "id": "130ebbb4-5abc-49b1-acaf-6503e0c6fcb6",
   "metadata": {},
   "outputs": [
    {
     "name": "stdout",
     "output_type": "stream",
     "text": [
      "Area of the shape: 78.5\n",
      "Area of the shape: 12\n"
     ]
    }
   ],
   "source": [
    "#18. Explain how abstraction enhances code reusability and modularity in Python programs.\n",
    "\n",
    "from abc import ABC, abstractmethod\n",
    "\n",
    "# Abstract class representing a shape\n",
    "class Shape(ABC):\n",
    "    @abstractmethod\n",
    "    def area(self):\n",
    "        pass\n",
    "\n",
    "# Concrete classes implementing the Shape interface\n",
    "class Circle(Shape):\n",
    "    def __init__(self, radius):\n",
    "        self.radius = radius\n",
    "\n",
    "    def area(self):\n",
    "        return 3.14 * self.radius ** 2\n",
    "\n",
    "class Rectangle(Shape):\n",
    "    def __init__(self, length, width):\n",
    "        self.length = length\n",
    "        self.width = width\n",
    "\n",
    "    def area(self):\n",
    "        return self.length * self.width\n",
    "\n",
    "# Usage of the abstract Shape class\n",
    "shapes = [Circle(radius=5), Rectangle(length=4, width=3)]\n",
    "\n",
    "for shape in shapes:\n",
    "    print(f\"Area of the shape: {shape.area()}\")\n"
   ]
  },
  {
   "cell_type": "code",
   "execution_count": 18,
   "id": "7b449c82-51c1-4248-895a-24ae44d02aa7",
   "metadata": {},
   "outputs": [
    {
     "name": "stdout",
     "output_type": "stream",
     "text": [
      "\n",
      "Library Inventory for City Library:\n",
      "The Great Gatsby by F. Scott Fitzgerald - Available Copies: 5\n",
      "To Kill a Mockingbird by Harper Lee - Available Copies: 3\n",
      "Book 'The Great Gatsby' borrowed by User ID: 123\n",
      "Book 'To Kill a Mockingbird' borrowed by User ID: 456\n",
      "\n",
      "Library Inventory for City Library:\n",
      "The Great Gatsby by F. Scott Fitzgerald - Available Copies: 4\n",
      "To Kill a Mockingbird by Harper Lee - Available Copies: 2\n",
      "Book 'The Great Gatsby' returned by User ID: 123\n",
      "\n",
      "Library Inventory for City Library:\n",
      "The Great Gatsby by F. Scott Fitzgerald - Available Copies: 5\n",
      "To Kill a Mockingbird by Harper Lee - Available Copies: 2\n"
     ]
    }
   ],
   "source": [
    "#19. Create a Python class for a library system, implementing abstraction by defining common methods (e.g.,\n",
    "#`add_book()`, `borrow_book()`) in an abstract base class.\n",
    "\n",
    "from abc import ABC, abstractmethod\n",
    "\n",
    "class LibrarySystem(ABC):\n",
    "    def __init__(self, library_name):\n",
    "        self.library_name = library_name\n",
    "        self.books_inventory = {}\n",
    "\n",
    "    @abstractmethod\n",
    "    def add_book(self, book_title, author, copies):\n",
    "        pass\n",
    "\n",
    "    @abstractmethod\n",
    "    def borrow_book(self, book_title, user_id):\n",
    "        pass\n",
    "\n",
    "    @abstractmethod\n",
    "    def return_book(self, book_title, user_id):\n",
    "        pass\n",
    "\n",
    "    def display_inventory(self):\n",
    "        print(f\"\\nLibrary Inventory for {self.library_name}:\")\n",
    "        for book_title, book_info in self.books_inventory.items():\n",
    "            print(f\"{book_title} by {book_info['author']} - Available Copies: {book_info['copies']}\")\n",
    "\n",
    "class SimpleLibrary(LibrarySystem):\n",
    "    def add_book(self, book_title, author, copies):\n",
    "        if book_title in self.books_inventory:\n",
    "            self.books_inventory[book_title]['copies'] += copies\n",
    "        else:\n",
    "            self.books_inventory[book_title] = {'author': author, 'copies': copies}\n",
    "\n",
    "    def borrow_book(self, book_title, user_id):\n",
    "        if book_title in self.books_inventory and self.books_inventory[book_title]['copies'] > 0:\n",
    "            self.books_inventory[book_title]['copies'] -= 1\n",
    "            print(f\"Book '{book_title}' borrowed by User ID: {user_id}\")\n",
    "        else:\n",
    "            print(f\"Book '{book_title}' is not available for borrowing.\")\n",
    "\n",
    "    def return_book(self, book_title, user_id):\n",
    "        if book_title in self.books_inventory:\n",
    "            self.books_inventory[book_title]['copies'] += 1\n",
    "            print(f\"Book '{book_title}' returned by User ID: {user_id}\")\n",
    "        else:\n",
    "            print(f\"Book '{book_title}' is not part of the library inventory.\")\n",
    "\n",
    "# Example of using the LibrarySystem hierarchy\n",
    "library = SimpleLibrary(library_name=\"City Library\")\n",
    "\n",
    "# Common method calls\n",
    "library.add_book(book_title=\"The Great Gatsby\", author=\"F. Scott Fitzgerald\", copies=5)\n",
    "library.add_book(book_title=\"To Kill a Mockingbird\", author=\"Harper Lee\", copies=3)\n",
    "\n",
    "library.display_inventory()\n",
    "\n",
    "library.borrow_book(book_title=\"The Great Gatsby\", user_id=\"123\")\n",
    "library.borrow_book(book_title=\"To Kill a Mockingbird\", user_id=\"456\")\n",
    "\n",
    "library.display_inventory()\n",
    "\n",
    "library.return_book(book_title=\"The Great Gatsby\", user_id=\"123\")\n",
    "\n",
    "library.display_inventory()\n"
   ]
  },
  {
   "cell_type": "code",
   "execution_count": 19,
   "id": "49b8ff8a-0228-48e1-b2f9-2888509ff587",
   "metadata": {},
   "outputs": [
    {
     "name": "stdout",
     "output_type": "stream",
     "text": [
      "Area of the shape: 78.5\n",
      "Area of the shape: 12\n"
     ]
    }
   ],
   "source": [
    "#20. Describe the concept of method abstraction in Python and how it relates to polymorphism.\n",
    "from abc import ABC, abstractmethod\n",
    "\n",
    "class Shape(ABC):\n",
    "    @abstractmethod\n",
    "    def area(self):\n",
    "        pass\n",
    "\n",
    "class Circle(Shape):\n",
    "    def __init__(self, radius):\n",
    "        self.radius = radius\n",
    "\n",
    "    def area(self):\n",
    "        return 3.14 * self.radius ** 2\n",
    "\n",
    "class Rectangle(Shape):\n",
    "    def __init__(self, length, width):\n",
    "        self.length = length\n",
    "        self.width = width\n",
    "\n",
    "    def area(self):\n",
    "        return self.length * self.width\n",
    "\n",
    "# Polymorphism in action\n",
    "shapes = [Circle(radius=5), Rectangle(length=4, width=3)]\n",
    "\n",
    "for shape in shapes:\n",
    "    print(f\"Area of the shape: {shape.area()}\")\n"
   ]
  },
  {
   "cell_type": "markdown",
   "id": "2909a7b2-efbf-4c3b-ae1f-a04e185ba81a",
   "metadata": {},
   "source": [
    "Composition"
   ]
  },
  {
   "cell_type": "code",
   "execution_count": 20,
   "id": "5f723ef3-f7d4-4a51-9f72-1eddab2ccd9e",
   "metadata": {},
   "outputs": [
    {
     "name": "stdout",
     "output_type": "stream",
     "text": [
      "Engine started\n",
      "Car is moving\n"
     ]
    }
   ],
   "source": [
    "#1. Explain the concept of composition in Python and how it is used to build complex objects from simpler ones.\n",
    "\n",
    "class Engine:\n",
    "    def start(self):\n",
    "        print(\"Engine started\")\n",
    "\n",
    "class Car:\n",
    "    def __init__(self):\n",
    "        self.engine = Engine()\n",
    "\n",
    "    def drive(self):\n",
    "        print(\"Car is moving\")\n",
    "\n",
    "# Usage of composition\n",
    "my_car = Car()\n",
    "my_car.engine.start()\n",
    "my_car.drive()\n"
   ]
  },
  {
   "cell_type": "code",
   "execution_count": 21,
   "id": "424fedc1-6be5-47cd-a002-10d911953a91",
   "metadata": {},
   "outputs": [
    {
     "name": "stdout",
     "output_type": "stream",
     "text": [
      "Woof!\n"
     ]
    }
   ],
   "source": [
    "#2. Describe the difference between composition and inheritance in object-oriented programming.\n",
    "\n",
    "class Animal:\n",
    "    def speak(self):\n",
    "        pass\n",
    "\n",
    "class Dog(Animal):\n",
    "    def speak(self):\n",
    "        print(\"Woof!\")\n",
    "\n",
    "my_dog = Dog()\n",
    "my_dog.speak()\n"
   ]
  },
  {
   "cell_type": "code",
   "execution_count": 22,
   "id": "ce06bb75-691b-4f2e-b6c5-5d5ce6d6a71d",
   "metadata": {},
   "outputs": [
    {
     "name": "stdout",
     "output_type": "stream",
     "text": [
      "Title: Harry Potter and the Sorcerer's Stone, Genre: Fantasy\n",
      "Author: J.K. Rowling, Birthdate: July 31, 1965\n",
      "\n",
      "\n",
      "Title: 1984, Genre: Dystopian Fiction\n",
      "Author: George Orwell, Birthdate: June 25, 1903\n"
     ]
    }
   ],
   "source": [
    "#3. Create a Python class called `Author` with attributes for name and birthdate. Then, create a `Book` clas\n",
    "class Author:\n",
    "    def __init__(self, name, birthdate):\n",
    "        self.name = name\n",
    "        self.birthdate = birthdate\n",
    "\n",
    "    def display_info(self):\n",
    "        print(f\"Author: {self.name}, Birthdate: {self.birthdate}\")\n",
    "\n",
    "class Book:\n",
    "    def __init__(self, title, genre, author):\n",
    "        self.title = title\n",
    "        self.genre = genre\n",
    "        self.author = author\n",
    "\n",
    "    def display_info(self):\n",
    "        print(f\"Title: {self.title}, Genre: {self.genre}\")\n",
    "        self.author.display_info()\n",
    "\n",
    "# Example usage:\n",
    "author1 = Author(name=\"J.K. Rowling\", birthdate=\"July 31, 1965\")\n",
    "book1 = Book(title=\"Harry Potter and the Sorcerer's Stone\", genre=\"Fantasy\", author=author1)\n",
    "\n",
    "author2 = Author(name=\"George Orwell\", birthdate=\"June 25, 1903\")\n",
    "book2 = Book(title=\"1984\", genre=\"Dystopian Fiction\", author=author2)\n",
    "\n",
    "# Display information about the books and authors\n",
    "book1.display_info()\n",
    "print(\"\\n\")\n",
    "book2.display_info()\n"
   ]
  },
  {
   "cell_type": "markdown",
   "id": "893d7e18-b215-4268-b6ac-1801664a7fd2",
   "metadata": {},
   "source": [
    "# 4. Discuss the benefits of using composition over inheritance in Python, especially in terms of code flexibility\n",
    "#and reusability.\n",
    "\n",
    "Using composition over inheritance in Python provides several benefits, particularly in terms of code flexibility and reusability. Here are some key advantages:\n",
    "\n",
    "Flexibility:\n",
    "\n",
    "Composition allows for more dynamic and flexible designs. Unlike inheritance, where changes to the base class can affect all derived classes, composition allows you to change the behavior of a class by modifying its components or adding/removing components without altering the external interface of the class.\n",
    "With composition, you can easily switch or modify the components of a class, providing greater adaptability to changing requirements.\n",
    "Code Reusability:\n",
    "\n",
    "Composition promotes code reuse by allowing you to create and reuse smaller, more specialized components. These components can be used in various contexts and combined to create different classes.\n",
    "Components can be developed, tested, and maintained independently, making them more modular and reusable across different projects.\n",
    "Modularity:\n",
    "\n",
    "Composition leads to a modular design where each class has a well-defined responsibility or functionality. Components can be developed, tested, and maintained independently, making the codebase more modular and easier to manage.\n",
    "Changes to one module do not necessarily impact other modules, reducing the risk of unintended consequences.\n",
    "Avoidance of Fragile Base Class Problem:\n",
    "\n",
    "Inheritance can lead to the fragile base class problem, where changes to the base class can unintentionally affect all derived classes. Composition avoids this issue by allowing changes to individual components without affecting the entire class hierarchy.\n",
    "This makes the codebase more robust and less prone to unintended side effects.\n",
    "Clearer Class Relationships:\n",
    "\n",
    "Composition results in clearer class relationships. When a class is composed of distinct components, the relationships between classes are more explicit, making the codebase easier to understand and maintain.\n",
    "In contrast, deep and complex inheritance hierarchies can sometimes lead to confusion about the relationships between classes.\n",
    "Easier Testing:\n",
    "\n",
    "Components can be tested independently, allowing for easier unit testing. Each component can have its own set of tests to ensure its correctness and robustness.\n",
    "This makes it easier to identify and fix issues in isolation, contributing to more effective testing strategies.\n",
    "Encapsulation and Information Hiding:\n",
    "\n",
    "Composition supports encapsulation by allowing the internal details of a class to be hidden. The external code interacts with the composed class through its public interface.\n",
    "This information hiding makes it easier to reason about the behavior of a class without needing to understand the internal details of its components.\n",
    "Adaptability to Change:\n",
    "\n",
    "Composition makes it easier to adapt to changes in requirements. You can modify the behavior of a class by changing its components or adding new components, allowing for a more agile and responsive development process.\n",
    "Reduction of Class Coupling:\n",
    "\n",
    "Composition reduces class coupling by allowing classes to interact through well-defined interfaces rather than through the complexities of inheritance. This reduces the dependencies between classes, making the code more maintainable.\n",
    "Promotion of Design Patterns:\n",
    "\n",
    "Composition aligns well with various design patterns, such as the Strategy Pattern, Decorator Pattern, and Dependency Injection. These patterns leverage composition to achieve flexible and reusable designs.\n",
    "In summary, composition provides a more flexible and modular approach to building classes in Python. It promotes code reuse, reduces dependencies, and allows for easier adaptation to changes, making it particularly beneficial for achieving maintainable and extensible software designs. While inheritance has its place, composition is often favored for its advantages in terms of flexibility and reusability."
   ]
  },
  {
   "cell_type": "code",
   "execution_count": 25,
   "id": "cc288d9b-936a-48b3-9df0-7199c08dde07",
   "metadata": {},
   "outputs": [
    {
     "name": "stdout",
     "output_type": "stream",
     "text": [
      "Engine started\n",
      "Navigating to Office\n"
     ]
    }
   ],
   "source": [
    "#5. How can you implement composition in Python classes? Provide examples of using composition to create\n",
    "#complex objects.\n",
    "\n",
    "class Engine:\n",
    "    def start(self):\n",
    "        print(\"Engine started\")\n",
    "\n",
    "class GPS:\n",
    "    def navigate(self, destination):\n",
    "        print(f\"Navigating to {destination}\")\n",
    "\n",
    "class Car:\n",
    "    def __init__(self):\n",
    "        self.engine = Engine()\n",
    "        self.gps = GPS()\n",
    "\n",
    "    def start(self):\n",
    "        self.engine.start()\n",
    "\n",
    "    def navigate(self, destination):\n",
    "        self.gps.navigate(destination)\n",
    "\n",
    "# Example usage\n",
    "my_car = Car()\n",
    "my_car.start()\n",
    "my_car.navigate(\"Office\")\n"
   ]
  },
  {
   "cell_type": "code",
   "execution_count": 24,
   "id": "417c8fc0-12c6-4671-a3b1-953c0069aa9d",
   "metadata": {},
   "outputs": [
    {
     "name": "stdout",
     "output_type": "stream",
     "text": [
      "Playing audio\n",
      "Playing video\n"
     ]
    }
   ],
   "source": [
    "#6. Create a Python class hierarchy for a music player system, using composition to represent playlists and\n",
    "#songs.\n",
    "\n",
    "class AudioPlayer:\n",
    "    def play(self):\n",
    "        print(\"Playing audio\")\n",
    "\n",
    "class VideoPlayer:\n",
    "    def play(self):\n",
    "        print(\"Playing video\")\n",
    "\n",
    "class MediaCenter:\n",
    "    def __init__(self):\n",
    "        self.audio_player = AudioPlayer()\n",
    "        self.video_player = VideoPlayer()\n",
    "\n",
    "    def play_audio(self):\n",
    "        self.audio_player.play()\n",
    "\n",
    "    def play_video(self):\n",
    "        self.video_player.play()\n",
    "\n",
    "# Example usage\n",
    "media_center = MediaCenter()\n",
    "media_center.play_audio()\n",
    "media_center.play_video()\n"
   ]
  },
  {
   "cell_type": "markdown",
   "id": "ef2cc8ac-8298-47a4-9cdf-746d0f07a75c",
   "metadata": {},
   "source": [
    "# 7. Explain the concept of \"has-a\" relationships in composition and how it helps design software systems.\n",
    "\n",
    "In object-oriented programming (OOP), the concept of \"has-a\" relationships refers to the relationship between classes where one class has an instance of another class as a component. This is a form of composition, where a class is composed of one or more instances of other classes to achieve specific functionalities. The \"has-a\" relationship is often associated with the use of composition, contrasting with the \"is-a\" relationship associated with inheritance.\n",
    "\n",
    "In a \"has-a\" relationship:\n",
    "\n",
    "Composition:\n",
    "\n",
    "The relationship is established by creating an instance of one class within another class.\n",
    "The class that contains the instance is referred to as the \"container\" or \"composite\" class, while the class being instantiated is referred to as the \"component\" class.\n",
    "The container class delegates specific functionalities to its components, and it can have one or more components as part of its structure.\n",
    "Code Flexibility:\n",
    "\n",
    "The \"has-a\" relationship provides code flexibility by allowing you to change the behavior of a class by modifying its components or adding/removing components without altering the external interface of the class.\n",
    "This flexibility makes it easier to adapt to changes in requirements and promotes a more dynamic and responsive design.\n",
    "Modularity:\n",
    "\n",
    "The use of \"has-a\" relationships promotes modularity in software design. Each class involved in the composition can be developed, tested, and maintained independently.\n",
    "This modularity enhances code organization, readability, and maintainability, as classes have well-defined responsibilities.\n",
    "Code Reusability:\n",
    "\n",
    "Code reusability is achieved through composition. Components can be reused across different classes, promoting a more modular and reusable codebase.\n",
    "Smaller, specialized components can be developed and tested independently, and then combined to create more complex classes, leading to better code organization and reusability.\n",
    "Encapsulation:\n",
    "\n",
    "The \"has-a\" relationship supports encapsulation by allowing the internal details of a class to be hidden. The external code interacts with the container class through its public interface, abstracting away the complexities of the component classes.\n",
    "Encapsulation contributes to information hiding, making it easier to reason about and maintain the codebase.\n",
    "Dynamic Relationships:\n",
    "\n",
    "Unlike the \"is-a\" relationship in inheritance, which is more static, the \"has-a\" relationship is dynamic. Components can be changed at runtime, providing a more adaptable and extensible design.\n",
    "This dynamism is particularly useful in scenarios where the composition of objects needs to change based on specific conditions or requirements.\n",
    "Clearer Design Intent:\n",
    "\n",
    "The \"has-a\" relationship makes class relationships more explicit and reflects a clearer design intent. Classes are composed of components to achieve specific functionalities, leading to a more understandable and maintainable codebase.\n",
    "Example:\n",
    "\n",
    "python\n",
    "Copy code\n",
    "class Engine:\n",
    "    def start(self):\n",
    "        print(\"Engine started\")\n",
    "\n",
    "class Car:\n",
    "    def __init__(self):\n",
    "        self.engine = Engine()\n",
    "\n",
    "    def start(self):\n",
    "        print(\"Car is moving\")\n",
    "        self.engine.start()\n",
    "\n",
    "# Example usage\n",
    "my_car = Car()\n",
    "my_car.start()\n",
    "In this example, the Car class has a \"has-a\" relationship with the Engine class. An instance of Engine is created within Car, and the Car class delegates the task of starting the engine to its component, the Engine class.\n",
    "\n",
    "The \"has-a\" relationship, through composition, provides a powerful and flexible way to design software systems. It enhances code flexibility, modularity, and reusability, allowing for the creation of more complex objects by combining simpler objects as components. This design approach contributes to a more maintainable, adaptable, and scalable software architecture."
   ]
  },
  {
   "cell_type": "code",
   "execution_count": 1,
   "id": "94897af8-a3e5-4f18-9084-1dd241f93669",
   "metadata": {},
   "outputs": [
    {
     "name": "stdout",
     "output_type": "stream",
     "text": [
      "Running program: Python IDE\n",
      "Intel CPU processing data at 3.5 GHz\n",
      "RAM storing data with a capacity of 16 GB\n",
      "SSD storage reading data with a capacity of 512 GB\n"
     ]
    }
   ],
   "source": [
    "#8. Create a Python class for a computer system, using composition to represent components like CPU, RAM,\n",
    "#and storage devices.\n",
    "\n",
    "class CPU:\n",
    "    def __init__(self, brand, speed):\n",
    "        self.brand = brand\n",
    "        self.speed = speed\n",
    "\n",
    "    def process_data(self):\n",
    "        print(f\"{self.brand} CPU processing data at {self.speed} GHz\")\n",
    "\n",
    "class RAM:\n",
    "    def __init__(self, capacity):\n",
    "        self.capacity = capacity\n",
    "\n",
    "    def store_data(self):\n",
    "        print(f\"RAM storing data with a capacity of {self.capacity} GB\")\n",
    "\n",
    "class Storage:\n",
    "    def __init__(self, type, capacity):\n",
    "        self.type = type\n",
    "        self.capacity = capacity\n",
    "\n",
    "    def read_data(self):\n",
    "        print(f\"{self.type} storage reading data with a capacity of {self.capacity} GB\")\n",
    "\n",
    "class ComputerSystem:\n",
    "    def __init__(self, cpu, ram, storage):\n",
    "        self.cpu = cpu\n",
    "        self.ram = ram\n",
    "        self.storage = storage\n",
    "\n",
    "    def run_program(self, program):\n",
    "        print(f\"Running program: {program}\")\n",
    "        self.cpu.process_data()\n",
    "        self.ram.store_data()\n",
    "        self.storage.read_data()\n",
    "\n",
    "# Example usage\n",
    "my_cpu = CPU(brand=\"Intel\", speed=3.5)\n",
    "my_ram = RAM(capacity=16)\n",
    "my_storage = Storage(type=\"SSD\", capacity=512)\n",
    "\n",
    "my_computer = ComputerSystem(cpu=my_cpu, ram=my_ram, storage=my_storage)\n",
    "my_computer.run_program(\"Python IDE\")\n",
    "\n"
   ]
  },
  {
   "cell_type": "code",
   "execution_count": 2,
   "id": "dcc59de0-9757-46ec-869a-a63732150bf3",
   "metadata": {},
   "outputs": [
    {
     "name": "stdout",
     "output_type": "stream",
     "text": [
      "Task assigned: Write report\n",
      "Executing task: Write report\n"
     ]
    }
   ],
   "source": [
    "#9. Describe the concept of \"delegation\" in composition and how it simplifies the design of complex systems.\n",
    "\n",
    "class TaskExecutor:\n",
    "    def execute_task(self, task):\n",
    "        print(f\"Executing task: {task}\")\n",
    "\n",
    "class TaskManager:\n",
    "    def __init__(self, executor):\n",
    "        self.executor = executor\n",
    "\n",
    "    def assign_task(self, task):\n",
    "        print(f\"Task assigned: {task}\")\n",
    "        self.executor.execute_task(task)\n",
    "\n",
    "# Example usage\n",
    "executor = TaskExecutor()\n",
    "task_manager = TaskManager(executor)\n",
    "\n",
    "task_manager.assign_task(\"Write report\")\n"
   ]
  },
  {
   "cell_type": "code",
   "execution_count": 3,
   "id": "1b228bdc-2648-46f6-8600-cf0cbbfd0963",
   "metadata": {},
   "outputs": [
    {
     "name": "stdout",
     "output_type": "stream",
     "text": [
      "Starting the car...\n",
      "Engine started\n",
      "Gear shifted to Drive\n",
      "Wheels rotating\n",
      "Car is ready to go!\n",
      "\n",
      "\n",
      "Stopping the car...\n",
      "Gear shifted to Park\n",
      "Engine stopped\n",
      "Car has come to a stop.\n"
     ]
    }
   ],
   "source": [
    "#10. Create a Python class for a car, using composition to represent components like the engine, wheels, and\n",
    "#transmission.\n",
    "\n",
    "class Engine:\n",
    "    def start(self):\n",
    "        print(\"Engine started\")\n",
    "\n",
    "    def stop(self):\n",
    "        print(\"Engine stopped\")\n",
    "\n",
    "class Wheels:\n",
    "    def rotate(self):\n",
    "        print(\"Wheels rotating\")\n",
    "\n",
    "class Transmission:\n",
    "    def shift_gear(self, gear):\n",
    "        print(f\"Gear shifted to {gear}\")\n",
    "\n",
    "class Car:\n",
    "    def __init__(self, engine, wheels, transmission):\n",
    "        self.engine = engine\n",
    "        self.wheels = wheels\n",
    "        self.transmission = transmission\n",
    "\n",
    "    def start(self):\n",
    "        print(\"Starting the car...\")\n",
    "        self.engine.start()\n",
    "        self.transmission.shift_gear(\"Drive\")\n",
    "        self.wheels.rotate()\n",
    "        print(\"Car is ready to go!\")\n",
    "\n",
    "    def stop(self):\n",
    "        print(\"Stopping the car...\")\n",
    "        self.transmission.shift_gear(\"Park\")\n",
    "        self.engine.stop()\n",
    "        print(\"Car has come to a stop.\")\n",
    "\n",
    "# Example usage\n",
    "my_engine = Engine()\n",
    "my_wheels = Wheels()\n",
    "my_transmission = Transmission()\n",
    "\n",
    "my_car = Car(engine=my_engine, wheels=my_wheels, transmission=my_transmission)\n",
    "\n",
    "my_car.start()\n",
    "print(\"\\n\")\n",
    "my_car.stop()\n",
    "\n"
   ]
  },
  {
   "cell_type": "code",
   "execution_count": 5,
   "id": "ef49ef5a-660e-479d-ad0a-23f81676bbdb",
   "metadata": {},
   "outputs": [
    {
     "name": "stdout",
     "output_type": "stream",
     "text": [
      "Starting the car...\n",
      "Engine started\n",
      "Gear shifted to Drive\n",
      "Wheels rotating\n",
      "Car is ready to go!\n",
      "\n",
      "\n",
      "Stopping the car...\n",
      "Gear shifted to Park\n",
      "Engine stopped\n",
      "Car has come to a stop.\n"
     ]
    }
   ],
   "source": [
    "class Engine:\n",
    "    def start(self):\n",
    "        print(\"Engine started\")\n",
    "\n",
    "    def stop(self):\n",
    "        print(\"Engine stopped\")\n",
    "\n",
    "class Wheels:\n",
    "    def rotate(self):\n",
    "        print(\"Wheels rotating\")\n",
    "\n",
    "class Transmission:\n",
    "    def shift_gear(self, gear):\n",
    "        print(f\"Gear shifted to {gear}\")\n",
    "\n",
    "class Car:\n",
    "    def __init__(self, engine, wheels, transmission):\n",
    "        self.engine = engine\n",
    "        self.wheels = wheels\n",
    "        self.transmission = transmission\n",
    "\n",
    "    def start(self):\n",
    "        print(\"Starting the car...\")\n",
    "        self.engine.start()\n",
    "        self.transmission.shift_gear(\"Drive\")\n",
    "        self.wheels.rotate()\n",
    "        print(\"Car is ready to go!\")\n",
    "\n",
    "    def stop(self):\n",
    "        print(\"Stopping the car...\")\n",
    "        self.transmission.shift_gear(\"Park\")\n",
    "        self.engine.stop()\n",
    "        print(\"Car has come to a stop.\")\n",
    "\n",
    "# Example usage\n",
    "my_engine = Engine()\n",
    "my_wheels = Wheels()\n",
    "my_transmission = Transmission()\n",
    "\n",
    "my_car = Car(engine=my_engine, wheels=my_wheels, transmission=my_transmission)\n",
    "\n",
    "my_car.start()\n",
    "print(\"\\n\")\n",
    "my_car.stop()\n"
   ]
  },
  {
   "cell_type": "markdown",
   "id": "d498672d-2f10-4d6e-8db5-b25d3450aa5e",
   "metadata": {},
   "source": [
    "# 11. How can you encapsulate and hide the details of composed objects in Python classes to maintain\n",
    "#abstraction?\n",
    "\n",
    "Encapsulation in Python involves restricting access to the internal details of an object and exposing only the necessary information through a well-defined interface. When using composition to create objects from simpler components, encapsulation becomes essential to maintain abstraction and hide the details of composed objects. Here are some techniques to achieve encapsulation in the context of composed objects:\n",
    "\n",
    "Private Attributes:\n",
    "\n",
    "Use private attributes by prefixing them with double underscores (__). This convention in Python makes attributes not directly accessible from outside the class.\n",
    "Encapsulate the attributes of composed objects to prevent direct access and modification.\n",
    "python\n",
    "Copy code\n",
    "class Car:\n",
    "    def __init__(self, engine, wheels, transmission):\n",
    "        self.__engine = engine\n",
    "        self.__wheels = wheels\n",
    "        self.__transmission = transmission\n",
    "\n",
    "    # Methods to access and interact with the components go here...\n",
    "Accessor Methods (Getters and Setters):\n",
    "\n",
    "Create accessor methods (getters and setters) to control access to the internal attributes. These methods allow controlled access and modification of the attributes.\n",
    "These methods provide an abstraction layer that allows you to enforce certain rules or checks when accessing or modifying attributes.\n",
    "python\n",
    "Copy code\n",
    "class Car:\n",
    "    def __init__(self, engine, wheels, transmission):\n",
    "        self.__engine = engine\n",
    "        self.__wheels = wheels\n",
    "        self.__transmission = transmission\n",
    "\n",
    "    def get_engine(self):\n",
    "        return self.__engine\n",
    "\n",
    "    def set_engine(self, new_engine):\n",
    "        # Additional checks or logic can be added here\n",
    "        self.__engine = new_engine\n",
    "\n",
    "    # Similar methods for wheels and transmission...\n",
    "Encapsulation within Methods:\n",
    "\n",
    "Encapsulate the interactions with composed objects within methods. Instead of exposing the internal components directly, create methods that provide a higher-level abstraction.\n",
    "python\n",
    "Copy code\n",
    "class Car:\n",
    "    def __init__(self, engine, wheels, transmission):\n",
    "        self.__engine = engine\n",
    "        self.__wheels = wheels\n",
    "        self.__transmission = transmission\n",
    "\n",
    "    def start(self):\n",
    "        self.__engine.start()\n",
    "        self.__transmission.shift_gear(\"Drive\")\n",
    "        self.__wheels.rotate()\n",
    "        print(\"Car is ready to go!\")\n",
    "\n",
    "    # Similar methods for stop, change_gear, etc...\n",
    "Use of Properties:\n",
    "\n",
    "Python properties allow you to define getter and setter methods in a way that looks like direct attribute access. This can be a cleaner way to encapsulate attributes.\n",
    "python\n",
    "Copy code\n",
    "class Car:\n",
    "    def __init__(self, engine, wheels, transmission):\n",
    "        self.__engine = engine\n",
    "        self.__wheels = wheels\n",
    "        self.__transmission = transmission\n",
    "\n",
    "    @property\n",
    "    def engine(self):\n",
    "        return self.__engine\n",
    "\n",
    "    @engine.setter\n",
    "    def engine(self, new_engine):\n",
    "        # Additional checks or logic can be added here\n",
    "        self.__engine = new_engine\n",
    "\n",
    "    # Similar properties for wheels and transmission...\n",
    "By applying these encapsulation techniques, you ensure that the internal details of composed objects are hidden from the outside world, maintaining abstraction and allowing you to control access and modification of the internal components. This contributes to a more robust and maintainable design, where changes to the internal structure of the composed objects won't have unintended consequences on the overall system.\n"
   ]
  },
  {
   "cell_type": "code",
   "execution_count": 6,
   "id": "8555e1ef-376a-44b5-a0f0-fd8ee4b36958",
   "metadata": {},
   "outputs": [
    {
     "name": "stdout",
     "output_type": "stream",
     "text": [
      "Course: CSCI101 - Introduction to Python\n",
      "Instructor: Dr. Smith\n",
      "Students:\n",
      "  - Alice\n",
      "  - Bob\n",
      "Course Material:\n",
      "  - Textbook: Introduction to Python Programming\n",
      "  - Syllabus: Week 1: Basics, Week 2: Data Structures, ...\n",
      "Alice enrolled in Introduction to Python\n",
      "Bob enrolled in Introduction to Python\n",
      "Dr. Smith is teaching Introduction to Python\n"
     ]
    }
   ],
   "source": [
    "#12. Create a Python class for a university course, using composition to represent students, instructors, and\n",
    "#course materials.\n",
    "\n",
    "class Student:\n",
    "    def __init__(self, student_id, name):\n",
    "        self.student_id = student_id\n",
    "        self.name = name\n",
    "\n",
    "    def enroll(self, course):\n",
    "        print(f\"{self.name} enrolled in {course}\")\n",
    "\n",
    "class Instructor:\n",
    "    def __init__(self, instructor_id, name):\n",
    "        self.instructor_id = instructor_id\n",
    "        self.name = name\n",
    "\n",
    "    def teach(self, course):\n",
    "        print(f\"{self.name} is teaching {course}\")\n",
    "\n",
    "class CourseMaterial:\n",
    "    def __init__(self, textbook, syllabus):\n",
    "        self.textbook = textbook\n",
    "        self.syllabus = syllabus\n",
    "\n",
    "class UniversityCourse:\n",
    "    def __init__(self, course_code, course_name, instructor, students, course_material):\n",
    "        self.course_code = course_code\n",
    "        self.course_name = course_name\n",
    "        self.instructor = instructor\n",
    "        self.students = students\n",
    "        self.course_material = course_material\n",
    "\n",
    "    def display_course_info(self):\n",
    "        print(f\"Course: {self.course_code} - {self.course_name}\")\n",
    "        print(\"Instructor:\", self.instructor.name)\n",
    "        print(\"Students:\")\n",
    "        for student in self.students:\n",
    "            print(f\"  - {student.name}\")\n",
    "        print(\"Course Material:\")\n",
    "        print(f\"  - Textbook: {self.course_material.textbook}\")\n",
    "        print(f\"  - Syllabus: {self.course_material.syllabus}\")\n",
    "\n",
    "# Example usage\n",
    "textbook = \"Introduction to Python Programming\"\n",
    "syllabus = \"Week 1: Basics, Week 2: Data Structures, ...\"\n",
    "\n",
    "instructor = Instructor(instructor_id=1, name=\"Dr. Smith\")\n",
    "student1 = Student(student_id=101, name=\"Alice\")\n",
    "student2 = Student(student_id=102, name=\"Bob\")\n",
    "\n",
    "students = [student1, student2]\n",
    "course_material = CourseMaterial(textbook=textbook, syllabus=syllabus)\n",
    "\n",
    "python_course = UniversityCourse(\n",
    "    course_code=\"CSCI101\",\n",
    "    course_name=\"Introduction to Python\",\n",
    "    instructor=instructor,\n",
    "    students=students,\n",
    "    course_material=course_material\n",
    ")\n",
    "\n",
    "# Display course information\n",
    "python_course.display_course_info()\n",
    "\n",
    "# Enroll students and start teaching\n",
    "for student in students:\n",
    "    student.enroll(python_course.course_name)\n",
    "\n",
    "instructor.teach(python_course.course_name)\n"
   ]
  },
  {
   "cell_type": "markdown",
   "id": "582ae81f-e263-4b61-aec3-107c6ac55e52",
   "metadata": {},
   "source": [
    "# 13. Discuss the challenges and drawbacks of composition, such as increased complexity and potential for\n",
    "#tight coupling between objects.\n",
    "\n",
    "While composition is a powerful design principle that promotes modularity and flexibility, it also comes with its challenges and potential drawbacks. Here are some of the challenges associated with composition:\n",
    "\n",
    "Increased Complexity:\n",
    "\n",
    "As the number of composed objects and their interactions grows, the overall complexity of the system may increase. Managing and understanding the relationships between components can become more challenging.\n",
    "Complex compositions may lead to more code, potentially making the system harder to maintain and debug.\n",
    "Potential for Tight Coupling:\n",
    "\n",
    "If not managed carefully, composition can lead to tight coupling between objects. Tight coupling means that the components are highly dependent on each other, making it difficult to modify one component without affecting others.\n",
    "Tight coupling can hinder code maintainability and reusability, as changes to one component may have ripple effects throughout the system.\n",
    "Increased Memory Overhead:\n",
    "\n",
    "Composition can result in increased memory overhead due to the need to store multiple objects and maintain their relationships. Each object has its own memory footprint, and managing the composition can add additional memory requirements.\n",
    "This can be a concern in resource-constrained environments or when dealing with large-scale systems.\n",
    "Potential for Over-Abstraction:\n",
    "\n",
    "Overuse of composition, especially when creating numerous small components, can lead to over-abstraction. Excessive abstraction may make the code harder to understand for developers who are unfamiliar with the system.\n",
    "Striking the right balance between abstraction and simplicity is crucial for a maintainable design.\n",
    "Increased Initialization Complexity:\n",
    "\n",
    "Initializing a composed object with its components can become complex, especially when there are multiple dependencies involved. This may lead to longer and more error-prone initialization processes.\n",
    "Proper dependency injection techniques can help mitigate this issue.\n",
    "Potential for Performance Overhead:\n",
    "\n",
    "Composition might introduce a performance overhead, particularly in situations where objects need to communicate frequently. The overhead may be due to method calls, indirect access to data, or additional layers of abstraction.\n",
    "Performance considerations should be taken into account, especially in real-time or performance-sensitive systems.\n",
    "Dependency Management Challenges:\n",
    "\n",
    "Managing dependencies between components can be challenging, especially in large and evolving codebases. Changes to one component may impact other components that depend on it.\n",
    "Effective dependency management and version control practices become crucial to address this challenge.\n",
    "Difficulties in Code Navigation:\n",
    "\n",
    "In highly composed systems, understanding the flow of execution and navigating the codebase may become challenging. Developers might find it harder to follow the sequence of interactions between components.\n",
    "Proper documentation and code organization practices can help mitigate this challenge.\n",
    "To address these challenges, developers should apply good design practices, such as designing clear interfaces, practicing proper encapsulation, and avoiding unnecessary levels of abstraction. Additionally, using design patterns like Dependency Injection can help manage dependencies and reduce tight coupling. It's important to strike a balance between the benefits of composition and the potential drawbacks, considering the specific requirements and constraints of the project."
   ]
  },
  {
   "cell_type": "code",
   "execution_count": 7,
   "id": "e61cc8da-a466-4c7f-8560-9991d5414c31",
   "metadata": {},
   "outputs": [
    {
     "name": "stdout",
     "output_type": "stream",
     "text": [
      "Welcome to Delicious Bites!\n",
      "Available Menus:\n",
      "Pizza Menu Menu:\n",
      "- Margherita Pizza\n",
      "- Vegetarian Pizza\n",
      "Burger Menu Menu:\n",
      "- Classic Burger\n"
     ]
    }
   ],
   "source": [
    "#14. Create a Python class hierarchy for a restaurant system, using composition to represent menus, dishes,\n",
    "#and ingredients.\n",
    "\n",
    "class Ingredient:\n",
    "    def __init__(self, name):\n",
    "        self.name = name\n",
    "\n",
    "class Dish:\n",
    "    def __init__(self, name, ingredients):\n",
    "        self.name = name\n",
    "        self.ingredients = ingredients\n",
    "\n",
    "    def display_dish(self):\n",
    "        print(f\"{self.name} Ingredients:\")\n",
    "        for ingredient in self.ingredients:\n",
    "            print(f\"  - {ingredient.name}\")\n",
    "\n",
    "class Menu:\n",
    "    def __init__(self, name, dishes):\n",
    "        self.name = name\n",
    "        self.dishes = dishes\n",
    "\n",
    "    def display_menu(self):\n",
    "        print(f\"{self.name} Menu:\")\n",
    "        for dish in self.dishes:\n",
    "            print(f\"- {dish.name}\")\n",
    "\n",
    "class Restaurant:\n",
    "    def __init__(self, name, menus):\n",
    "        self.name = name\n",
    "        self.menus = menus\n",
    "\n",
    "    def display_restaurant_info(self):\n",
    "        print(f\"Welcome to {self.name}!\")\n",
    "        print(\"Available Menus:\")\n",
    "        for menu in self.menus:\n",
    "            menu.display_menu()\n",
    "\n",
    "# Example usage\n",
    "ingredient1 = Ingredient(name=\"Tomato\")\n",
    "ingredient2 = Ingredient(name=\"Cheese\")\n",
    "ingredient3 = Ingredient(name=\"Dough\")\n",
    "ingredient4 = Ingredient(name=\"Mushroom\")\n",
    "\n",
    "dish1 = Dish(name=\"Margherita Pizza\", ingredients=[ingredient1, ingredient2, ingredient3])\n",
    "dish2 = Dish(name=\"Vegetarian Pizza\", ingredients=[ingredient1, ingredient2, ingredient3, ingredient4])\n",
    "\n",
    "menu1 = Menu(name=\"Pizza Menu\", dishes=[dish1, dish2])\n",
    "\n",
    "ingredient5 = Ingredient(name=\"Beef\")\n",
    "ingredient6 = Ingredient(name=\"Bun\")\n",
    "ingredient7 = Ingredient(name=\"Lettuce\")\n",
    "ingredient8 = Ingredient(name=\"Tomato\")\n",
    "\n",
    "dish3 = Dish(name=\"Classic Burger\", ingredients=[ingredient5, ingredient6, ingredient7, ingredient8])\n",
    "\n",
    "menu2 = Menu(name=\"Burger Menu\", dishes=[dish3])\n",
    "\n",
    "restaurant = Restaurant(name=\"Delicious Bites\", menus=[menu1, menu2])\n",
    "\n",
    "# Display restaurant information\n",
    "restaurant.display_restaurant_info()\n"
   ]
  },
  {
   "cell_type": "markdown",
   "id": "c8c5a07e-7e0e-4bbe-ae04-4f4f7f94e753",
   "metadata": {},
   "source": [
    "# 15. Explain how composition enhances code maintainability and modularity in Python programs.\n",
    "\n",
    "Composition enhances code maintainability and modularity in Python programs by promoting a design approach that emphasizes building complex objects by combining simpler, independent components. Here's how composition contributes to these aspects:\n",
    "\n",
    "Modularity:\n",
    "\n",
    "Independent Components: Composition allows you to create independent and self-contained components. Each class or module can focus on a specific functionality or responsibility without being tightly coupled to others.\n",
    "Separation of Concerns: Components in a composition-based design represent distinct concerns or features. This separation of concerns makes the codebase modular, and changes in one component have minimal impact on others.\n",
    "Code Reusability:\n",
    "\n",
    "Reusable Components: Composition facilitates the creation of reusable components. Since each component has a specific responsibility, it can be reused in different contexts or projects without bringing unnecessary dependencies.\n",
    "Plug-and-Play Design: Components can be easily replaced or added, following the \"plug-and-play\" principle. This flexibility allows developers to swap out components or extend functionality without major modifications.\n",
    "Ease of Understanding:\n",
    "\n",
    "Clear Interfaces: Composition encourages the definition of clear interfaces for each component. This makes it easier for developers to understand how to interact with and use each module or class.\n",
    "Abstraction of Complexity: By breaking down a complex system into smaller, manageable components, composition abstracts away the intricacies of each component, making the codebase more understandable.\n",
    "Encapsulation:\n",
    "\n",
    "Hidden Implementation Details: Composition allows you to encapsulate the implementation details of each component. External code interacts with the composed object through well-defined interfaces, reducing the risk of unintended side effects when making changes.\n",
    "Information Hiding: Encapsulation through composition supports information hiding, where the internal details of a component are hidden from the rest of the system. This promotes a more secure and maintainable codebase.\n",
    "Easy Testing and Debugging:\n",
    "\n",
    "Isolated Testing: Components can be tested in isolation, allowing for focused unit testing. This simplifies the testing process as you can verify the correctness of each component independently.\n",
    "Debugging Ease: When issues arise, having modular components makes it easier to identify the source of the problem. Developers can focus on the specific module or class involved, reducing the scope of investigation.\n",
    "Flexible Design Changes:\n",
    "\n",
    "Adaptability: Composition supports an adaptable design. As requirements change, new components can be added or existing ones can be replaced, ensuring that the system can evolve without requiring extensive modifications.\n",
    "Scalability: A modular design through composition facilitates the scalability of the codebase. It becomes easier to extend the system by introducing new components without affecting existing functionality.\n",
    "Reduced Code Duplication:\n",
    "\n",
    "Reuse Instead of Copy-Paste: Composition promotes the reuse of existing components, reducing the need for code duplication. Components with similar functionalities can be reused across different parts of the system, leading to a more DRY (Don't Repeat Yourself) codebase.\n",
    "Maintainable Interfaces:\n",
    "\n",
    "Stable Interfaces: Well-designed interfaces between components remain stable even when the implementation details change. This stability makes it easier to maintain and evolve the system over time without disrupting external code.\n",
    "In summary, composition in Python encourages a modular and reusable design, promoting clear interfaces, encapsulation, and code separation. This approach enhances code maintainability by facilitating easy updates, reducing dependencies, and isolating changes to specific components. The resulting modular codebase is more flexible, adaptable, and easier to understand, test, and extend."
   ]
  },
  {
   "cell_type": "code",
   "execution_count": 9,
   "id": "dea82500-b3c2-43d9-b25c-1dd24ba5082e",
   "metadata": {},
   "outputs": [
    {
     "name": "stdout",
     "output_type": "stream",
     "text": [
      "Hero attacks Enemy with Sword for 10 damage.\n",
      "Enemy takes 10 damage. Remaining health: 40\n",
      "Enemy attacks Hero for 1 damage.\n",
      "Hero takes 0 damage. Remaining health: 100\n"
     ]
    }
   ],
   "source": [
    "#16. Create a Python class for a computer game character, using composition to represent attributes like\n",
    "#weapons, armor, and inventory\n",
    "class Weapon:\n",
    "    def __init__(self, name, damage):\n",
    "        self.name = name\n",
    "        self.damage = damage\n",
    "\n",
    "class Armor:\n",
    "    def __init__(self, name, defense):\n",
    "        self.name = name\n",
    "        self.defense = defense\n",
    "\n",
    "class Inventory:\n",
    "    def __init__(self):\n",
    "        self.items = []\n",
    "\n",
    "    def add_item(self, item):\n",
    "        self.items.append(item)\n",
    "\n",
    "class GameCharacter:\n",
    "    def __init__(self, name, health, weapon=None, armor=None):\n",
    "        self.name = name\n",
    "        self.health = health\n",
    "        self.weapon = weapon\n",
    "        self.armor = armor\n",
    "        self.inventory = Inventory()\n",
    "\n",
    "    def equip_weapon(self, weapon):\n",
    "        self.weapon = weapon\n",
    "        print(f\"{self.name} equipped {weapon.name}\")\n",
    "\n",
    "    def equip_armor(self, armor):\n",
    "        self.armor = armor\n",
    "        print(f\"{self.name} equipped {armor.name}\")\n",
    "\n",
    "    def attack(self, target):\n",
    "        if self.weapon:\n",
    "            damage_dealt = self.weapon.damage\n",
    "            print(f\"{self.name} attacks {target.name} with {self.weapon.name} for {damage_dealt} damage.\")\n",
    "            target.take_damage(damage_dealt)\n",
    "        else:\n",
    "            print(f\"{self.name} attacks {target.name} for 1 damage.\")\n",
    "            target.take_damage(1)\n",
    "\n",
    "    def take_damage(self, damage):\n",
    "        if self.armor:\n",
    "            damage -= self.armor.defense\n",
    "            damage = max(0, damage)  # Ensure damage doesn't go below 0\n",
    "\n",
    "        self.health -= damage\n",
    "        print(f\"{self.name} takes {damage} damage. Remaining health: {self.health}\")\n",
    "\n",
    "# Example usage\n",
    "sword = Weapon(name=\"Sword\", damage=10)\n",
    "shield = Armor(name=\"Shield\", defense=5)\n",
    "\n",
    "player_character = GameCharacter(name=\"Hero\", health=100, weapon=sword, armor=shield)\n",
    "\n",
    "enemy_character = GameCharacter(name=\"Enemy\", health=50)\n",
    "\n",
    "player_character.attack(enemy_character)\n",
    "enemy_character.attack(player_character)\n"
   ]
  },
  {
   "cell_type": "markdown",
   "id": "e229f511-51ee-4b9d-93f9-1f6ae6388ec6",
   "metadata": {},
   "source": [
    "# 17. Describe the concept of \"aggregation\" in composition and how it differs from simple composition.\n",
    "\n",
    "\"Aggregation\" is a form of composition in object-oriented programming that represents a relationship between a whole object and its parts. It is a more relaxed form of composition compared to strict composition, allowing the parts (components) to exist independently of the whole. In aggregation, the lifetime of the contained objects is not strictly tied to the lifetime of the containing object.\n",
    "\n",
    "Here are key characteristics of aggregation:\n",
    "\n",
    "Independence of Lifetimes:\n",
    "\n",
    "In aggregation, the parts (or components) can exist independently of the whole object. This means that creating or destroying the whole object does not necessarily create or destroy the contained objects.\n",
    "The contained objects can be created, modified, and destroyed independently of the containing object.\n",
    "Weaker Relationship:\n",
    "\n",
    "Aggregation implies a weaker relationship between the whole and its parts compared to strict composition. The parts are not considered an integral part of the whole, and they can be reused or shared among different wholes.\n",
    "\"Has-a\" Relationship:\n",
    "\n",
    "Aggregation typically represents a \"has-a\" relationship, where an object has other objects as parts. For example, a university \"has\" students, but students can exist independently of a specific university.\n",
    "Multiplicity:\n",
    "\n",
    "Aggregation allows for multiplicity, meaning that a whole object can be associated with multiple parts. Conversely, a part can be associated with multiple wholes.\n",
    "This multiplicity provides flexibility and supports scenarios where a component can be shared among different objects.\n",
    "Let's illustrate the concept of aggregation with a Python example:\n",
    "\n",
    "python\n",
    "Copy code\n",
    "class Department:\n",
    "    def __init__(self, name):\n",
    "        self.name = name\n",
    "        self.students = []  # Aggregated objects (parts)\n",
    "\n",
    "    def add_student(self, student):\n",
    "        self.students.append(student)\n",
    "\n",
    "class Student:\n",
    "    def __init__(self, name, student_id):\n",
    "        self.name = name\n",
    "        self.student_id = student_id\n",
    "\n",
    "# Example usage\n",
    "math_department = Department(name=\"Mathematics\")\n",
    "\n",
    "alice = Student(name=\"Alice\", student_id=101)\n",
    "bob = Student(name=\"Bob\", student_id=102)\n",
    "\n",
    "math_department.add_student(alice)\n",
    "math_department.add_student(bob)\n",
    "\n",
    "# The students exist independently of the department\n",
    "print(alice.name)  # Output: Alice\n",
    "print(math_department.students[0].name)  # Output: Alice\n",
    "In this example:\n",
    "\n",
    "The Department class represents a department in a university, and it aggregates Student objects.\n",
    "The Student class represents individual students.\n",
    "The Department can add students to its list of students, and students can exist independently of any specific department.\n",
    "This example demonstrates the concept of aggregation where a department \"has\" students, but students can exist independently and can be associated with multiple departments.\n",
    "\n",
    "In summary, while composition implies a strong ownership and lifecycle dependency between the whole and its parts, aggregation is a more flexible and loosely coupled form of composition, allowing for independent lifetimes and shared components among different objects."
   ]
  },
  {
   "cell_type": "code",
   "execution_count": 10,
   "id": "04c3da10-7d71-4cf3-8363-0f02310c3128",
   "metadata": {},
   "outputs": [
    {
     "name": "stdout",
     "output_type": "stream",
     "text": [
      "Welcome to Cozy Home!\n",
      "\n",
      "Bedroom:\n",
      "Furniture:\n",
      "  - Bed\n",
      "Appliances:\n",
      "\n",
      "Living Room:\n",
      "Furniture:\n",
      "  - Sofa\n",
      "Appliances:\n",
      "\n",
      "Kitchen:\n",
      "Furniture:\n",
      "Appliances:\n",
      "  - Fridge\n",
      "  - Oven\n"
     ]
    }
   ],
   "source": [
    "#18. Create a Python class for a house, using composition to represent rooms, furniture, and appliances.\n",
    "\n",
    "class Furniture:\n",
    "    def __init__(self, name):\n",
    "        self.name = name\n",
    "\n",
    "class Appliance:\n",
    "    def __init__(self, name):\n",
    "        self.name = name\n",
    "\n",
    "class Room:\n",
    "    def __init__(self, name):\n",
    "        self.name = name\n",
    "        self.furniture = []\n",
    "        self.appliances = []\n",
    "\n",
    "    def add_furniture(self, furniture):\n",
    "        self.furniture.append(furniture)\n",
    "\n",
    "    def add_appliance(self, appliance):\n",
    "        self.appliances.append(appliance)\n",
    "\n",
    "class House:\n",
    "    def __init__(self, name):\n",
    "        self.name = name\n",
    "        self.rooms = []\n",
    "\n",
    "    def add_room(self, room):\n",
    "        self.rooms.append(room)\n",
    "\n",
    "# Example usage\n",
    "bed = Furniture(name=\"Bed\")\n",
    "sofa = Furniture(name=\"Sofa\")\n",
    "\n",
    "fridge = Appliance(name=\"Fridge\")\n",
    "oven = Appliance(name=\"Oven\")\n",
    "\n",
    "bedroom = Room(name=\"Bedroom\")\n",
    "living_room = Room(name=\"Living Room\")\n",
    "kitchen = Room(name=\"Kitchen\")\n",
    "\n",
    "bedroom.add_furniture(bed)\n",
    "living_room.add_furniture(sofa)\n",
    "kitchen.add_appliance(fridge)\n",
    "kitchen.add_appliance(oven)\n",
    "\n",
    "my_house = House(name=\"Cozy Home\")\n",
    "my_house.add_room(bedroom)\n",
    "my_house.add_room(living_room)\n",
    "my_house.add_room(kitchen)\n",
    "\n",
    "# Display house information\n",
    "print(f\"Welcome to {my_house.name}!\")\n",
    "for room in my_house.rooms:\n",
    "    print(f\"\\n{room.name}:\")\n",
    "    print(\"Furniture:\")\n",
    "    for furniture in room.furniture:\n",
    "        print(f\"  - {furniture.name}\")\n",
    "    print(\"Appliances:\")\n",
    "    for appliance in room.appliances:\n",
    "        print(f\"  - {appliance.name}\")\n"
   ]
  },
  {
   "cell_type": "code",
   "execution_count": null,
   "id": "5801598a-190d-4a50-949a-1c68105763a4",
   "metadata": {},
   "outputs": [],
   "source": [
    "#19. How can you achieve flexibility in composed objects by allowing them to be replaced or modified\n",
    "#dynamically at runtime?"
   ]
  }
 ],
 "metadata": {
  "kernelspec": {
   "display_name": "Python 3 (ipykernel)",
   "language": "python",
   "name": "python3"
  },
  "language_info": {
   "codemirror_mode": {
    "name": "ipython",
    "version": 3
   },
   "file_extension": ".py",
   "mimetype": "text/x-python",
   "name": "python",
   "nbconvert_exporter": "python",
   "pygments_lexer": "ipython3",
   "version": "3.10.8"
  }
 },
 "nbformat": 4,
 "nbformat_minor": 5
}
